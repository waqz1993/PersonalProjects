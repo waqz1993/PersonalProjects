{
 "cells": [
  {
   "cell_type": "markdown",
   "id": "86fbf33f",
   "metadata": {},
   "source": [
    "# Contents\n",
    "1. Introduction <br>\n",
    "    1.1. Import Libraries<br>\n",
    "    1.2. Terminology <br>\n",
    "    \n",
    "    \n",
    "2. Gathering and Cleaning Data <br> \n",
    "    2.1. Player Data <br>\n",
    "    2.2. Fixture Data <br>\n",
    "    2.3. Game Data <br>\n",
    "    \n",
    "    \n",
    "3. Data Engineering (Team Data) <br>\n",
    "    3.1. Team npxG <br>\n",
    "    3.2. Team npxG (Home Fixtures) <br>\n",
    "    3.3. Team npxG (Away Fixtures) <br>\n",
    "    3.4. Team npxGA <br>\n",
    "    3.5. Team npxGA (Home Fixtures) <br>\n",
    "    3.6. Team npxGA (Away Fixtures) <br>\n",
    "    \n",
    "    \n",
    "4. Home/Away Modifiers for npxG/npxGA <br>\n",
    "    4.1. Home/Away Modifier Calculation <br>\n",
    "    4.2. Dictionaries <br> \n",
    "\n",
    "\n",
    "5. Team Fixture Tables <br>\n",
    "    5.1. Home Fixture Table <br>\n",
    "    5.2. Away Fixture Table <br>\n",
    "    5.3. Home Fixture Table - Insert Stats <br> \n",
    "    5.4. Away Fixture Table - Insert Stats <br>\n",
    "    5.5. Finalizing Fixture Table <br>\n",
    "    \n",
    "    \n",
    "6. Data Engineering (Player Data) - Fuzzy Matching Included <br>\n",
    "    6.1. Player npxG and xAG <br> \n",
    "    6.2. Fuzzy Matching <br>\n",
    "    \n",
    "    \n",
    "7. Players Fixture Tables <br>\n",
    "    7.1. Merge with Team Data <br>\n",
    "    7.2. Home Fixture Table <br>\n",
    "    7.3. Away Fixture Table <br>\n",
    "    7.4. Finalizing Fixture Table <br>\n",
    "    \n",
    "    \n",
    "8. Final Dataframes <br>\n",
    "    8.1. Team Stats <br>\n",
    "    8.2. Team Fixture Tables <br>\n",
    "    8.3. Team npxG Predictions <br> \n",
    "    8.4. Player npxG and xAG Predictions <br>"
   ]
  },
  {
   "cell_type": "markdown",
   "id": "e38ad720",
   "metadata": {},
   "source": [
    "# 1. Introduction \n",
    "\n",
    "Welcome to our Fantasy Premier League (FPL) kernel! We will be gathering data from the official FPL API and popular football stats website FBref to produce a prediction system for expected goals, assists and goals conceeded for each team and player in the premier league for the upcoming five gameweeks.   "
   ]
  },
  {
   "cell_type": "markdown",
   "id": "eca6999a",
   "metadata": {},
   "source": [
    "## 1.1. Import Libraries"
   ]
  },
  {
   "cell_type": "code",
   "execution_count": 1,
   "id": "05ca53ea",
   "metadata": {},
   "outputs": [
    {
     "data": {
      "text/html": [
       "<pre style=\"white-space:pre;overflow-x:auto;line-height:normal;font-family:Menlo,'DejaVu Sans Mono',consolas,'Courier New',monospace\"><span style=\"color: #7fbfbf; text-decoration-color: #7fbfbf\">[02/10/23 15:08:38] </span><span style=\"color: #000080; text-decoration-color: #000080\">INFO    </span> No custom team name replacements found. You can configure these in       <a href=\"file://C:\\Users\\waqas\\anaconda3\\lib\\site-packages\\soccerdata\\_config.py\" target=\"_blank\"><span style=\"color: #7f7f7f; text-decoration-color: #7f7f7f\">_config.py</span></a><span style=\"color: #7f7f7f; text-decoration-color: #7f7f7f\">:</span><a href=\"file://C:\\Users\\waqas\\anaconda3\\lib\\site-packages\\soccerdata\\_config.py#85\" target=\"_blank\"><span style=\"color: #7f7f7f; text-decoration-color: #7f7f7f\">85</span></a>\n",
       "<span style=\"color: #7fbfbf; text-decoration-color: #7fbfbf\">                    </span>         C:\\Users\\waqas\\soccerdata\\config\\teamname_replacements.json.             <span style=\"color: #7f7f7f; text-decoration-color: #7f7f7f\">             </span>\n",
       "</pre>\n"
      ],
      "text/plain": [
       "\u001b[2;36m[02/10/23 15:08:38]\u001b[0m\u001b[2;36m \u001b[0m\u001b[34mINFO    \u001b[0m No custom team name replacements found. You can configure these in       \u001b]8;id=695210;file://C:\\Users\\waqas\\anaconda3\\lib\\site-packages\\soccerdata\\_config.py\u001b\\\u001b[2m_config.py\u001b[0m\u001b]8;;\u001b\\\u001b[2m:\u001b[0m\u001b]8;id=972391;file://C:\\Users\\waqas\\anaconda3\\lib\\site-packages\\soccerdata\\_config.py#85\u001b\\\u001b[2m85\u001b[0m\u001b]8;;\u001b\\\n",
       "\u001b[2;36m                    \u001b[0m         C:\\Users\\waqas\\soccerdata\\config\\teamname_replacements.json.             \u001b[2m             \u001b[0m\n"
      ]
     },
     "metadata": {},
     "output_type": "display_data"
    },
    {
     "data": {
      "text/html": [
       "<pre style=\"white-space:pre;overflow-x:auto;line-height:normal;font-family:Menlo,'DejaVu Sans Mono',consolas,'Courier New',monospace\"><span style=\"color: #7fbfbf; text-decoration-color: #7fbfbf\">                    </span><span style=\"color: #000080; text-decoration-color: #000080\">INFO    </span> No custom league dict found. You can configure additional leagues in    <a href=\"file://C:\\Users\\waqas\\anaconda3\\lib\\site-packages\\soccerdata\\_config.py\" target=\"_blank\"><span style=\"color: #7f7f7f; text-decoration-color: #7f7f7f\">_config.py</span></a><span style=\"color: #7f7f7f; text-decoration-color: #7f7f7f\">:</span><a href=\"file://C:\\Users\\waqas\\anaconda3\\lib\\site-packages\\soccerdata\\_config.py#159\" target=\"_blank\"><span style=\"color: #7f7f7f; text-decoration-color: #7f7f7f\">159</span></a>\n",
       "<span style=\"color: #7fbfbf; text-decoration-color: #7fbfbf\">                    </span>         C:\\Users\\waqas\\soccerdata\\config\\league_dict.json.                      <span style=\"color: #7f7f7f; text-decoration-color: #7f7f7f\">              </span>\n",
       "</pre>\n"
      ],
      "text/plain": [
       "\u001b[2;36m                   \u001b[0m\u001b[2;36m \u001b[0m\u001b[34mINFO    \u001b[0m No custom league dict found. You can configure additional leagues in    \u001b]8;id=778498;file://C:\\Users\\waqas\\anaconda3\\lib\\site-packages\\soccerdata\\_config.py\u001b\\\u001b[2m_config.py\u001b[0m\u001b]8;;\u001b\\\u001b[2m:\u001b[0m\u001b]8;id=364067;file://C:\\Users\\waqas\\anaconda3\\lib\\site-packages\\soccerdata\\_config.py#159\u001b\\\u001b[2m159\u001b[0m\u001b]8;;\u001b\\\n",
       "\u001b[2;36m                    \u001b[0m         C:\\Users\\waqas\\soccerdata\\config\\league_dict.json.                      \u001b[2m              \u001b[0m\n"
      ]
     },
     "metadata": {},
     "output_type": "display_data"
    }
   ],
   "source": [
    "import pandas as pd\n",
    "import numpy as np\n",
    "from datetime import datetime\n",
    "import warnings\n",
    "warnings.filterwarnings('ignore')\n",
    "import soccerdata as sd\n",
    "import re\n",
    "from IPython.core.interactiveshell import InteractiveShell\n",
    "InteractiveShell.ast_node_interactivity = \"all\"\n",
    "from itertools import repeat\n",
    "from fpl import FPL\n",
    "import requests, json\n",
    "from thefuzz import fuzz, process\n",
    "from sklearn.preprocessing import MinMaxScaler"
   ]
  },
  {
   "cell_type": "markdown",
   "id": "7883142f",
   "metadata": {},
   "source": [
    "## 1.2. Terminology\n",
    "\n",
    "\n",
    "### Non-Penalty Expected Goals (npxG)\n",
    "Non-penalty expected goals (npxG) is the probability that a non-penalty shot will result in a goal. This metric is known to be the best predictor for future goals. \n",
    "\n",
    "### Non-Penalty Expected Goals Against (npxGA)\n",
    "Non-penalty expected goals against (npxGA) is the probability that an opponent's non-penalty shot will result in a goal conceeded.\n",
    "\n",
    "### Expected Assist (xAG)\n",
    "Expected assists (xAG) is the probability that a given pass will become an assist to a goal."
   ]
  },
  {
   "cell_type": "markdown",
   "id": "6ebe6f18",
   "metadata": {},
   "source": [
    "# 2. Gathering and Cleaning Data\n",
    "\n",
    "We need to gather data from the FPL API and the FBref site. The former will be accessed directly. The latter will be accessed using a python library (soccerdata) which serves as a wrapper. "
   ]
  },
  {
   "cell_type": "markdown",
   "id": "35ef6bd8",
   "metadata": {},
   "source": [
    "## 2.1. Player Data\n",
    "\n",
    "\n",
    "We'll be gathering 3 datasets from the official FPL API and joining them;\n",
    "\n",
    "Team\n",
    "\n",
    "Player\n",
    "\n",
    "Player position "
   ]
  },
  {
   "cell_type": "code",
   "execution_count": 2,
   "id": "4ef88221",
   "metadata": {},
   "outputs": [
    {
     "data": {
      "text/html": [
       "<div>\n",
       "<style scoped>\n",
       "    .dataframe tbody tr th:only-of-type {\n",
       "        vertical-align: middle;\n",
       "    }\n",
       "\n",
       "    .dataframe tbody tr th {\n",
       "        vertical-align: top;\n",
       "    }\n",
       "\n",
       "    .dataframe thead th {\n",
       "        text-align: right;\n",
       "    }\n",
       "</style>\n",
       "<table border=\"1\" class=\"dataframe\">\n",
       "  <thead>\n",
       "    <tr style=\"text-align: right;\">\n",
       "      <th></th>\n",
       "      <th>code</th>\n",
       "      <th>draw</th>\n",
       "      <th>form</th>\n",
       "      <th>id</th>\n",
       "      <th>loss</th>\n",
       "      <th>name</th>\n",
       "      <th>played</th>\n",
       "      <th>points</th>\n",
       "      <th>position</th>\n",
       "      <th>short_name</th>\n",
       "      <th>...</th>\n",
       "      <th>team_division</th>\n",
       "      <th>unavailable</th>\n",
       "      <th>win</th>\n",
       "      <th>strength_overall_home</th>\n",
       "      <th>strength_overall_away</th>\n",
       "      <th>strength_attack_home</th>\n",
       "      <th>strength_attack_away</th>\n",
       "      <th>strength_defence_home</th>\n",
       "      <th>strength_defence_away</th>\n",
       "      <th>pulse_id</th>\n",
       "    </tr>\n",
       "  </thead>\n",
       "  <tbody>\n",
       "    <tr>\n",
       "      <th>0</th>\n",
       "      <td>3</td>\n",
       "      <td>0</td>\n",
       "      <td>None</td>\n",
       "      <td>1</td>\n",
       "      <td>0</td>\n",
       "      <td>Arsenal</td>\n",
       "      <td>0</td>\n",
       "      <td>0</td>\n",
       "      <td>0</td>\n",
       "      <td>ARS</td>\n",
       "      <td>...</td>\n",
       "      <td>None</td>\n",
       "      <td>False</td>\n",
       "      <td>0</td>\n",
       "      <td>1220</td>\n",
       "      <td>1270</td>\n",
       "      <td>1240</td>\n",
       "      <td>1250</td>\n",
       "      <td>1200</td>\n",
       "      <td>1270</td>\n",
       "      <td>1</td>\n",
       "    </tr>\n",
       "    <tr>\n",
       "      <th>1</th>\n",
       "      <td>7</td>\n",
       "      <td>0</td>\n",
       "      <td>None</td>\n",
       "      <td>2</td>\n",
       "      <td>0</td>\n",
       "      <td>Aston Villa</td>\n",
       "      <td>0</td>\n",
       "      <td>0</td>\n",
       "      <td>0</td>\n",
       "      <td>AVL</td>\n",
       "      <td>...</td>\n",
       "      <td>None</td>\n",
       "      <td>False</td>\n",
       "      <td>0</td>\n",
       "      <td>1090</td>\n",
       "      <td>1100</td>\n",
       "      <td>1110</td>\n",
       "      <td>1130</td>\n",
       "      <td>1090</td>\n",
       "      <td>1110</td>\n",
       "      <td>2</td>\n",
       "    </tr>\n",
       "    <tr>\n",
       "      <th>2</th>\n",
       "      <td>91</td>\n",
       "      <td>0</td>\n",
       "      <td>None</td>\n",
       "      <td>3</td>\n",
       "      <td>0</td>\n",
       "      <td>Bournemouth</td>\n",
       "      <td>0</td>\n",
       "      <td>0</td>\n",
       "      <td>0</td>\n",
       "      <td>BOU</td>\n",
       "      <td>...</td>\n",
       "      <td>None</td>\n",
       "      <td>False</td>\n",
       "      <td>0</td>\n",
       "      <td>1060</td>\n",
       "      <td>1090</td>\n",
       "      <td>1070</td>\n",
       "      <td>1130</td>\n",
       "      <td>1050</td>\n",
       "      <td>1080</td>\n",
       "      <td>127</td>\n",
       "    </tr>\n",
       "  </tbody>\n",
       "</table>\n",
       "<p>3 rows × 21 columns</p>\n",
       "</div>"
      ],
      "text/plain": [
       "   code  draw  form  id  loss         name  played  points  position  \\\n",
       "0     3     0  None   1     0      Arsenal       0       0         0   \n",
       "1     7     0  None   2     0  Aston Villa       0       0         0   \n",
       "2    91     0  None   3     0  Bournemouth       0       0         0   \n",
       "\n",
       "  short_name  ...  team_division unavailable  win  strength_overall_home  \\\n",
       "0        ARS  ...           None       False    0                   1220   \n",
       "1        AVL  ...           None       False    0                   1090   \n",
       "2        BOU  ...           None       False    0                   1060   \n",
       "\n",
       "   strength_overall_away  strength_attack_home  strength_attack_away  \\\n",
       "0                   1270                  1240                  1250   \n",
       "1                   1100                  1110                  1130   \n",
       "2                   1090                  1070                  1130   \n",
       "\n",
       "   strength_defence_home  strength_defence_away  pulse_id  \n",
       "0                   1200                   1270         1  \n",
       "1                   1090                   1110         2  \n",
       "2                   1050                   1080       127  \n",
       "\n",
       "[3 rows x 21 columns]"
      ]
     },
     "execution_count": 2,
     "metadata": {},
     "output_type": "execute_result"
    },
    {
     "data": {
      "text/html": [
       "<div>\n",
       "<style scoped>\n",
       "    .dataframe tbody tr th:only-of-type {\n",
       "        vertical-align: middle;\n",
       "    }\n",
       "\n",
       "    .dataframe tbody tr th {\n",
       "        vertical-align: top;\n",
       "    }\n",
       "\n",
       "    .dataframe thead th {\n",
       "        text-align: right;\n",
       "    }\n",
       "</style>\n",
       "<table border=\"1\" class=\"dataframe\">\n",
       "  <thead>\n",
       "    <tr style=\"text-align: right;\">\n",
       "      <th></th>\n",
       "      <th>chance_of_playing_next_round</th>\n",
       "      <th>chance_of_playing_this_round</th>\n",
       "      <th>code</th>\n",
       "      <th>cost_change_event</th>\n",
       "      <th>cost_change_event_fall</th>\n",
       "      <th>cost_change_start</th>\n",
       "      <th>cost_change_start_fall</th>\n",
       "      <th>dreamteam_count</th>\n",
       "      <th>element_type</th>\n",
       "      <th>ep_next</th>\n",
       "      <th>...</th>\n",
       "      <th>now_cost_rank</th>\n",
       "      <th>now_cost_rank_type</th>\n",
       "      <th>form_rank</th>\n",
       "      <th>form_rank_type</th>\n",
       "      <th>points_per_game_rank</th>\n",
       "      <th>points_per_game_rank_type</th>\n",
       "      <th>selected_rank</th>\n",
       "      <th>selected_rank_type</th>\n",
       "      <th>starts_per_90</th>\n",
       "      <th>clean_sheets_per_90</th>\n",
       "    </tr>\n",
       "  </thead>\n",
       "  <tbody>\n",
       "    <tr>\n",
       "      <th>0</th>\n",
       "      <td>NaN</td>\n",
       "      <td>NaN</td>\n",
       "      <td>84450</td>\n",
       "      <td>-1</td>\n",
       "      <td>1</td>\n",
       "      <td>-1</td>\n",
       "      <td>1</td>\n",
       "      <td>1</td>\n",
       "      <td>3</td>\n",
       "      <td>6.6</td>\n",
       "      <td>...</td>\n",
       "      <td>239</td>\n",
       "      <td>138</td>\n",
       "      <td>79</td>\n",
       "      <td>27</td>\n",
       "      <td>59</td>\n",
       "      <td>26</td>\n",
       "      <td>101</td>\n",
       "      <td>34</td>\n",
       "      <td>1.06</td>\n",
       "      <td>0.42</td>\n",
       "    </tr>\n",
       "    <tr>\n",
       "      <th>1</th>\n",
       "      <td>0.0</td>\n",
       "      <td>0.0</td>\n",
       "      <td>153256</td>\n",
       "      <td>0</td>\n",
       "      <td>0</td>\n",
       "      <td>-4</td>\n",
       "      <td>4</td>\n",
       "      <td>1</td>\n",
       "      <td>3</td>\n",
       "      <td>0.0</td>\n",
       "      <td>...</td>\n",
       "      <td>625</td>\n",
       "      <td>320</td>\n",
       "      <td>491</td>\n",
       "      <td>183</td>\n",
       "      <td>387</td>\n",
       "      <td>169</td>\n",
       "      <td>208</td>\n",
       "      <td>65</td>\n",
       "      <td>0.81</td>\n",
       "      <td>0.00</td>\n",
       "    </tr>\n",
       "    <tr>\n",
       "      <th>2</th>\n",
       "      <td>NaN</td>\n",
       "      <td>NaN</td>\n",
       "      <td>156074</td>\n",
       "      <td>0</td>\n",
       "      <td>0</td>\n",
       "      <td>-3</td>\n",
       "      <td>3</td>\n",
       "      <td>0</td>\n",
       "      <td>2</td>\n",
       "      <td>0.6</td>\n",
       "      <td>...</td>\n",
       "      <td>598</td>\n",
       "      <td>169</td>\n",
       "      <td>339</td>\n",
       "      <td>119</td>\n",
       "      <td>421</td>\n",
       "      <td>157</td>\n",
       "      <td>433</td>\n",
       "      <td>163</td>\n",
       "      <td>0.00</td>\n",
       "      <td>0.00</td>\n",
       "    </tr>\n",
       "  </tbody>\n",
       "</table>\n",
       "<p>3 rows × 88 columns</p>\n",
       "</div>"
      ],
      "text/plain": [
       "   chance_of_playing_next_round  chance_of_playing_this_round    code  \\\n",
       "0                           NaN                           NaN   84450   \n",
       "1                           0.0                           0.0  153256   \n",
       "2                           NaN                           NaN  156074   \n",
       "\n",
       "   cost_change_event  cost_change_event_fall  cost_change_start  \\\n",
       "0                 -1                       1                 -1   \n",
       "1                  0                       0                 -4   \n",
       "2                  0                       0                 -3   \n",
       "\n",
       "   cost_change_start_fall  dreamteam_count  element_type ep_next  ...  \\\n",
       "0                       1                1             3     6.6  ...   \n",
       "1                       4                1             3     0.0  ...   \n",
       "2                       3                0             2     0.6  ...   \n",
       "\n",
       "  now_cost_rank  now_cost_rank_type form_rank form_rank_type  \\\n",
       "0           239                 138        79             27   \n",
       "1           625                 320       491            183   \n",
       "2           598                 169       339            119   \n",
       "\n",
       "   points_per_game_rank  points_per_game_rank_type selected_rank  \\\n",
       "0                    59                         26           101   \n",
       "1                   387                        169           208   \n",
       "2                   421                        157           433   \n",
       "\n",
       "  selected_rank_type  starts_per_90 clean_sheets_per_90  \n",
       "0                 34           1.06                0.42  \n",
       "1                 65           0.81                0.00  \n",
       "2                163           0.00                0.00  \n",
       "\n",
       "[3 rows x 88 columns]"
      ]
     },
     "execution_count": 2,
     "metadata": {},
     "output_type": "execute_result"
    },
    {
     "data": {
      "text/html": [
       "<div>\n",
       "<style scoped>\n",
       "    .dataframe tbody tr th:only-of-type {\n",
       "        vertical-align: middle;\n",
       "    }\n",
       "\n",
       "    .dataframe tbody tr th {\n",
       "        vertical-align: top;\n",
       "    }\n",
       "\n",
       "    .dataframe thead th {\n",
       "        text-align: right;\n",
       "    }\n",
       "</style>\n",
       "<table border=\"1\" class=\"dataframe\">\n",
       "  <thead>\n",
       "    <tr style=\"text-align: right;\">\n",
       "      <th></th>\n",
       "      <th>id</th>\n",
       "      <th>plural_name</th>\n",
       "      <th>plural_name_short</th>\n",
       "      <th>singular_name</th>\n",
       "      <th>singular_name_short</th>\n",
       "      <th>squad_select</th>\n",
       "      <th>squad_min_play</th>\n",
       "      <th>squad_max_play</th>\n",
       "      <th>ui_shirt_specific</th>\n",
       "      <th>sub_positions_locked</th>\n",
       "      <th>element_count</th>\n",
       "    </tr>\n",
       "  </thead>\n",
       "  <tbody>\n",
       "    <tr>\n",
       "      <th>0</th>\n",
       "      <td>1</td>\n",
       "      <td>Goalkeepers</td>\n",
       "      <td>GKP</td>\n",
       "      <td>Goalkeeper</td>\n",
       "      <td>GKP</td>\n",
       "      <td>2</td>\n",
       "      <td>1</td>\n",
       "      <td>1</td>\n",
       "      <td>True</td>\n",
       "      <td>[12]</td>\n",
       "      <td>77</td>\n",
       "    </tr>\n",
       "    <tr>\n",
       "      <th>1</th>\n",
       "      <td>2</td>\n",
       "      <td>Defenders</td>\n",
       "      <td>DEF</td>\n",
       "      <td>Defender</td>\n",
       "      <td>DEF</td>\n",
       "      <td>5</td>\n",
       "      <td>3</td>\n",
       "      <td>5</td>\n",
       "      <td>False</td>\n",
       "      <td>[]</td>\n",
       "      <td>250</td>\n",
       "    </tr>\n",
       "    <tr>\n",
       "      <th>2</th>\n",
       "      <td>3</td>\n",
       "      <td>Midfielders</td>\n",
       "      <td>MID</td>\n",
       "      <td>Midfielder</td>\n",
       "      <td>MID</td>\n",
       "      <td>5</td>\n",
       "      <td>2</td>\n",
       "      <td>5</td>\n",
       "      <td>False</td>\n",
       "      <td>[]</td>\n",
       "      <td>321</td>\n",
       "    </tr>\n",
       "  </tbody>\n",
       "</table>\n",
       "</div>"
      ],
      "text/plain": [
       "   id  plural_name plural_name_short singular_name singular_name_short  \\\n",
       "0   1  Goalkeepers               GKP    Goalkeeper                 GKP   \n",
       "1   2    Defenders               DEF      Defender                 DEF   \n",
       "2   3  Midfielders               MID    Midfielder                 MID   \n",
       "\n",
       "   squad_select  squad_min_play  squad_max_play  ui_shirt_specific  \\\n",
       "0             2               1               1               True   \n",
       "1             5               3               5              False   \n",
       "2             5               2               5              False   \n",
       "\n",
       "  sub_positions_locked  element_count  \n",
       "0                 [12]             77  \n",
       "1                   []            250  \n",
       "2                   []            321  "
      ]
     },
     "execution_count": 2,
     "metadata": {},
     "output_type": "execute_result"
    }
   ],
   "source": [
    "#Calling FPL API for various player-related datasets.\n",
    "base_url = 'https://fantasy.premierleague.com/api/'\n",
    "r = requests.get(base_url+'bootstrap-static/').json()\n",
    "\n",
    "teams = pd.json_normalize(r['teams'])\n",
    "players = pd.json_normalize(r['elements'])\n",
    "players_pos = pd.json_normalize(r['element_types'])\n",
    "\n",
    "teams.head(3)\n",
    "players.head(3)\n",
    "players_pos.head(3)"
   ]
  },
  {
   "cell_type": "markdown",
   "id": "e9f8b76a",
   "metadata": {},
   "source": [
    "Alot of bulk, let's clean it up.\n",
    "\n",
    "Team data filtered for: ID and corresponding Team Name."
   ]
  },
  {
   "cell_type": "code",
   "execution_count": 3,
   "id": "9fa54698",
   "metadata": {},
   "outputs": [
    {
     "data": {
      "text/html": [
       "<div>\n",
       "<style scoped>\n",
       "    .dataframe tbody tr th:only-of-type {\n",
       "        vertical-align: middle;\n",
       "    }\n",
       "\n",
       "    .dataframe tbody tr th {\n",
       "        vertical-align: top;\n",
       "    }\n",
       "\n",
       "    .dataframe thead th {\n",
       "        text-align: right;\n",
       "    }\n",
       "</style>\n",
       "<table border=\"1\" class=\"dataframe\">\n",
       "  <thead>\n",
       "    <tr style=\"text-align: right;\">\n",
       "      <th></th>\n",
       "      <th>id</th>\n",
       "      <th>name</th>\n",
       "    </tr>\n",
       "  </thead>\n",
       "  <tbody>\n",
       "    <tr>\n",
       "      <th>0</th>\n",
       "      <td>1</td>\n",
       "      <td>Arsenal</td>\n",
       "    </tr>\n",
       "    <tr>\n",
       "      <th>1</th>\n",
       "      <td>2</td>\n",
       "      <td>Aston Villa</td>\n",
       "    </tr>\n",
       "    <tr>\n",
       "      <th>2</th>\n",
       "      <td>3</td>\n",
       "      <td>Bournemouth</td>\n",
       "    </tr>\n",
       "  </tbody>\n",
       "</table>\n",
       "</div>"
      ],
      "text/plain": [
       "   id         name\n",
       "0   1      Arsenal\n",
       "1   2  Aston Villa\n",
       "2   3  Bournemouth"
      ]
     },
     "execution_count": 3,
     "metadata": {},
     "output_type": "execute_result"
    }
   ],
   "source": [
    "dfTeam=teams[['id', 'name']]\n",
    "dfTeam.head(3)"
   ]
  },
  {
   "cell_type": "markdown",
   "id": "3c742818",
   "metadata": {},
   "source": [
    "Player position data filtered for: ID and corresponding position name. "
   ]
  },
  {
   "cell_type": "code",
   "execution_count": 4,
   "id": "06675bc0",
   "metadata": {},
   "outputs": [
    {
     "data": {
      "text/html": [
       "<div>\n",
       "<style scoped>\n",
       "    .dataframe tbody tr th:only-of-type {\n",
       "        vertical-align: middle;\n",
       "    }\n",
       "\n",
       "    .dataframe tbody tr th {\n",
       "        vertical-align: top;\n",
       "    }\n",
       "\n",
       "    .dataframe thead th {\n",
       "        text-align: right;\n",
       "    }\n",
       "</style>\n",
       "<table border=\"1\" class=\"dataframe\">\n",
       "  <thead>\n",
       "    <tr style=\"text-align: right;\">\n",
       "      <th></th>\n",
       "      <th>id</th>\n",
       "      <th>Position</th>\n",
       "    </tr>\n",
       "  </thead>\n",
       "  <tbody>\n",
       "    <tr>\n",
       "      <th>0</th>\n",
       "      <td>1</td>\n",
       "      <td>GKP</td>\n",
       "    </tr>\n",
       "    <tr>\n",
       "      <th>1</th>\n",
       "      <td>2</td>\n",
       "      <td>DEF</td>\n",
       "    </tr>\n",
       "    <tr>\n",
       "      <th>2</th>\n",
       "      <td>3</td>\n",
       "      <td>MID</td>\n",
       "    </tr>\n",
       "  </tbody>\n",
       "</table>\n",
       "</div>"
      ],
      "text/plain": [
       "   id Position\n",
       "0   1      GKP\n",
       "1   2      DEF\n",
       "2   3      MID"
      ]
     },
     "execution_count": 4,
     "metadata": {},
     "output_type": "execute_result"
    }
   ],
   "source": [
    "dfPlayers_pos=players_pos[['id','plural_name_short']]\n",
    "dfPlayers_pos=dfPlayers_pos.rename(columns={'plural_name_short':'Position'})\n",
    "dfPlayers_pos.head(3)"
   ]
  },
  {
   "cell_type": "markdown",
   "id": "083f548a",
   "metadata": {},
   "source": [
    "Player data filtered for: Team (which is in ID form), Position (element_type), First Name and Last Name (combined to 'Player')."
   ]
  },
  {
   "cell_type": "code",
   "execution_count": 5,
   "id": "199d69c5",
   "metadata": {},
   "outputs": [
    {
     "data": {
      "text/html": [
       "<div>\n",
       "<style scoped>\n",
       "    .dataframe tbody tr th:only-of-type {\n",
       "        vertical-align: middle;\n",
       "    }\n",
       "\n",
       "    .dataframe tbody tr th {\n",
       "        vertical-align: top;\n",
       "    }\n",
       "\n",
       "    .dataframe thead th {\n",
       "        text-align: right;\n",
       "    }\n",
       "</style>\n",
       "<table border=\"1\" class=\"dataframe\">\n",
       "  <thead>\n",
       "    <tr style=\"text-align: right;\">\n",
       "      <th></th>\n",
       "      <th>id</th>\n",
       "      <th>element_type</th>\n",
       "      <th>first_name</th>\n",
       "      <th>second_name</th>\n",
       "      <th>Player</th>\n",
       "    </tr>\n",
       "  </thead>\n",
       "  <tbody>\n",
       "    <tr>\n",
       "      <th>0</th>\n",
       "      <td>1</td>\n",
       "      <td>3</td>\n",
       "      <td>Granit</td>\n",
       "      <td>Xhaka</td>\n",
       "      <td>Granit Xhaka</td>\n",
       "    </tr>\n",
       "    <tr>\n",
       "      <th>1</th>\n",
       "      <td>1</td>\n",
       "      <td>3</td>\n",
       "      <td>Mohamed</td>\n",
       "      <td>Elneny</td>\n",
       "      <td>Mohamed Elneny</td>\n",
       "    </tr>\n",
       "    <tr>\n",
       "      <th>2</th>\n",
       "      <td>1</td>\n",
       "      <td>2</td>\n",
       "      <td>Rob</td>\n",
       "      <td>Holding</td>\n",
       "      <td>Rob Holding</td>\n",
       "    </tr>\n",
       "  </tbody>\n",
       "</table>\n",
       "</div>"
      ],
      "text/plain": [
       "   id  element_type first_name second_name          Player\n",
       "0   1             3     Granit       Xhaka    Granit Xhaka\n",
       "1   1             3    Mohamed      Elneny  Mohamed Elneny\n",
       "2   1             2        Rob     Holding     Rob Holding"
      ]
     },
     "execution_count": 5,
     "metadata": {},
     "output_type": "execute_result"
    }
   ],
   "source": [
    "dfPlayers=players[['team', 'element_type', 'first_name', 'second_name']]\n",
    "dfPlayers['Player'] = dfPlayers['first_name'] + ' ' + dfPlayers['second_name']\n",
    "dfPlayers=dfPlayers.rename(columns={'team':'id'}) \n",
    "dfPlayers.head(3)"
   ]
  },
  {
   "cell_type": "markdown",
   "id": "1370d7eb",
   "metadata": {},
   "source": [
    "In the dfPlayers dataframe, we need to replace ID with the respective team ID and similarly replace element type with the respective position."
   ]
  },
  {
   "cell_type": "code",
   "execution_count": 6,
   "id": "4fc58d6b",
   "metadata": {},
   "outputs": [],
   "source": [
    "#Make dictionaries for Team ID+Names & Player Position ID+Names.\n",
    "team_id_dict=pd.Series(dfTeam.name.values,index=dfTeam.id).to_dict()\n",
    "player_pos_id_dict=pd.Series(dfPlayers_pos.Position.values,index=dfPlayers_pos.id).to_dict()"
   ]
  },
  {
   "cell_type": "markdown",
   "id": "fd52f80a",
   "metadata": {},
   "source": [
    "Apply dictionaries to make new columns giving actual team names and positions."
   ]
  },
  {
   "cell_type": "code",
   "execution_count": 7,
   "id": "2f13d455",
   "metadata": {},
   "outputs": [
    {
     "data": {
      "text/html": [
       "<div>\n",
       "<style scoped>\n",
       "    .dataframe tbody tr th:only-of-type {\n",
       "        vertical-align: middle;\n",
       "    }\n",
       "\n",
       "    .dataframe tbody tr th {\n",
       "        vertical-align: top;\n",
       "    }\n",
       "\n",
       "    .dataframe thead th {\n",
       "        text-align: right;\n",
       "    }\n",
       "</style>\n",
       "<table border=\"1\" class=\"dataframe\">\n",
       "  <thead>\n",
       "    <tr style=\"text-align: right;\">\n",
       "      <th></th>\n",
       "      <th>Player</th>\n",
       "      <th>Team</th>\n",
       "      <th>Position</th>\n",
       "    </tr>\n",
       "  </thead>\n",
       "  <tbody>\n",
       "    <tr>\n",
       "      <th>0</th>\n",
       "      <td>Granit Xhaka</td>\n",
       "      <td>Arsenal</td>\n",
       "      <td>MID</td>\n",
       "    </tr>\n",
       "    <tr>\n",
       "      <th>1</th>\n",
       "      <td>Mohamed Elneny</td>\n",
       "      <td>Arsenal</td>\n",
       "      <td>MID</td>\n",
       "    </tr>\n",
       "    <tr>\n",
       "      <th>2</th>\n",
       "      <td>Rob Holding</td>\n",
       "      <td>Arsenal</td>\n",
       "      <td>DEF</td>\n",
       "    </tr>\n",
       "    <tr>\n",
       "      <th>3</th>\n",
       "      <td>Thomas Partey</td>\n",
       "      <td>Arsenal</td>\n",
       "      <td>MID</td>\n",
       "    </tr>\n",
       "    <tr>\n",
       "      <th>4</th>\n",
       "      <td>Martin Ødegaard</td>\n",
       "      <td>Arsenal</td>\n",
       "      <td>MID</td>\n",
       "    </tr>\n",
       "  </tbody>\n",
       "</table>\n",
       "</div>"
      ],
      "text/plain": [
       "            Player     Team Position\n",
       "0     Granit Xhaka  Arsenal      MID\n",
       "1   Mohamed Elneny  Arsenal      MID\n",
       "2      Rob Holding  Arsenal      DEF\n",
       "3    Thomas Partey  Arsenal      MID\n",
       "4  Martin Ødegaard  Arsenal      MID"
      ]
     },
     "execution_count": 7,
     "metadata": {},
     "output_type": "execute_result"
    }
   ],
   "source": [
    "dfPlayers[\"Team\"] = dfPlayers[\"id\"].apply(lambda x: team_id_dict.get(x))\n",
    "dfPlayers[\"Position\"] = dfPlayers[\"element_type\"].apply(lambda x: player_pos_id_dict.get(x))\n",
    "dfPlayers_FPL=dfPlayers.drop(columns=['element_type', 'id', 'first_name', 'second_name'])\n",
    "\n",
    "dfPlayers_FPL.head()"
   ]
  },
  {
   "cell_type": "markdown",
   "id": "a3823782",
   "metadata": {},
   "source": [
    "Our player data is cleaned up! "
   ]
  },
  {
   "cell_type": "markdown",
   "id": "a35a9c00",
   "metadata": {},
   "source": [
    "## 2.2. Fixtures Data\n",
    "\n",
    "Our fixture data will be accessed from the official API again. Like before, we're going to see alot of excess that needs to be cleaned up. "
   ]
  },
  {
   "cell_type": "code",
   "execution_count": 8,
   "id": "0db646fd",
   "metadata": {},
   "outputs": [
    {
     "data": {
      "text/html": [
       "<div>\n",
       "<style scoped>\n",
       "    .dataframe tbody tr th:only-of-type {\n",
       "        vertical-align: middle;\n",
       "    }\n",
       "\n",
       "    .dataframe tbody tr th {\n",
       "        vertical-align: top;\n",
       "    }\n",
       "\n",
       "    .dataframe thead th {\n",
       "        text-align: right;\n",
       "    }\n",
       "</style>\n",
       "<table border=\"1\" class=\"dataframe\">\n",
       "  <thead>\n",
       "    <tr style=\"text-align: right;\">\n",
       "      <th></th>\n",
       "      <th>code</th>\n",
       "      <th>event</th>\n",
       "      <th>finished</th>\n",
       "      <th>finished_provisional</th>\n",
       "      <th>id</th>\n",
       "      <th>kickoff_time</th>\n",
       "      <th>minutes</th>\n",
       "      <th>provisional_start_time</th>\n",
       "      <th>started</th>\n",
       "      <th>team_a</th>\n",
       "      <th>team_a_score</th>\n",
       "      <th>team_h</th>\n",
       "      <th>team_h_score</th>\n",
       "      <th>stats</th>\n",
       "      <th>team_h_difficulty</th>\n",
       "      <th>team_a_difficulty</th>\n",
       "      <th>pulse_id</th>\n",
       "    </tr>\n",
       "  </thead>\n",
       "  <tbody>\n",
       "    <tr>\n",
       "      <th>0</th>\n",
       "      <td>2293039</td>\n",
       "      <td>23</td>\n",
       "      <td>False</td>\n",
       "      <td>False</td>\n",
       "      <td>230</td>\n",
       "      <td>2023-02-11T12:30:00Z</td>\n",
       "      <td>0</td>\n",
       "      <td>False</td>\n",
       "      <td>False</td>\n",
       "      <td>6</td>\n",
       "      <td>None</td>\n",
       "      <td>19</td>\n",
       "      <td>None</td>\n",
       "      <td>[]</td>\n",
       "      <td>3</td>\n",
       "      <td>3</td>\n",
       "      <td>75140</td>\n",
       "    </tr>\n",
       "    <tr>\n",
       "      <th>1</th>\n",
       "      <td>2293031</td>\n",
       "      <td>23</td>\n",
       "      <td>False</td>\n",
       "      <td>False</td>\n",
       "      <td>221</td>\n",
       "      <td>2023-02-11T15:00:00Z</td>\n",
       "      <td>0</td>\n",
       "      <td>False</td>\n",
       "      <td>False</td>\n",
       "      <td>4</td>\n",
       "      <td>None</td>\n",
       "      <td>1</td>\n",
       "      <td>None</td>\n",
       "      <td>[]</td>\n",
       "      <td>2</td>\n",
       "      <td>4</td>\n",
       "      <td>75131</td>\n",
       "    </tr>\n",
       "    <tr>\n",
       "      <th>2</th>\n",
       "      <td>2293032</td>\n",
       "      <td>23</td>\n",
       "      <td>False</td>\n",
       "      <td>False</td>\n",
       "      <td>223</td>\n",
       "      <td>2023-02-11T15:00:00Z</td>\n",
       "      <td>0</td>\n",
       "      <td>False</td>\n",
       "      <td>False</td>\n",
       "      <td>5</td>\n",
       "      <td>None</td>\n",
       "      <td>7</td>\n",
       "      <td>None</td>\n",
       "      <td>[]</td>\n",
       "      <td>3</td>\n",
       "      <td>3</td>\n",
       "      <td>75133</td>\n",
       "    </tr>\n",
       "    <tr>\n",
       "      <th>3</th>\n",
       "      <td>2293033</td>\n",
       "      <td>23</td>\n",
       "      <td>False</td>\n",
       "      <td>False</td>\n",
       "      <td>224</td>\n",
       "      <td>2023-02-11T15:00:00Z</td>\n",
       "      <td>0</td>\n",
       "      <td>False</td>\n",
       "      <td>False</td>\n",
       "      <td>16</td>\n",
       "      <td>None</td>\n",
       "      <td>9</td>\n",
       "      <td>None</td>\n",
       "      <td>[]</td>\n",
       "      <td>2</td>\n",
       "      <td>2</td>\n",
       "      <td>75134</td>\n",
       "    </tr>\n",
       "    <tr>\n",
       "      <th>4</th>\n",
       "      <td>2293035</td>\n",
       "      <td>23</td>\n",
       "      <td>False</td>\n",
       "      <td>False</td>\n",
       "      <td>226</td>\n",
       "      <td>2023-02-11T15:00:00Z</td>\n",
       "      <td>0</td>\n",
       "      <td>False</td>\n",
       "      <td>False</td>\n",
       "      <td>18</td>\n",
       "      <td>None</td>\n",
       "      <td>10</td>\n",
       "      <td>None</td>\n",
       "      <td>[]</td>\n",
       "      <td>3</td>\n",
       "      <td>3</td>\n",
       "      <td>75136</td>\n",
       "    </tr>\n",
       "  </tbody>\n",
       "</table>\n",
       "</div>"
      ],
      "text/plain": [
       "      code  event  finished  finished_provisional   id          kickoff_time  \\\n",
       "0  2293039     23     False                 False  230  2023-02-11T12:30:00Z   \n",
       "1  2293031     23     False                 False  221  2023-02-11T15:00:00Z   \n",
       "2  2293032     23     False                 False  223  2023-02-11T15:00:00Z   \n",
       "3  2293033     23     False                 False  224  2023-02-11T15:00:00Z   \n",
       "4  2293035     23     False                 False  226  2023-02-11T15:00:00Z   \n",
       "\n",
       "   minutes  provisional_start_time  started  team_a team_a_score  team_h  \\\n",
       "0        0                   False    False       6         None      19   \n",
       "1        0                   False    False       4         None       1   \n",
       "2        0                   False    False       5         None       7   \n",
       "3        0                   False    False      16         None       9   \n",
       "4        0                   False    False      18         None      10   \n",
       "\n",
       "  team_h_score stats  team_h_difficulty  team_a_difficulty  pulse_id  \n",
       "0         None    []                  3                  3     75140  \n",
       "1         None    []                  2                  4     75131  \n",
       "2         None    []                  3                  3     75133  \n",
       "3         None    []                  2                  2     75134  \n",
       "4         None    []                  3                  3     75136  "
      ]
     },
     "execution_count": 8,
     "metadata": {},
     "output_type": "execute_result"
    }
   ],
   "source": [
    "#Calling FPL API for fixture data. \n",
    "base_url = 'https://fantasy.premierleague.com/api/'\n",
    "r = requests.get(base_url+'fixtures?future=1').json()\n",
    "fixtures = pd.json_normalize(r)\n",
    "fixtures.head()"
   ]
  },
  {
   "cell_type": "markdown",
   "id": "02ea0494",
   "metadata": {},
   "source": [
    "Columns team_h and team_a give the respective Home and Away team in ID form. I will use the dictionary made in the previous section to replace ID's with their respective Team Names. "
   ]
  },
  {
   "cell_type": "code",
   "execution_count": 9,
   "id": "748318af",
   "metadata": {},
   "outputs": [
    {
     "data": {
      "text/html": [
       "<div>\n",
       "<style scoped>\n",
       "    .dataframe tbody tr th:only-of-type {\n",
       "        vertical-align: middle;\n",
       "    }\n",
       "\n",
       "    .dataframe tbody tr th {\n",
       "        vertical-align: top;\n",
       "    }\n",
       "\n",
       "    .dataframe thead th {\n",
       "        text-align: right;\n",
       "    }\n",
       "</style>\n",
       "<table border=\"1\" class=\"dataframe\">\n",
       "  <thead>\n",
       "    <tr style=\"text-align: right;\">\n",
       "      <th></th>\n",
       "      <th>code</th>\n",
       "      <th>event</th>\n",
       "      <th>finished</th>\n",
       "      <th>finished_provisional</th>\n",
       "      <th>id</th>\n",
       "      <th>kickoff_time</th>\n",
       "      <th>minutes</th>\n",
       "      <th>provisional_start_time</th>\n",
       "      <th>started</th>\n",
       "      <th>team_a</th>\n",
       "      <th>team_a_score</th>\n",
       "      <th>team_h</th>\n",
       "      <th>team_h_score</th>\n",
       "      <th>stats</th>\n",
       "      <th>team_h_difficulty</th>\n",
       "      <th>team_a_difficulty</th>\n",
       "      <th>pulse_id</th>\n",
       "      <th>Home Team</th>\n",
       "      <th>Away Team</th>\n",
       "    </tr>\n",
       "  </thead>\n",
       "  <tbody>\n",
       "    <tr>\n",
       "      <th>0</th>\n",
       "      <td>2293039</td>\n",
       "      <td>23</td>\n",
       "      <td>False</td>\n",
       "      <td>False</td>\n",
       "      <td>230</td>\n",
       "      <td>2023-02-11T12:30:00Z</td>\n",
       "      <td>0</td>\n",
       "      <td>False</td>\n",
       "      <td>False</td>\n",
       "      <td>6</td>\n",
       "      <td>None</td>\n",
       "      <td>19</td>\n",
       "      <td>None</td>\n",
       "      <td>[]</td>\n",
       "      <td>3</td>\n",
       "      <td>3</td>\n",
       "      <td>75140</td>\n",
       "      <td>West Ham</td>\n",
       "      <td>Chelsea</td>\n",
       "    </tr>\n",
       "    <tr>\n",
       "      <th>1</th>\n",
       "      <td>2293031</td>\n",
       "      <td>23</td>\n",
       "      <td>False</td>\n",
       "      <td>False</td>\n",
       "      <td>221</td>\n",
       "      <td>2023-02-11T15:00:00Z</td>\n",
       "      <td>0</td>\n",
       "      <td>False</td>\n",
       "      <td>False</td>\n",
       "      <td>4</td>\n",
       "      <td>None</td>\n",
       "      <td>1</td>\n",
       "      <td>None</td>\n",
       "      <td>[]</td>\n",
       "      <td>2</td>\n",
       "      <td>4</td>\n",
       "      <td>75131</td>\n",
       "      <td>Arsenal</td>\n",
       "      <td>Brentford</td>\n",
       "    </tr>\n",
       "    <tr>\n",
       "      <th>2</th>\n",
       "      <td>2293032</td>\n",
       "      <td>23</td>\n",
       "      <td>False</td>\n",
       "      <td>False</td>\n",
       "      <td>223</td>\n",
       "      <td>2023-02-11T15:00:00Z</td>\n",
       "      <td>0</td>\n",
       "      <td>False</td>\n",
       "      <td>False</td>\n",
       "      <td>5</td>\n",
       "      <td>None</td>\n",
       "      <td>7</td>\n",
       "      <td>None</td>\n",
       "      <td>[]</td>\n",
       "      <td>3</td>\n",
       "      <td>3</td>\n",
       "      <td>75133</td>\n",
       "      <td>Crystal Palace</td>\n",
       "      <td>Brighton</td>\n",
       "    </tr>\n",
       "    <tr>\n",
       "      <th>3</th>\n",
       "      <td>2293033</td>\n",
       "      <td>23</td>\n",
       "      <td>False</td>\n",
       "      <td>False</td>\n",
       "      <td>224</td>\n",
       "      <td>2023-02-11T15:00:00Z</td>\n",
       "      <td>0</td>\n",
       "      <td>False</td>\n",
       "      <td>False</td>\n",
       "      <td>16</td>\n",
       "      <td>None</td>\n",
       "      <td>9</td>\n",
       "      <td>None</td>\n",
       "      <td>[]</td>\n",
       "      <td>2</td>\n",
       "      <td>2</td>\n",
       "      <td>75134</td>\n",
       "      <td>Fulham</td>\n",
       "      <td>Nott'm Forest</td>\n",
       "    </tr>\n",
       "    <tr>\n",
       "      <th>4</th>\n",
       "      <td>2293035</td>\n",
       "      <td>23</td>\n",
       "      <td>False</td>\n",
       "      <td>False</td>\n",
       "      <td>226</td>\n",
       "      <td>2023-02-11T15:00:00Z</td>\n",
       "      <td>0</td>\n",
       "      <td>False</td>\n",
       "      <td>False</td>\n",
       "      <td>18</td>\n",
       "      <td>None</td>\n",
       "      <td>10</td>\n",
       "      <td>None</td>\n",
       "      <td>[]</td>\n",
       "      <td>3</td>\n",
       "      <td>3</td>\n",
       "      <td>75136</td>\n",
       "      <td>Leicester</td>\n",
       "      <td>Spurs</td>\n",
       "    </tr>\n",
       "  </tbody>\n",
       "</table>\n",
       "</div>"
      ],
      "text/plain": [
       "      code  event  finished  finished_provisional   id          kickoff_time  \\\n",
       "0  2293039     23     False                 False  230  2023-02-11T12:30:00Z   \n",
       "1  2293031     23     False                 False  221  2023-02-11T15:00:00Z   \n",
       "2  2293032     23     False                 False  223  2023-02-11T15:00:00Z   \n",
       "3  2293033     23     False                 False  224  2023-02-11T15:00:00Z   \n",
       "4  2293035     23     False                 False  226  2023-02-11T15:00:00Z   \n",
       "\n",
       "   minutes  provisional_start_time  started  team_a team_a_score  team_h  \\\n",
       "0        0                   False    False       6         None      19   \n",
       "1        0                   False    False       4         None       1   \n",
       "2        0                   False    False       5         None       7   \n",
       "3        0                   False    False      16         None       9   \n",
       "4        0                   False    False      18         None      10   \n",
       "\n",
       "  team_h_score stats  team_h_difficulty  team_a_difficulty  pulse_id  \\\n",
       "0         None    []                  3                  3     75140   \n",
       "1         None    []                  2                  4     75131   \n",
       "2         None    []                  3                  3     75133   \n",
       "3         None    []                  2                  2     75134   \n",
       "4         None    []                  3                  3     75136   \n",
       "\n",
       "        Home Team      Away Team  \n",
       "0        West Ham        Chelsea  \n",
       "1         Arsenal      Brentford  \n",
       "2  Crystal Palace       Brighton  \n",
       "3          Fulham  Nott'm Forest  \n",
       "4       Leicester          Spurs  "
      ]
     },
     "execution_count": 9,
     "metadata": {},
     "output_type": "execute_result"
    }
   ],
   "source": [
    "fixtures['Home Team']=fixtures[\"team_h\"].apply(lambda x: team_id_dict.get(x))\n",
    "fixtures['Away Team']=fixtures[\"team_a\"].apply(lambda x: team_id_dict.get(x))\n",
    "fixtures.head()"
   ]
  },
  {
   "cell_type": "markdown",
   "id": "d3dd70b5",
   "metadata": {},
   "source": [
    "Remove excess columns and replace team names (will be important later on). "
   ]
  },
  {
   "cell_type": "code",
   "execution_count": 10,
   "id": "8a0b1213",
   "metadata": {},
   "outputs": [
    {
     "data": {
      "text/html": [
       "<div>\n",
       "<style scoped>\n",
       "    .dataframe tbody tr th:only-of-type {\n",
       "        vertical-align: middle;\n",
       "    }\n",
       "\n",
       "    .dataframe tbody tr th {\n",
       "        vertical-align: top;\n",
       "    }\n",
       "\n",
       "    .dataframe thead th {\n",
       "        text-align: right;\n",
       "    }\n",
       "</style>\n",
       "<table border=\"1\" class=\"dataframe\">\n",
       "  <thead>\n",
       "    <tr style=\"text-align: right;\">\n",
       "      <th></th>\n",
       "      <th>GameWeek</th>\n",
       "      <th>Home Team</th>\n",
       "      <th>Away Team</th>\n",
       "    </tr>\n",
       "  </thead>\n",
       "  <tbody>\n",
       "    <tr>\n",
       "      <th>0</th>\n",
       "      <td>23</td>\n",
       "      <td>West Ham</td>\n",
       "      <td>Chelsea</td>\n",
       "    </tr>\n",
       "    <tr>\n",
       "      <th>1</th>\n",
       "      <td>23</td>\n",
       "      <td>Arsenal</td>\n",
       "      <td>Brentford</td>\n",
       "    </tr>\n",
       "    <tr>\n",
       "      <th>2</th>\n",
       "      <td>23</td>\n",
       "      <td>Crystal Palace</td>\n",
       "      <td>Brighton</td>\n",
       "    </tr>\n",
       "    <tr>\n",
       "      <th>3</th>\n",
       "      <td>23</td>\n",
       "      <td>Fulham</td>\n",
       "      <td>Nott'ham Forest</td>\n",
       "    </tr>\n",
       "    <tr>\n",
       "      <th>4</th>\n",
       "      <td>23</td>\n",
       "      <td>Leicester City</td>\n",
       "      <td>Tottenham</td>\n",
       "    </tr>\n",
       "  </tbody>\n",
       "</table>\n",
       "</div>"
      ],
      "text/plain": [
       "   GameWeek       Home Team        Away Team\n",
       "0        23        West Ham          Chelsea\n",
       "1        23         Arsenal        Brentford\n",
       "2        23  Crystal Palace         Brighton\n",
       "3        23          Fulham  Nott'ham Forest\n",
       "4        23  Leicester City        Tottenham"
      ]
     },
     "execution_count": 10,
     "metadata": {},
     "output_type": "execute_result"
    }
   ],
   "source": [
    "fixtures=fixtures[['event', 'Home Team', 'Away Team']]\n",
    "fixtures=fixtures.rename(columns={'event':'GameWeek'})\n",
    "fixtures['Home Team'] = fixtures['Home Team'].replace({'Newcastle':'Newcastle Utd', 'Spurs':'Tottenham','Leeds':'Leeds United', 'Leicester':'Leicester City', 'Man City':'Manchester City', 'Man Utd':'Manchester Utd', \"Nott'm Forest\":\"Nott'ham Forest\"})\n",
    "fixtures['Away Team'] = fixtures['Away Team'].replace({'Newcastle':'Newcastle Utd', 'Spurs':'Tottenham','Leeds':'Leeds United', 'Leicester':'Leicester City', 'Man City':'Manchester City', 'Man Utd':'Manchester Utd', \"Nott'm Forest\":\"Nott'ham Forest\"})\n",
    "dfFixtures=fixtures\n",
    "dfFixtures.head()"
   ]
  },
  {
   "cell_type": "markdown",
   "id": "8630a273",
   "metadata": {},
   "source": [
    "Our fixture data is cleaned up! "
   ]
  },
  {
   "cell_type": "markdown",
   "id": "a54d407f",
   "metadata": {},
   "source": [
    "## 2.3. Game Data \n",
    "\n",
    "Finally we need to bring in our games database. For this, we'll be using the aforementioned scraper (soccerdata) to bring in all games from the previous and current season from FBref. \n",
    "\n",
    "Be warned, this can take about 5 minutes."
   ]
  },
  {
   "cell_type": "code",
   "execution_count": 2,
   "id": "db2d5eee",
   "metadata": {},
   "outputs": [
    {
     "data": {
      "text/html": [
       "<pre style=\"white-space:pre;overflow-x:auto;line-height:normal;font-family:Menlo,'DejaVu Sans Mono',consolas,'Courier New',monospace\"><span style=\"color: #7fbfbf; text-decoration-color: #7fbfbf\">[02/10/23 15:08:45] </span><span style=\"color: #000080; text-decoration-color: #000080\">INFO    </span> Saving cached data to C:\\Users\\waqas\\soccerdata\\data\\FBref               <a href=\"file://C:\\Users\\waqas\\anaconda3\\lib\\site-packages\\soccerdata\\_common.py\" target=\"_blank\"><span style=\"color: #7f7f7f; text-decoration-color: #7f7f7f\">_common.py</span></a><span style=\"color: #7f7f7f; text-decoration-color: #7f7f7f\">:</span><a href=\"file://C:\\Users\\waqas\\anaconda3\\lib\\site-packages\\soccerdata\\_common.py#89\" target=\"_blank\"><span style=\"color: #7f7f7f; text-decoration-color: #7f7f7f\">89</span></a>\n",
       "</pre>\n"
      ],
      "text/plain": [
       "\u001b[2;36m[02/10/23 15:08:45]\u001b[0m\u001b[2;36m \u001b[0m\u001b[34mINFO    \u001b[0m Saving cached data to C:\\Users\\waqas\\soccerdata\\data\\FBref               \u001b]8;id=799846;file://C:\\Users\\waqas\\anaconda3\\lib\\site-packages\\soccerdata\\_common.py\u001b\\\u001b[2m_common.py\u001b[0m\u001b]8;;\u001b\\\u001b[2m:\u001b[0m\u001b]8;id=631868;file://C:\\Users\\waqas\\anaconda3\\lib\\site-packages\\soccerdata\\_common.py#89\u001b\\\u001b[2m89\u001b[0m\u001b]8;;\u001b\\\n"
      ]
     },
     "metadata": {},
     "output_type": "display_data"
    },
    {
     "data": {
      "text/html": [
       "<pre style=\"white-space:pre;overflow-x:auto;line-height:normal;font-family:Menlo,'DejaVu Sans Mono',consolas,'Courier New',monospace\"><span style=\"color: #7fbfbf; text-decoration-color: #7fbfbf\">                    </span><span style=\"color: #000080; text-decoration-color: #000080\">INFO    </span> Saving cached data to C:\\Users\\waqas\\soccerdata\\data\\FBref               <a href=\"file://C:\\Users\\waqas\\anaconda3\\lib\\site-packages\\soccerdata\\_common.py\" target=\"_blank\"><span style=\"color: #7f7f7f; text-decoration-color: #7f7f7f\">_common.py</span></a><span style=\"color: #7f7f7f; text-decoration-color: #7f7f7f\">:</span><a href=\"file://C:\\Users\\waqas\\anaconda3\\lib\\site-packages\\soccerdata\\_common.py#89\" target=\"_blank\"><span style=\"color: #7f7f7f; text-decoration-color: #7f7f7f\">89</span></a>\n",
       "</pre>\n"
      ],
      "text/plain": [
       "\u001b[2;36m                   \u001b[0m\u001b[2;36m \u001b[0m\u001b[34mINFO    \u001b[0m Saving cached data to C:\\Users\\waqas\\soccerdata\\data\\FBref               \u001b]8;id=299860;file://C:\\Users\\waqas\\anaconda3\\lib\\site-packages\\soccerdata\\_common.py\u001b\\\u001b[2m_common.py\u001b[0m\u001b]8;;\u001b\\\u001b[2m:\u001b[0m\u001b]8;id=335527;file://C:\\Users\\waqas\\anaconda3\\lib\\site-packages\\soccerdata\\_common.py#89\u001b\\\u001b[2m89\u001b[0m\u001b]8;;\u001b\\\n"
      ]
     },
     "metadata": {},
     "output_type": "display_data"
    }
   ],
   "source": [
    "#Create scraper class objects from 'soccerdata' library for scraping seasons 2021/2022 and 2022/2023.\n",
    "fbref = sd.FBref(leagues='ENG-Premier League', seasons='2021')\n",
    "fbref1 = sd.FBref(leagues='ENG-Premier League', seasons='2022')"
   ]
  },
  {
   "cell_type": "code",
   "execution_count": 3,
   "id": "37f17be3",
   "metadata": {},
   "outputs": [
    {
     "ename": "ValueError",
     "evalue": "Length mismatch: Expected axis has 34 elements, new values have 36 elements",
     "output_type": "error",
     "traceback": [
      "\u001b[1;31m---------------------------------------------------------------------------\u001b[0m",
      "\u001b[1;31mValueError\u001b[0m                                Traceback (most recent call last)",
      "Input \u001b[1;32mIn [3]\u001b[0m, in \u001b[0;36m<cell line: 3>\u001b[1;34m()\u001b[0m\n\u001b[0;32m      1\u001b[0m \u001b[38;5;66;03m#Scrape player stats for 2021/2022 and 2022/2023 season.\u001b[39;00m\n\u001b[0;32m      2\u001b[0m \u001b[38;5;66;03m# player_match_stats_2021=fbref.read_player_match_stats(stat_type='summary')\u001b[39;00m\n\u001b[1;32m----> 3\u001b[0m player_match_stats\u001b[38;5;241m=\u001b[39m\u001b[43mfbref1\u001b[49m\u001b[38;5;241;43m.\u001b[39;49m\u001b[43mread_player_match_stats\u001b[49m\u001b[43m(\u001b[49m\u001b[43mstat_type\u001b[49m\u001b[38;5;241;43m=\u001b[39;49m\u001b[38;5;124;43m'\u001b[39;49m\u001b[38;5;124;43msummary\u001b[39;49m\u001b[38;5;124;43m'\u001b[39;49m\u001b[43m)\u001b[49m\n",
      "File \u001b[1;32m~\\anaconda3\\lib\\site-packages\\soccerdata\\fbref.py:707\u001b[0m, in \u001b[0;36mFBref.read_player_match_stats\u001b[1;34m(self, stat_type, match_id, force_cache)\u001b[0m\n\u001b[0;32m    704\u001b[0m     df_table[\u001b[38;5;124m\"\u001b[39m\u001b[38;5;124mgame_id\u001b[39m\u001b[38;5;124m\"\u001b[39m] \u001b[38;5;241m=\u001b[39m game[\u001b[38;5;124m\"\u001b[39m\u001b[38;5;124mgame_id\u001b[39m\u001b[38;5;124m\"\u001b[39m]\n\u001b[0;32m    705\u001b[0m     stats\u001b[38;5;241m.\u001b[39mappend(df_table)\n\u001b[1;32m--> 707\u001b[0m df \u001b[38;5;241m=\u001b[39m \u001b[43m_concat\u001b[49m\u001b[43m(\u001b[49m\u001b[43mstats\u001b[49m\u001b[43m)\u001b[49m\n\u001b[0;32m    708\u001b[0m df \u001b[38;5;241m=\u001b[39m df[\u001b[38;5;241m~\u001b[39mdf\u001b[38;5;241m.\u001b[39mPlayer\u001b[38;5;241m.\u001b[39mstr\u001b[38;5;241m.\u001b[39mcontains(\u001b[38;5;124mr\u001b[39m\u001b[38;5;124m\"\u001b[39m\u001b[38;5;124m^\u001b[39m\u001b[38;5;124m\\\u001b[39m\u001b[38;5;124md+\u001b[39m\u001b[38;5;124m\\\u001b[39m\u001b[38;5;124msPlayers$\u001b[39m\u001b[38;5;124m\"\u001b[39m)]\n\u001b[0;32m    709\u001b[0m df \u001b[38;5;241m=\u001b[39m (\n\u001b[0;32m    710\u001b[0m     df\u001b[38;5;241m.\u001b[39mrename(columns\u001b[38;5;241m=\u001b[39m{\u001b[38;5;124m\"\u001b[39m\u001b[38;5;124mPlayer\u001b[39m\u001b[38;5;124m\"\u001b[39m: \u001b[38;5;124m\"\u001b[39m\u001b[38;5;124mplayer\u001b[39m\u001b[38;5;124m\"\u001b[39m})\n\u001b[0;32m    711\u001b[0m     \u001b[38;5;241m.\u001b[39mreplace({\u001b[38;5;124m\"\u001b[39m\u001b[38;5;124mteam\u001b[39m\u001b[38;5;124m\"\u001b[39m: TEAMNAME_REPLACEMENTS})\n\u001b[0;32m    712\u001b[0m     \u001b[38;5;241m.\u001b[39mset_index([\u001b[38;5;124m\"\u001b[39m\u001b[38;5;124mleague\u001b[39m\u001b[38;5;124m\"\u001b[39m, \u001b[38;5;124m\"\u001b[39m\u001b[38;5;124mseason\u001b[39m\u001b[38;5;124m\"\u001b[39m, \u001b[38;5;124m\"\u001b[39m\u001b[38;5;124mgame\u001b[39m\u001b[38;5;124m\"\u001b[39m, \u001b[38;5;124m\"\u001b[39m\u001b[38;5;124mteam\u001b[39m\u001b[38;5;124m\"\u001b[39m, \u001b[38;5;124m\"\u001b[39m\u001b[38;5;124mplayer\u001b[39m\u001b[38;5;124m\"\u001b[39m])\n\u001b[0;32m    713\u001b[0m     \u001b[38;5;241m.\u001b[39msort_index()\n\u001b[0;32m    714\u001b[0m )\n",
      "File \u001b[1;32m~\\anaconda3\\lib\\site-packages\\soccerdata\\fbref.py:827\u001b[0m, in \u001b[0;36m_concat\u001b[1;34m(dfs)\u001b[0m\n\u001b[0;32m    824\u001b[0m columns\u001b[38;5;241m.\u001b[39mloc[mask, \u001b[38;5;241m1\u001b[39m] \u001b[38;5;241m=\u001b[39m \u001b[38;5;124m\"\u001b[39m\u001b[38;5;124m\"\u001b[39m\n\u001b[0;32m    826\u001b[0m \u001b[38;5;28;01mfor\u001b[39;00m df \u001b[38;5;129;01min\u001b[39;00m dfs:\n\u001b[1;32m--> 827\u001b[0m     df\u001b[38;5;241m.\u001b[39mcolumns \u001b[38;5;241m=\u001b[39m pd\u001b[38;5;241m.\u001b[39mMultiIndex\u001b[38;5;241m.\u001b[39mfrom_tuples(columns\u001b[38;5;241m.\u001b[39mto_records(index\u001b[38;5;241m=\u001b[39m\u001b[38;5;28;01mFalse\u001b[39;00m)\u001b[38;5;241m.\u001b[39mtolist())\n\u001b[0;32m    829\u001b[0m \u001b[38;5;28;01mreturn\u001b[39;00m pd\u001b[38;5;241m.\u001b[39mconcat(dfs)\n",
      "File \u001b[1;32m~\\anaconda3\\lib\\site-packages\\pandas\\core\\generic.py:5588\u001b[0m, in \u001b[0;36mNDFrame.__setattr__\u001b[1;34m(self, name, value)\u001b[0m\n\u001b[0;32m   5586\u001b[0m \u001b[38;5;28;01mtry\u001b[39;00m:\n\u001b[0;32m   5587\u001b[0m     \u001b[38;5;28mobject\u001b[39m\u001b[38;5;241m.\u001b[39m\u001b[38;5;21m__getattribute__\u001b[39m(\u001b[38;5;28mself\u001b[39m, name)\n\u001b[1;32m-> 5588\u001b[0m     \u001b[38;5;28;01mreturn\u001b[39;00m \u001b[38;5;28;43mobject\u001b[39;49m\u001b[38;5;241;43m.\u001b[39;49m\u001b[38;5;21;43m__setattr__\u001b[39;49m\u001b[43m(\u001b[49m\u001b[38;5;28;43mself\u001b[39;49m\u001b[43m,\u001b[49m\u001b[43m \u001b[49m\u001b[43mname\u001b[49m\u001b[43m,\u001b[49m\u001b[43m \u001b[49m\u001b[43mvalue\u001b[49m\u001b[43m)\u001b[49m\n\u001b[0;32m   5589\u001b[0m \u001b[38;5;28;01mexcept\u001b[39;00m \u001b[38;5;167;01mAttributeError\u001b[39;00m:\n\u001b[0;32m   5590\u001b[0m     \u001b[38;5;28;01mpass\u001b[39;00m\n",
      "File \u001b[1;32m~\\anaconda3\\lib\\site-packages\\pandas\\_libs\\properties.pyx:70\u001b[0m, in \u001b[0;36mpandas._libs.properties.AxisProperty.__set__\u001b[1;34m()\u001b[0m\n",
      "File \u001b[1;32m~\\anaconda3\\lib\\site-packages\\pandas\\core\\generic.py:769\u001b[0m, in \u001b[0;36mNDFrame._set_axis\u001b[1;34m(self, axis, labels)\u001b[0m\n\u001b[0;32m    767\u001b[0m \u001b[38;5;28;01mdef\u001b[39;00m \u001b[38;5;21m_set_axis\u001b[39m(\u001b[38;5;28mself\u001b[39m, axis: \u001b[38;5;28mint\u001b[39m, labels: Index) \u001b[38;5;241m-\u001b[39m\u001b[38;5;241m>\u001b[39m \u001b[38;5;28;01mNone\u001b[39;00m:\n\u001b[0;32m    768\u001b[0m     labels \u001b[38;5;241m=\u001b[39m ensure_index(labels)\n\u001b[1;32m--> 769\u001b[0m     \u001b[38;5;28;43mself\u001b[39;49m\u001b[38;5;241;43m.\u001b[39;49m\u001b[43m_mgr\u001b[49m\u001b[38;5;241;43m.\u001b[39;49m\u001b[43mset_axis\u001b[49m\u001b[43m(\u001b[49m\u001b[43maxis\u001b[49m\u001b[43m,\u001b[49m\u001b[43m \u001b[49m\u001b[43mlabels\u001b[49m\u001b[43m)\u001b[49m\n\u001b[0;32m    770\u001b[0m     \u001b[38;5;28mself\u001b[39m\u001b[38;5;241m.\u001b[39m_clear_item_cache()\n",
      "File \u001b[1;32m~\\anaconda3\\lib\\site-packages\\pandas\\core\\internals\\managers.py:214\u001b[0m, in \u001b[0;36mBaseBlockManager.set_axis\u001b[1;34m(self, axis, new_labels)\u001b[0m\n\u001b[0;32m    212\u001b[0m \u001b[38;5;28;01mdef\u001b[39;00m \u001b[38;5;21mset_axis\u001b[39m(\u001b[38;5;28mself\u001b[39m, axis: \u001b[38;5;28mint\u001b[39m, new_labels: Index) \u001b[38;5;241m-\u001b[39m\u001b[38;5;241m>\u001b[39m \u001b[38;5;28;01mNone\u001b[39;00m:\n\u001b[0;32m    213\u001b[0m     \u001b[38;5;66;03m# Caller is responsible for ensuring we have an Index object.\u001b[39;00m\n\u001b[1;32m--> 214\u001b[0m     \u001b[38;5;28;43mself\u001b[39;49m\u001b[38;5;241;43m.\u001b[39;49m\u001b[43m_validate_set_axis\u001b[49m\u001b[43m(\u001b[49m\u001b[43maxis\u001b[49m\u001b[43m,\u001b[49m\u001b[43m \u001b[49m\u001b[43mnew_labels\u001b[49m\u001b[43m)\u001b[49m\n\u001b[0;32m    215\u001b[0m     \u001b[38;5;28mself\u001b[39m\u001b[38;5;241m.\u001b[39maxes[axis] \u001b[38;5;241m=\u001b[39m new_labels\n",
      "File \u001b[1;32m~\\anaconda3\\lib\\site-packages\\pandas\\core\\internals\\base.py:69\u001b[0m, in \u001b[0;36mDataManager._validate_set_axis\u001b[1;34m(self, axis, new_labels)\u001b[0m\n\u001b[0;32m     66\u001b[0m     \u001b[38;5;28;01mpass\u001b[39;00m\n\u001b[0;32m     68\u001b[0m \u001b[38;5;28;01melif\u001b[39;00m new_len \u001b[38;5;241m!=\u001b[39m old_len:\n\u001b[1;32m---> 69\u001b[0m     \u001b[38;5;28;01mraise\u001b[39;00m \u001b[38;5;167;01mValueError\u001b[39;00m(\n\u001b[0;32m     70\u001b[0m         \u001b[38;5;124mf\u001b[39m\u001b[38;5;124m\"\u001b[39m\u001b[38;5;124mLength mismatch: Expected axis has \u001b[39m\u001b[38;5;132;01m{\u001b[39;00mold_len\u001b[38;5;132;01m}\u001b[39;00m\u001b[38;5;124m elements, new \u001b[39m\u001b[38;5;124m\"\u001b[39m\n\u001b[0;32m     71\u001b[0m         \u001b[38;5;124mf\u001b[39m\u001b[38;5;124m\"\u001b[39m\u001b[38;5;124mvalues have \u001b[39m\u001b[38;5;132;01m{\u001b[39;00mnew_len\u001b[38;5;132;01m}\u001b[39;00m\u001b[38;5;124m elements\u001b[39m\u001b[38;5;124m\"\u001b[39m\n\u001b[0;32m     72\u001b[0m     )\n",
      "\u001b[1;31mValueError\u001b[0m: Length mismatch: Expected axis has 34 elements, new values have 36 elements"
     ]
    }
   ],
   "source": [
    "%%capture  \n",
    "#Scrape player stats for 2021/2022 and 2022/2023 season.\n",
    "# player_match_stats_2021=fbref.read_player_match_stats(stat_type='summary')\n",
    "player_match_stats=fbref1.read_player_match_stats(stat_type='summary')"
   ]
  },
  {
   "cell_type": "code",
   "execution_count": 13,
   "id": "06349e94",
   "metadata": {},
   "outputs": [
    {
     "data": {
      "text/html": [
       "<div>\n",
       "<style scoped>\n",
       "    .dataframe tbody tr th:only-of-type {\n",
       "        vertical-align: middle;\n",
       "    }\n",
       "\n",
       "    .dataframe tbody tr th {\n",
       "        vertical-align: top;\n",
       "    }\n",
       "\n",
       "    .dataframe thead tr th {\n",
       "        text-align: left;\n",
       "    }\n",
       "\n",
       "    .dataframe thead tr:last-of-type th {\n",
       "        text-align: right;\n",
       "    }\n",
       "</style>\n",
       "<table border=\"1\" class=\"dataframe\">\n",
       "  <thead>\n",
       "    <tr>\n",
       "      <th></th>\n",
       "      <th></th>\n",
       "      <th></th>\n",
       "      <th></th>\n",
       "      <th></th>\n",
       "      <th>#</th>\n",
       "      <th>Nation</th>\n",
       "      <th>Pos</th>\n",
       "      <th>Age</th>\n",
       "      <th>Min</th>\n",
       "      <th colspan=\"5\" halign=\"left\">Performance</th>\n",
       "      <th>...</th>\n",
       "      <th>Expected</th>\n",
       "      <th colspan=\"2\" halign=\"left\">SCA</th>\n",
       "      <th colspan=\"4\" halign=\"left\">Passes</th>\n",
       "      <th colspan=\"2\" halign=\"left\">Dribbles</th>\n",
       "      <th>game_id</th>\n",
       "    </tr>\n",
       "    <tr>\n",
       "      <th></th>\n",
       "      <th></th>\n",
       "      <th></th>\n",
       "      <th></th>\n",
       "      <th></th>\n",
       "      <th></th>\n",
       "      <th></th>\n",
       "      <th></th>\n",
       "      <th></th>\n",
       "      <th></th>\n",
       "      <th>Gls</th>\n",
       "      <th>Ast</th>\n",
       "      <th>PK</th>\n",
       "      <th>PKatt</th>\n",
       "      <th>Sh</th>\n",
       "      <th>...</th>\n",
       "      <th>xAG</th>\n",
       "      <th>SCA</th>\n",
       "      <th>GCA</th>\n",
       "      <th>Cmp</th>\n",
       "      <th>Att</th>\n",
       "      <th>Cmp%</th>\n",
       "      <th>Prog</th>\n",
       "      <th>Succ</th>\n",
       "      <th>Att</th>\n",
       "      <th></th>\n",
       "    </tr>\n",
       "    <tr>\n",
       "      <th>league</th>\n",
       "      <th>season</th>\n",
       "      <th>game</th>\n",
       "      <th>team</th>\n",
       "      <th>player</th>\n",
       "      <th></th>\n",
       "      <th></th>\n",
       "      <th></th>\n",
       "      <th></th>\n",
       "      <th></th>\n",
       "      <th></th>\n",
       "      <th></th>\n",
       "      <th></th>\n",
       "      <th></th>\n",
       "      <th></th>\n",
       "      <th></th>\n",
       "      <th></th>\n",
       "      <th></th>\n",
       "      <th></th>\n",
       "      <th></th>\n",
       "      <th></th>\n",
       "      <th></th>\n",
       "      <th></th>\n",
       "      <th></th>\n",
       "      <th></th>\n",
       "      <th></th>\n",
       "    </tr>\n",
       "  </thead>\n",
       "  <tbody>\n",
       "    <tr>\n",
       "      <th rowspan=\"3\" valign=\"top\">ENG-Premier League</th>\n",
       "      <th rowspan=\"3\" valign=\"top\">2021</th>\n",
       "      <th rowspan=\"3\" valign=\"top\">2020-09-12 Crystal Palace-Southampton</th>\n",
       "      <th rowspan=\"3\" valign=\"top\">Crystal Palace</th>\n",
       "      <th>Andros Townsend</th>\n",
       "      <td>10.0</td>\n",
       "      <td>eng ENG</td>\n",
       "      <td>RM</td>\n",
       "      <td>29-058</td>\n",
       "      <td>90.0</td>\n",
       "      <td>0.0</td>\n",
       "      <td>1.0</td>\n",
       "      <td>0.0</td>\n",
       "      <td>0.0</td>\n",
       "      <td>0.0</td>\n",
       "      <td>...</td>\n",
       "      <td>0.6</td>\n",
       "      <td>2.0</td>\n",
       "      <td>1.0</td>\n",
       "      <td>13.0</td>\n",
       "      <td>30.0</td>\n",
       "      <td>43.3</td>\n",
       "      <td>1.0</td>\n",
       "      <td>2.0</td>\n",
       "      <td>2.0</td>\n",
       "      <td>db261cb0</td>\n",
       "    </tr>\n",
       "    <tr>\n",
       "      <th>Andros Townsend</th>\n",
       "      <td>10.0</td>\n",
       "      <td>eng ENG</td>\n",
       "      <td>RM</td>\n",
       "      <td>29-058</td>\n",
       "      <td>90.0</td>\n",
       "      <td>0.0</td>\n",
       "      <td>1.0</td>\n",
       "      <td>0.0</td>\n",
       "      <td>0.0</td>\n",
       "      <td>0.0</td>\n",
       "      <td>...</td>\n",
       "      <td>0.6</td>\n",
       "      <td>2.0</td>\n",
       "      <td>1.0</td>\n",
       "      <td>13.0</td>\n",
       "      <td>30.0</td>\n",
       "      <td>43.3</td>\n",
       "      <td>1.0</td>\n",
       "      <td>2.0</td>\n",
       "      <td>2.0</td>\n",
       "      <td>db261cb0</td>\n",
       "    </tr>\n",
       "    <tr>\n",
       "      <th>Cheikhou Kouyaté</th>\n",
       "      <td>8.0</td>\n",
       "      <td>sn SEN</td>\n",
       "      <td>CB</td>\n",
       "      <td>30-266</td>\n",
       "      <td>90.0</td>\n",
       "      <td>0.0</td>\n",
       "      <td>0.0</td>\n",
       "      <td>0.0</td>\n",
       "      <td>0.0</td>\n",
       "      <td>1.0</td>\n",
       "      <td>...</td>\n",
       "      <td>0.0</td>\n",
       "      <td>0.0</td>\n",
       "      <td>0.0</td>\n",
       "      <td>11.0</td>\n",
       "      <td>19.0</td>\n",
       "      <td>57.9</td>\n",
       "      <td>1.0</td>\n",
       "      <td>0.0</td>\n",
       "      <td>0.0</td>\n",
       "      <td>db261cb0</td>\n",
       "    </tr>\n",
       "  </tbody>\n",
       "</table>\n",
       "<p>3 rows × 29 columns</p>\n",
       "</div>"
      ],
      "text/plain": [
       "                                                                                                    #  \\\n",
       "                                                                                                        \n",
       "league             season game                                  team           player                   \n",
       "ENG-Premier League 2021   2020-09-12 Crystal Palace-Southampton Crystal Palace Andros Townsend   10.0   \n",
       "                                                                               Andros Townsend   10.0   \n",
       "                                                                               Cheikhou Kouyaté   8.0   \n",
       "\n",
       "                                                                                                  Nation  \\\n",
       "                                                                                                           \n",
       "league             season game                                  team           player                      \n",
       "ENG-Premier League 2021   2020-09-12 Crystal Palace-Southampton Crystal Palace Andros Townsend   eng ENG   \n",
       "                                                                               Andros Townsend   eng ENG   \n",
       "                                                                               Cheikhou Kouyaté   sn SEN   \n",
       "\n",
       "                                                                                                Pos  \\\n",
       "                                                                                                      \n",
       "league             season game                                  team           player                 \n",
       "ENG-Premier League 2021   2020-09-12 Crystal Palace-Southampton Crystal Palace Andros Townsend   RM   \n",
       "                                                                               Andros Townsend   RM   \n",
       "                                                                               Cheikhou Kouyaté  CB   \n",
       "\n",
       "                                                                                                    Age  \\\n",
       "                                                                                                          \n",
       "league             season game                                  team           player                     \n",
       "ENG-Premier League 2021   2020-09-12 Crystal Palace-Southampton Crystal Palace Andros Townsend   29-058   \n",
       "                                                                               Andros Townsend   29-058   \n",
       "                                                                               Cheikhou Kouyaté  30-266   \n",
       "\n",
       "                                                                                                  Min  \\\n",
       "                                                                                                        \n",
       "league             season game                                  team           player                   \n",
       "ENG-Premier League 2021   2020-09-12 Crystal Palace-Southampton Crystal Palace Andros Townsend   90.0   \n",
       "                                                                               Andros Townsend   90.0   \n",
       "                                                                               Cheikhou Kouyaté  90.0   \n",
       "\n",
       "                                                                                                Performance  \\\n",
       "                                                                                                        Gls   \n",
       "league             season game                                  team           player                         \n",
       "ENG-Premier League 2021   2020-09-12 Crystal Palace-Southampton Crystal Palace Andros Townsend          0.0   \n",
       "                                                                               Andros Townsend          0.0   \n",
       "                                                                               Cheikhou Kouyaté         0.0   \n",
       "\n",
       "                                                                                                      \\\n",
       "                                                                                                 Ast   \n",
       "league             season game                                  team           player                  \n",
       "ENG-Premier League 2021   2020-09-12 Crystal Palace-Southampton Crystal Palace Andros Townsend   1.0   \n",
       "                                                                               Andros Townsend   1.0   \n",
       "                                                                               Cheikhou Kouyaté  0.0   \n",
       "\n",
       "                                                                                                      \\\n",
       "                                                                                                  PK   \n",
       "league             season game                                  team           player                  \n",
       "ENG-Premier League 2021   2020-09-12 Crystal Palace-Southampton Crystal Palace Andros Townsend   0.0   \n",
       "                                                                               Andros Townsend   0.0   \n",
       "                                                                               Cheikhou Kouyaté  0.0   \n",
       "\n",
       "                                                                                                       \\\n",
       "                                                                                                PKatt   \n",
       "league             season game                                  team           player                   \n",
       "ENG-Premier League 2021   2020-09-12 Crystal Palace-Southampton Crystal Palace Andros Townsend    0.0   \n",
       "                                                                               Andros Townsend    0.0   \n",
       "                                                                               Cheikhou Kouyaté   0.0   \n",
       "\n",
       "                                                                                                      \\\n",
       "                                                                                                  Sh   \n",
       "league             season game                                  team           player                  \n",
       "ENG-Premier League 2021   2020-09-12 Crystal Palace-Southampton Crystal Palace Andros Townsend   0.0   \n",
       "                                                                               Andros Townsend   0.0   \n",
       "                                                                               Cheikhou Kouyaté  1.0   \n",
       "\n",
       "                                                                                                 ...  \\\n",
       "                                                                                                 ...   \n",
       "league             season game                                  team           player            ...   \n",
       "ENG-Premier League 2021   2020-09-12 Crystal Palace-Southampton Crystal Palace Andros Townsend   ...   \n",
       "                                                                               Andros Townsend   ...   \n",
       "                                                                               Cheikhou Kouyaté  ...   \n",
       "\n",
       "                                                                                                Expected  \\\n",
       "                                                                                                     xAG   \n",
       "league             season game                                  team           player                      \n",
       "ENG-Premier League 2021   2020-09-12 Crystal Palace-Southampton Crystal Palace Andros Townsend       0.6   \n",
       "                                                                               Andros Townsend       0.6   \n",
       "                                                                               Cheikhou Kouyaté      0.0   \n",
       "\n",
       "                                                                                                 SCA  \\\n",
       "                                                                                                 SCA   \n",
       "league             season game                                  team           player                  \n",
       "ENG-Premier League 2021   2020-09-12 Crystal Palace-Southampton Crystal Palace Andros Townsend   2.0   \n",
       "                                                                               Andros Townsend   2.0   \n",
       "                                                                               Cheikhou Kouyaté  0.0   \n",
       "\n",
       "                                                                                                      \\\n",
       "                                                                                                 GCA   \n",
       "league             season game                                  team           player                  \n",
       "ENG-Premier League 2021   2020-09-12 Crystal Palace-Southampton Crystal Palace Andros Townsend   1.0   \n",
       "                                                                               Andros Townsend   1.0   \n",
       "                                                                               Cheikhou Kouyaté  0.0   \n",
       "\n",
       "                                                                                                Passes  \\\n",
       "                                                                                                   Cmp   \n",
       "league             season game                                  team           player                    \n",
       "ENG-Premier League 2021   2020-09-12 Crystal Palace-Southampton Crystal Palace Andros Townsend    13.0   \n",
       "                                                                               Andros Townsend    13.0   \n",
       "                                                                               Cheikhou Kouyaté   11.0   \n",
       "\n",
       "                                                                                                       \\\n",
       "                                                                                                  Att   \n",
       "league             season game                                  team           player                   \n",
       "ENG-Premier League 2021   2020-09-12 Crystal Palace-Southampton Crystal Palace Andros Townsend   30.0   \n",
       "                                                                               Andros Townsend   30.0   \n",
       "                                                                               Cheikhou Kouyaté  19.0   \n",
       "\n",
       "                                                                                                       \\\n",
       "                                                                                                 Cmp%   \n",
       "league             season game                                  team           player                   \n",
       "ENG-Premier League 2021   2020-09-12 Crystal Palace-Southampton Crystal Palace Andros Townsend   43.3   \n",
       "                                                                               Andros Townsend   43.3   \n",
       "                                                                               Cheikhou Kouyaté  57.9   \n",
       "\n",
       "                                                                                                      \\\n",
       "                                                                                                Prog   \n",
       "league             season game                                  team           player                  \n",
       "ENG-Premier League 2021   2020-09-12 Crystal Palace-Southampton Crystal Palace Andros Townsend   1.0   \n",
       "                                                                               Andros Townsend   1.0   \n",
       "                                                                               Cheikhou Kouyaté  1.0   \n",
       "\n",
       "                                                                                                Dribbles  \\\n",
       "                                                                                                    Succ   \n",
       "league             season game                                  team           player                      \n",
       "ENG-Premier League 2021   2020-09-12 Crystal Palace-Southampton Crystal Palace Andros Townsend       2.0   \n",
       "                                                                               Andros Townsend       2.0   \n",
       "                                                                               Cheikhou Kouyaté      0.0   \n",
       "\n",
       "                                                                                                      \\\n",
       "                                                                                                 Att   \n",
       "league             season game                                  team           player                  \n",
       "ENG-Premier League 2021   2020-09-12 Crystal Palace-Southampton Crystal Palace Andros Townsend   2.0   \n",
       "                                                                               Andros Townsend   2.0   \n",
       "                                                                               Cheikhou Kouyaté  0.0   \n",
       "\n",
       "                                                                                                  game_id  \n",
       "                                                                                                           \n",
       "league             season game                                  team           player                      \n",
       "ENG-Premier League 2021   2020-09-12 Crystal Palace-Southampton Crystal Palace Andros Townsend   db261cb0  \n",
       "                                                                               Andros Townsend   db261cb0  \n",
       "                                                                               Cheikhou Kouyaté  db261cb0  \n",
       "\n",
       "[3 rows x 29 columns]"
      ]
     },
     "execution_count": 13,
     "metadata": {},
     "output_type": "execute_result"
    },
    {
     "ename": "NameError",
     "evalue": "name 'player_match_stats' is not defined",
     "output_type": "error",
     "traceback": [
      "\u001b[1;31m---------------------------------------------------------------------------\u001b[0m",
      "\u001b[1;31mNameError\u001b[0m                                 Traceback (most recent call last)",
      "Input \u001b[1;32mIn [13]\u001b[0m, in \u001b[0;36m<cell line: 2>\u001b[1;34m()\u001b[0m\n\u001b[0;32m      1\u001b[0m player_match_stats_2021\u001b[38;5;241m.\u001b[39mhead(\u001b[38;5;241m3\u001b[39m)\n\u001b[1;32m----> 2\u001b[0m \u001b[43mplayer_match_stats\u001b[49m\u001b[38;5;241m.\u001b[39mhead(\u001b[38;5;241m3\u001b[39m)\n",
      "\u001b[1;31mNameError\u001b[0m: name 'player_match_stats' is not defined"
     ]
    }
   ],
   "source": [
    "player_match_stats_2021.head(3)\n",
    "player_match_stats.head(3)"
   ]
  },
  {
   "cell_type": "markdown",
   "id": "8daaf11d",
   "metadata": {},
   "source": [
    "Here we can see the data is presented in a multi-level index. This is highly difficult to work with so we'll be converting it to a single-level index. We will also reassign columns and merge our dataframes. "
   ]
  },
  {
   "cell_type": "code",
   "execution_count": null,
   "id": "567215e9",
   "metadata": {},
   "outputs": [],
   "source": [
    "df_2021=player_match_stats_2021\n",
    "df_2021=df_2021.droplevel(['league', 'season'])\n",
    "df_2021.columns=df_2021.columns.droplevel(0)\n",
    "df_2021.columns.values[0] = \"#\"\n",
    "df_2021.columns.values[1] = 'Nation'\n",
    "df_2021.columns.values[2] = 'Pos'\n",
    "df_2021.columns.values[3] = 'Age'\n",
    "df_2021.columns.values[4] = 'Mins'\n",
    "df_2021.columns.values[28] = 'game_id'\n",
    "df_2021=df_2021.reset_index()\n",
    "#------------------------------------------------------------------------------------------------------------------------------#\n",
    "df_2022=player_match_stats\n",
    "df_2022=df_2022.droplevel(['league', 'season'])\n",
    "df_2022.columns=df_2022.columns.droplevel(0)\n",
    "df_2022.columns.values[0] = \"#\"\n",
    "df_2022.columns.values[1] = 'Nation'\n",
    "df_2022.columns.values[2] = 'Pos'\n",
    "df_2022.columns.values[3] = 'Age'\n",
    "df_2022.columns.values[4] = 'Mins'\n",
    "df_2022.columns.values[28] = 'game_id'\n",
    "df_2022=df_2022.reset_index()\n",
    "#------------------------------------------------------------------------------------------------------------------------------#\n",
    "dfFinal=pd.concat([df_2021, df_2022], ignore_index=True)\n",
    "dfFinal.head()"
   ]
  },
  {
   "cell_type": "markdown",
   "id": "33742855",
   "metadata": {},
   "source": [
    "Upon inspection, there is no column indicating a home/away fixture or the opposition team. However, when looking at the game column, the home team appears to always be the team listed first after the date, and the away team the second. We'll be leveraging this to make our own Location column to define home/away fixtures and make a new column called 'opposition'. Also, our game column will serve as a date column. "
   ]
  },
  {
   "cell_type": "code",
   "execution_count": null,
   "id": "9aa7e97c",
   "metadata": {},
   "outputs": [],
   "source": [
    "#Replicate game column to be used as a date column. Also removing the date from Location column.\n",
    "dfFinal['Location'] = dfFinal['game']\n",
    "dfFinal['Location'] = dfFinal['Location'].str[11:]  "
   ]
  },
  {
   "cell_type": "code",
   "execution_count": null,
   "id": "c6d762ab",
   "metadata": {},
   "outputs": [],
   "source": [
    "sep = '-'\n",
    "def f1(x):\n",
    "    return re.sub('[^0-9]','', x) #Replaces all characters that aren't numbers or hyphens to blank spaces.\n",
    "def f2(x):\n",
    "    return x.split(sep, 1)[1] #Deletes any character before a hyphen.\n",
    "def f3(x):\n",
    "    return x.split(sep, 1)[0] #Deletes any character after a hyphen.    "
   ]
  },
  {
   "cell_type": "markdown",
   "id": "4478ec90",
   "metadata": {},
   "source": [
    "Apply f1 to 'game' column to become our 'date column' and sort our dataframe by date. \n",
    "\n",
    "Apply f2 to our location column to leave the second listed team \n",
    "\n",
    "Apply f3 to our location column to leave the first listed team "
   ]
  },
  {
   "cell_type": "code",
   "execution_count": null,
   "id": "d26a7bee",
   "metadata": {},
   "outputs": [],
   "source": [
    "#Fixing up new date column.\n",
    "dfFinal['game'] = dfFinal['game'].apply(f1)\n",
    "dfFinal['game'] = pd.to_datetime(dfFinal['game'])\n",
    "dfFinal=dfFinal.rename(columns={'game':'date'})\n",
    "dfFinal=dfFinal.reset_index(drop=True)\n",
    "dfFinal=dfFinal.sort_values(by='date', ascending=False)\n",
    "#------------------------------------------------------------------------------------------------------------------------------#\n",
    "#Creating column for second listed team.\n",
    "dfFinal['team2'] = dfFinal['Location'].apply(f2)\n",
    "#------------------------------------------------------------------------------------------------------------------------------#\n",
    "#Fixing up location column based on first listed team.\n",
    "dfFinal['Location'] = dfFinal['Location'].apply(f3)\n",
    "\n",
    "dfFinal.head()"
   ]
  },
  {
   "cell_type": "markdown",
   "id": "ee25452a",
   "metadata": {},
   "source": [
    "In order to reassign values in the location column to Home/Away, the names in the team and location column must have the exact same spelling. "
   ]
  },
  {
   "cell_type": "code",
   "execution_count": null,
   "id": "1aa1abfe",
   "metadata": {},
   "outputs": [],
   "source": [
    "dfFinal['team'].unique()\n",
    "dfFinal['Location'].unique()"
   ]
  },
  {
   "cell_type": "markdown",
   "id": "7ce081cc",
   "metadata": {},
   "source": [
    "As we can see, some teams are named differently (e.g. Newcastle United vs Newcastle Utd).  This is resolved by manually renaming team spellings in the team column to those observed in the Location column's."
   ]
  },
  {
   "cell_type": "code",
   "execution_count": null,
   "id": "343312c8",
   "metadata": {},
   "outputs": [],
   "source": [
    "df_2022['team'] = df_2022['team'].replace({'Wolverhampton Wanderers':'Wolves', 'Newcastle United':'Newcastle Utd', 'Tottenham Hotspur':'Tottenham', 'Brighton & Hove Albion':'Brighton', 'Manchester United':'Manchester Utd', 'West Ham United':'West Ham', 'Nottingham Forest':\"Nott'ham Forest\"})\n",
    "dfFinal['team'] = dfFinal['team'].replace({'Wolverhampton Wanderers':'Wolves', 'Newcastle United':'Newcastle Utd', 'Tottenham Hotspur':'Tottenham', 'Brighton & Hove Albion':'Brighton', 'Manchester United':'Manchester Utd', 'West Ham United':'West Ham', 'Nottingham Forest':\"Nott'ham Forest\"})"
   ]
  },
  {
   "cell_type": "code",
   "execution_count": null,
   "id": "a1a97339",
   "metadata": {},
   "outputs": [],
   "source": [
    "dfFinal['team'].unique()\n",
    "dfFinal['Location'].unique()"
   ]
  },
  {
   "cell_type": "markdown",
   "id": "1d60fe77",
   "metadata": {},
   "source": [
    "We can now focus on creating the opposition column."
   ]
  },
  {
   "cell_type": "code",
   "execution_count": null,
   "id": "9ab3a485",
   "metadata": {},
   "outputs": [],
   "source": [
    "#Create opposition column and give TRUE/FALSE values based on if Location/Team columns are the same.\n",
    "dfFinal['Opposition'] = dfFinal['Location']\n",
    "dfFinal = dfFinal.assign(Opposition = lambda x: (x['team']==x['Location']))\n",
    "dfFinal.reset_index(drop = True, inplace= True)\n",
    "\n",
    "#If TRUE, we know the opposition is the team listed in team2 column, otherwise it must be the team listed in location column. \n",
    "rowcount = 0 \n",
    "for x in dfFinal['Opposition']:\n",
    "    if x == True:\n",
    "        dfFinal.at[rowcount, 'Opposition']=dfFinal.at[rowcount, 'team2']\n",
    "    else:\n",
    "        dfFinal.at[rowcount, 'Opposition']=dfFinal.at[rowcount, 'Location']\n",
    "    rowcount = rowcount + 1\n",
    "\n",
    "dfFinal.drop(columns=['team2'], inplace=True)\n",
    "\n",
    "dfFinal.head()"
   ]
  },
  {
   "cell_type": "markdown",
   "id": "5b3230af",
   "metadata": {},
   "source": [
    "That's better. Let's now convert the team name in location to either home/away. "
   ]
  },
  {
   "cell_type": "code",
   "execution_count": null,
   "id": "0d473311",
   "metadata": {},
   "outputs": [],
   "source": [
    "#Test if value in column equals value in location/team (if TRUE - Home game, and if FALSE - Away game).\n",
    "dfFinal = dfFinal.assign(Location = lambda x: (x['team']==x['Location']))\n",
    "\n",
    "#Convert TRUE/FALSE boolean to string to allow for string replacements. \n",
    "mask = dfFinal.applymap(type) != bool\n",
    "d = {True: 'TRUE', False: 'FALSE'}                                        \n",
    "dfFinal = dfFinal.where(mask, dfFinal.replace(d))\n",
    "\n",
    "#Replace TRUE/FALSE with Home/Away string.\n",
    "dfFinal['Location'] = dfFinal['Location'].replace({'TRUE':'Home', 'FALSE':'Away'})\n",
    "\n",
    "dfFinal.head()"
   ]
  },
  {
   "cell_type": "markdown",
   "id": "409cc5d6",
   "metadata": {},
   "source": [
    "Voila! Let's print out our final 3 dataframes. "
   ]
  },
  {
   "cell_type": "code",
   "execution_count": null,
   "id": "d22912ca",
   "metadata": {},
   "outputs": [],
   "source": [
    "dfPlayers.head(2)\n",
    "dfFixtures.head(2)\n",
    "dfFinal.head(2)"
   ]
  },
  {
   "cell_type": "markdown",
   "id": "2e6ae398",
   "metadata": {},
   "source": [
    "That's all of our dataframes cleaned up!"
   ]
  },
  {
   "cell_type": "markdown",
   "id": "42c22c99",
   "metadata": {},
   "source": [
    "# 3. Data Engineering (Team Data)  \n",
    "\n",
    "### npxG/npxGA Calculation\n",
    "We will be applying a linear weighted mean over each team's npxG/npxGA over their 10 most recent games to predict future npxG/npxGA. The weighting chosen has been derived from previous testing. "
   ]
  },
  {
   "cell_type": "markdown",
   "id": "64471ae3",
   "metadata": {},
   "source": [
    "## 3.1. Team npxG"
   ]
  },
  {
   "cell_type": "code",
   "execution_count": null,
   "id": "bab5aea2",
   "metadata": {},
   "outputs": [],
   "source": [
    "#Collecting the npxG for each team in the current season for the last 10 games.\n",
    "Teams=df_2022['team'].unique().tolist()\n",
    "team_list=[]\n",
    "npxG_Team_Weighted_Mean=[]\n",
    "\n",
    "#Iterate through each team's previous 10 games via their game_id and store them as a list. \n",
    "for team in Teams: \n",
    "    dfTeam=dfFinal.loc[dfFinal['team'] == team]\n",
    "    gamelist=(dfTeam['game_id'].unique().tolist())[:10] \n",
    "    gamelist=gamelist[::-1] \n",
    "    \n",
    "#Go through each game_id and sum each player's npxG for said game and then multiply by a constant for our weighted average. \n",
    "    x=0 \n",
    "    npxgsum=0\n",
    "    sumweighting=0\n",
    "    for game in gamelist:\n",
    "        df2=dfTeam.loc[dfTeam['game_id'] == game]\n",
    "        df2=df2.drop_duplicates().reset_index(drop=True)\n",
    "        k=1+x\n",
    "        x+=(1/9)\n",
    "        npxgsum+=df2['npxG'].sum()*k \n",
    "        sumweighting=sumweighting+k \n",
    "    #Store results.\n",
    "    npxGMean=npxgsum/sumweighting\n",
    "    npxG_Team_Weighted_Mean.append(npxGMean)\n",
    "    team_list.append(team)"
   ]
  },
  {
   "cell_type": "markdown",
   "id": "bd4dbbb0",
   "metadata": {},
   "source": [
    "Split our df into fixtures only containing home/away games."
   ]
  },
  {
   "cell_type": "code",
   "execution_count": null,
   "id": "672f1aa9",
   "metadata": {},
   "outputs": [],
   "source": [
    "dfHome=dfFinal.loc[dfFinal['Location'] == 'Home']\n",
    "dfAway=dfFinal.loc[dfFinal['Location'] == 'Away']"
   ]
  },
  {
   "cell_type": "markdown",
   "id": "5ce73cee",
   "metadata": {},
   "source": [
    "## 3.2. Team npxG (Home Fixtures)"
   ]
  },
  {
   "cell_type": "code",
   "execution_count": null,
   "id": "88f0c816",
   "metadata": {
    "scrolled": true
   },
   "outputs": [],
   "source": [
    "team_list1=[]\n",
    "Home_npxG_Team_Weighted_Mean=[]\n",
    "\n",
    "for team in Teams: \n",
    "    dfTeam=dfHome.loc[dfHome['team'] == team] #This is where we specify home games. All else is same as above. \n",
    "    gamelist=(dfTeam['game_id'].unique().tolist())[:10] \n",
    "    gamelist=gamelist[::-1] \n",
    "    \n",
    "    Home_npxgsum=0\n",
    "    x=0\n",
    "    sumweighting=0\n",
    "    for game in gamelist:\n",
    "        df2=dfTeam.loc[dfTeam['game_id'] == game]\n",
    "        df2=df2.drop_duplicates().reset_index(drop=True)\n",
    "        k=1+x\n",
    "        x+=(1/9)\n",
    "        Home_npxgsum+=df2['npxG'].sum()*k\n",
    "        sumweighting=sumweighting+k \n",
    "    \n",
    "    Home_npxGMean=Home_npxgsum/sumweighting\n",
    "    Home_npxG_Team_Weighted_Mean.append(Home_npxGMean)\n",
    "    team_list1.append(team)"
   ]
  },
  {
   "cell_type": "markdown",
   "id": "12509cfe",
   "metadata": {},
   "source": [
    "## 3.3. Team npxG (Away Fixtures)"
   ]
  },
  {
   "cell_type": "code",
   "execution_count": null,
   "id": "4e47a43d",
   "metadata": {},
   "outputs": [],
   "source": [
    "team_list2=[]\n",
    "Away_npxG_Team_Weighted_Mean=[]\n",
    "\n",
    "for team in Teams: \n",
    "    dfTeam=dfAway.loc[dfAway['team'] == team] #This is where we specify away games. All else is same as above.\n",
    "    gamelist=(dfTeam['game_id'].unique().tolist())[:10] \n",
    "    gamelist=gamelist[::-1] \n",
    "    \n",
    "    Away_npxgsum=0\n",
    "    x=0\n",
    "    sumweighting=0\n",
    "    for game in gamelist:\n",
    "        df2=dfTeam.loc[dfTeam['game_id'] == game]\n",
    "        df2=df2.drop_duplicates().reset_index(drop=True)\n",
    "        k=1+x\n",
    "        x+=(1/9)\n",
    "        Away_npxgsum+=df2['npxG'].sum()*k\n",
    "        sumweighting=sumweighting+k \n",
    "\n",
    "    Away_npxGMean=Away_npxgsum/sumweighting\n",
    "    Away_npxG_Team_Weighted_Mean.append(Away_npxGMean)\n",
    "    team_list2.append(team)"
   ]
  },
  {
   "cell_type": "markdown",
   "id": "f5e65e4f",
   "metadata": {},
   "source": [
    "## 3.4. Team npxGA \n",
    "\n",
    "Same process as above but summing npxG of the opposition to collect defensive stats (npxGA) for each team."
   ]
  },
  {
   "cell_type": "code",
   "execution_count": null,
   "id": "ebb8d655",
   "metadata": {},
   "outputs": [],
   "source": [
    "team_list1=[]\n",
    "npxGA_Team_Weighted_Mean=[]\n",
    "\n",
    "for team in Teams: \n",
    "    dfTeam=dfFinal.loc[dfFinal['team'] == team]\n",
    "    gamelist=(dfTeam['game_id'].unique().tolist())[:10] \n",
    "    gamelist=gamelist[::-1] \n",
    "     \n",
    "    x=0 \n",
    "    npxgasum=0\n",
    "    sumweighting=0\n",
    "    for game in gamelist:\n",
    "        df2=dfFinal.loc[dfFinal['game_id'] == game]\n",
    "        df2=df2.loc[df2['team'] != team] #Here we specify collecting npxG for opposition - in turn giving us the npxGA.\n",
    "        df2=df2.drop_duplicates().reset_index(drop=True)\n",
    "        k=1+x\n",
    "        x+=(1/9)\n",
    "        npxgasum+=df2['npxG'].sum()*k\n",
    "        sumweighting=sumweighting+k \n",
    "\n",
    "    npxGAMean=npxgasum/sumweighting\n",
    "    npxGA_Team_Weighted_Mean.append(npxGAMean)\n",
    "    team_list1.append(team)"
   ]
  },
  {
   "cell_type": "markdown",
   "id": "f316dfe5",
   "metadata": {},
   "source": [
    "## 3.5. Team npxGA (Home Fixtures)"
   ]
  },
  {
   "cell_type": "code",
   "execution_count": null,
   "id": "8bf79500",
   "metadata": {},
   "outputs": [],
   "source": [
    "team_list1=[]\n",
    "Home_npxGA_Team_Weighted_Mean=[]\n",
    "\n",
    "for team in Teams: \n",
    "    dfTeam=dfHome.loc[dfHome['team'] == team]\n",
    "    gamelist=(dfTeam['game_id'].unique().tolist())[:10] \n",
    "    gamelist=gamelist[::-1] \n",
    "    \n",
    "    Home_npxgasum=0\n",
    "    x=0\n",
    "    sumweighting=0\n",
    "    for game in gamelist:\n",
    "        df2=dfAway.loc[dfAway['game_id'] == game]\n",
    "        df2=df2.loc[df2['team'] != team]\n",
    "        df2=df2.drop_duplicates().reset_index(drop=True)\n",
    "        k=1+x\n",
    "        x+=(1/9)\n",
    "        Home_npxgasum+=df2['npxG'].sum()*k\n",
    "        sumweighting=sumweighting+k \n",
    "        \n",
    "    Home_npxGAMean=Home_npxgasum/sumweighting\n",
    "    Home_npxGA_Team_Weighted_Mean.append(Home_npxGAMean)\n",
    "    team_list1.append(team)"
   ]
  },
  {
   "cell_type": "markdown",
   "id": "d71ffb7b",
   "metadata": {},
   "source": [
    "## 3.6. Team npxGA (Away Fixtures)"
   ]
  },
  {
   "cell_type": "code",
   "execution_count": null,
   "id": "8b427896",
   "metadata": {},
   "outputs": [],
   "source": [
    "team_list2=[]\n",
    "Away_npxGA_Team_Weighted_Mean=[]\n",
    "\n",
    "for team in Teams: \n",
    "    dfTeam=dfAway.loc[dfAway['team'] == team]\n",
    "    gamelist=(dfTeam['game_id'].unique().tolist())[:10] \n",
    "    gamelist=gamelist[::-1] \n",
    "    \n",
    "    Away_npxgasum=0\n",
    "    x=0\n",
    "    sumweighting=0\n",
    "    for game in gamelist:\n",
    "        df2=dfHome.loc[dfHome['game_id'] == game]\n",
    "        df2=df2.loc[df2['team'] != team]\n",
    "        df2=df2.drop_duplicates().reset_index(drop=True)\n",
    "        k=1+x\n",
    "        x+=(1/9)\n",
    "        Away_npxgasum+=df2['npxG'].sum()*k\n",
    "        sumweighting=sumweighting+k   \n",
    "\n",
    "    Away_npxGAMean=Away_npxgasum/sumweighting\n",
    "    Away_npxGA_Team_Weighted_Mean.append(Away_npxGAMean)\n",
    "    team_list1.append(team)"
   ]
  },
  {
   "cell_type": "markdown",
   "id": "5112de28",
   "metadata": {},
   "source": [
    "Let's combine our npxG and npxGA home/away data into a new dataframe for inspection. "
   ]
  },
  {
   "cell_type": "code",
   "execution_count": null,
   "id": "9cda234e",
   "metadata": {},
   "outputs": [],
   "source": [
    "df_att_team = pd.DataFrame((zip(team_list, npxG_Team_Weighted_Mean, Home_npxG_Team_Weighted_Mean, Away_npxG_Team_Weighted_Mean)),\n",
    "               columns =['Team', 'npxG', 'Home npxG', 'Away npxG'])\n",
    "df_def_team = pd.DataFrame((zip(team_list1, npxGA_Team_Weighted_Mean, Home_npxGA_Team_Weighted_Mean, Away_npxGA_Team_Weighted_Mean)),\n",
    "               columns =['Team', 'npxGA', 'Home npxGA', 'Away npxGA'])\n",
    "df_team=(pd.merge(df_att_team, df_def_team, on='Team'))\n",
    "df_team.head()"
   ]
  },
  {
   "cell_type": "markdown",
   "id": "6df11b91",
   "metadata": {},
   "source": [
    "Everything looks good! Note how home stats are typically better than away; higher npxG and lower npxGA i.e. they score more and concede less.\n",
    "\n",
    "Next we will create Home/Away modifiers. "
   ]
  },
  {
   "cell_type": "markdown",
   "id": "ce6353b4",
   "metadata": {},
   "source": [
    "# 4. Home/Away Modifiers for npxG/npxGA \n",
    "\n",
    "We will consider the impact oh Home/Away games for each team by creating modifiers for both npxG and npxGA\n",
    "\n",
    "\n",
    "## 4.1. Home/Away Modifier Calculation\n",
    "\n",
    "Our modifier will consist of two methods given equal weighting; \n",
    "\n",
    "1: A team's home/away performance relative to their base performance. \n",
    "\n",
    "2: A team's home/away performance relative to  other team's home/away performances (with a MinMax scaling applied to reduce the impact of more extreme results)."
   ]
  },
  {
   "cell_type": "code",
   "execution_count": null,
   "id": "82820e23",
   "metadata": {},
   "outputs": [],
   "source": [
    "#Modifier 1: A team's home/away performance relative to their base performance.\n",
    "scaler = MinMaxScaler(feature_range=(0.95, 1.05)) #bring in a scaler to lessen effect of outliers. \n",
    "df_team['Att_Home_Modifier_1']=df_team['Home npxG']/df_team['npxG']\n",
    "df_team['Att_Home_Modifier_1']=scaler.fit_transform(df_team['Att_Home_Modifier_1'].values.reshape(-1, 1))\n",
    "\n",
    "df_team['Att_Away_Modifier_1']=df_team['Away npxG']/df_team['npxG']\n",
    "df_team['Att_Away_Modifier_1']=scaler.fit_transform(df_team['Att_Away_Modifier_1'].values.reshape(-1, 1))\n",
    "\n",
    "df_team['Def_Home_Modifier_1']=df_team['Home npxGA']/df_team['npxGA']\n",
    "df_team['Def_Home_Modifier_1']=scaler.fit_transform(df_team['Def_Home_Modifier_1'].values.reshape(-1, 1))\n",
    "\n",
    "df_team['Def_Away_Modifier_1']=df_team['Away npxGA']/df_team['npxGA']\n",
    "df_team['Def_Away_Modifier_1']=scaler.fit_transform(df_team['Def_Away_Modifier_1'].values.reshape(-1, 1))\n",
    "\n",
    "#Modifier 2: A team's home/away performance relative to  other team's home/away performances.\n",
    "scaler = MinMaxScaler(feature_range=(0.9, 1.1)) #bring in a scaler to lessen effect of outliers. \n",
    "df_team['Att_Home_Modifier_2']=df_team['Home npxG']/(df_team['Home npxG'].median())\n",
    "df_team['Att_Home_Modifier_2']=scaler.fit_transform(df_team['Att_Home_Modifier_2'].values.reshape(-1, 1))\n",
    "\n",
    "df_team['Att_Away_Modifier_2']=df_team['Away npxG']/(df_team['Away npxG'].median())\n",
    "df_team['Att_Away_Modifier_2']=scaler.fit_transform(df_team['Att_Away_Modifier_2'].values.reshape(-1, 1))\n",
    "\n",
    "df_team['Def_Home_Modifier_2']=df_team['Home npxGA']/(df_team['Home npxGA'].median())     \n",
    "df_team['Def_Home_Modifier_2']=scaler.fit_transform(df_team['Def_Home_Modifier_2'].values.reshape(-1, 1))\n",
    "\n",
    "df_team['Def_Away_Modifier_2']=df_team['Away npxGA']/(df_team['Away npxGA'].median())\n",
    "df_team['Def_Away_Modifier_2']=scaler.fit_transform(df_team['Def_Away_Modifier_2'].values.reshape(-1, 1))\n",
    "\n",
    "#Final Modifier: Modifier 1 and 2 with equal weighting.                                                        \n",
    "df_team['npxG_Final_Home_Multiplier']=(df_team['Att_Home_Modifier_1']+df_team['Att_Home_Modifier_2'])/2\n",
    "df_team['npxG_Final_Away_Multiplier']=(df_team['Att_Away_Modifier_1']+df_team['Att_Away_Modifier_2'])/2\n",
    "df_team['npxGA_Final_Home_Multiplier']=(df_team['Def_Home_Modifier_1']+df_team['Def_Home_Modifier_2'])/2\n",
    "df_team['npxGA_Final_Away_Multiplier']=(df_team['Def_Away_Modifier_1']+df_team['Def_Away_Modifier_2'])/2\n",
    "\n",
    "#Apply modifier to relevant columns.\n",
    "df_team['Home_npxG']=df_team['Home npxG']*df_team['npxG_Final_Home_Multiplier']\n",
    "df_team['Away_npxG']=df_team['Away npxG']*df_team['npxG_Final_Away_Multiplier']\n",
    "df_team['Home_npxGA']=df_team['Home npxGA']*df_team['npxGA_Final_Home_Multiplier']\n",
    "df_team['Away_npxGA']=df_team['Away npxGA']*df_team['npxGA_Final_Away_Multiplier']\n",
    "\n",
    "#Clean up df.\n",
    "df_Team_Final=df_team[['Team', 'npxG', 'Home_npxG', 'Away_npxG', 'npxGA', 'Home_npxGA', 'Away_npxGA', 'npxG_Final_Home_Multiplier', 'npxG_Final_Away_Multiplier', 'npxGA_Final_Home_Multiplier', 'npxGA_Final_Away_Multiplier']]\n",
    "df_Team_Final.sort_values(by='npxGA', ascending=False, inplace=True)"
   ]
  },
  {
   "cell_type": "markdown",
   "id": "9899d15f",
   "metadata": {},
   "source": [
    "Let's print out our new updated dataframe. "
   ]
  },
  {
   "cell_type": "code",
   "execution_count": null,
   "id": "159b9330",
   "metadata": {},
   "outputs": [],
   "source": [
    "df_Team_Final.head()"
   ]
  },
  {
   "cell_type": "markdown",
   "id": "854e2bcc",
   "metadata": {},
   "source": [
    "## 4.2. Dictionaries\n",
    "\n",
    "Various dictionaries for future use. "
   ]
  },
  {
   "cell_type": "code",
   "execution_count": null,
   "id": "5391d6b0",
   "metadata": {
    "scrolled": true
   },
   "outputs": [],
   "source": [
    "Dict_Att_Home_Mod=dict(zip(df_Team_Final.Team, df_Team_Final.npxG_Final_Home_Multiplier))\n",
    "Dict_Att_Home=dict(zip(df_Team_Final.Team, df_Team_Final.Home_npxG)) \n",
    "Dict_Att_Away_Mod=dict(zip(df_Team_Final.Team, df_Team_Final.npxG_Final_Away_Multiplier))\n",
    "Dict_Att_Away=dict(zip(df_Team_Final.Team, df_Team_Final.Away_npxG))\n",
    "Dict_Def_Home=dict(zip(df_Team_Final.Team, df_Team_Final.npxGA_Final_Home_Multiplier))\n",
    "Dict_Def_Away=dict(zip(df_Team_Final.Team, df_Team_Final.npxGA_Final_Away_Multiplier))"
   ]
  },
  {
   "cell_type": "markdown",
   "id": "8fbb0ab7",
   "metadata": {},
   "source": [
    "# 5. Fixture Tables\n",
    "\n",
    "Next we'll move onto creating a fixture fixture table for each team for the next five GameWeeks. "
   ]
  },
  {
   "cell_type": "markdown",
   "id": "c9a9c2fc",
   "metadata": {},
   "source": [
    "## 5.1. Home Fixture Table"
   ]
  },
  {
   "cell_type": "code",
   "execution_count": null,
   "id": "6fe27589",
   "metadata": {},
   "outputs": [],
   "source": [
    "#Take the current gameweek and make a list of the upcoming five GameWeeks. \n",
    "Current_GameWeek=fixtures['GameWeek'].min()\n",
    "Five_GameWeeks=np.arange(Current_GameWeek, Current_GameWeek+5, 1)\n",
    "\n",
    "#Function to convert list into concatenated strings. \n",
    "def lts(s):\n",
    "    str1 = \"\"\n",
    "    for ele in s:\n",
    "        str1 += ele\n",
    "    return str1\n",
    "\n",
    "awaylist=[]\n",
    "awaylist1=[]\n",
    "teamlist=[]\n",
    "\n",
    "#Go through each team and find all their home fixtures for the next five GameWeeks.\n",
    "for team in Teams:\n",
    "    f1=fixtures[fixtures['Home Team'].str.contains(team)]\n",
    "    awaylist=[]\n",
    "    for i in Five_GameWeeks:\n",
    "        f2=f1[f1['GameWeek']==i]\n",
    "        \n",
    "        if f2.shape[0]>0:\n",
    "            away=f2.iloc[0,2] + ' ' + str(i) + ' - '\n",
    "            awaylist.append(away)\n",
    "    teamlist.append(team)\n",
    "    awayfix=lts(awaylist)\n",
    "    awaylist1.append(awayfix)\n",
    "\n",
    "d = {'Team':teamlist,'Home Fixtures':awaylist1}\n",
    "Home_Fixtures = pd.DataFrame(d)\n",
    "Home_Fixtures.head()"
   ]
  },
  {
   "cell_type": "markdown",
   "id": "51fdb424",
   "metadata": {},
   "source": [
    "We've captured the important data here. We just need to clean it up by seperating each gameweek into a column and placing the fixtures in the appropriate cell. "
   ]
  },
  {
   "cell_type": "code",
   "execution_count": null,
   "id": "1e77870a",
   "metadata": {},
   "outputs": [],
   "source": [
    "#Seperate each GameWeek into a column and place the fixtures for each team in their respective cells. \n",
    "def ics(the_list, substring):\n",
    "    for i, s in enumerate(the_list):\n",
    "        if substring in s:\n",
    "              return i\n",
    "    return -1\n",
    "\n",
    "dlist=[]\n",
    "for g in Five_GameWeeks:\n",
    "    dlist=[]\n",
    "    for x in Home_Fixtures['Home Fixtures']:\n",
    "        fixture = x.split(\" - \")\n",
    "        index = ics(fixture, str(g))\n",
    "        d = fixture[index]\n",
    "        d = re.sub(r'\\d+', '', d)\n",
    "        d = d.strip()\n",
    "        dlist.append(d)\n",
    "    Home_Fixtures['GW' + str(g) + ' Home'] = dlist\n",
    "Home_Fixtures = Home_Fixtures.drop(columns=['Home Fixtures'])\n",
    "Home_Fixtures.head()"
   ]
  },
  {
   "cell_type": "markdown",
   "id": "e98f2149",
   "metadata": {},
   "source": [
    "## 5.2. Away Fixture Table"
   ]
  },
  {
   "cell_type": "code",
   "execution_count": null,
   "id": "6331a74a",
   "metadata": {},
   "outputs": [],
   "source": [
    "homelist=[]\n",
    "homelist1=[]\n",
    "teamlist=[]\n",
    "\n",
    "for team in Teams:\n",
    "    f1=fixtures[fixtures['Away Team'].str.contains(team)]\n",
    "    \n",
    "    homelist=[]\n",
    "    for i in Five_GameWeeks:\n",
    "        f2=f1[f1['GameWeek']==i]\n",
    "        if f2.shape[0]>0:\n",
    "            home=f2.iloc[0,1] + ' ' + str(i) + ' - '\n",
    "            homelist.append(home)\n",
    "    teamlist.append(team)\n",
    "    homefix=lts(homelist)\n",
    "    homelist1.append(homefix)\n",
    "\n",
    "d = {'Team':teamlist,'Away Fixtures':homelist1}\n",
    "Away_Fixtures = pd.DataFrame(d)\n",
    "\n",
    "#------------------------------------------------------------------------------------------------------------------------------#\n",
    "\n",
    "dlist=[]\n",
    "for g in Five_GameWeeks:\n",
    "    dlist=[]\n",
    "    for x in Away_Fixtures['Away Fixtures']:\n",
    "        fixture = x.split(\" - \")\n",
    "        index = ics(fixture, str(g))\n",
    "        d = fixture[index]\n",
    "        d = re.sub(r'\\d+', '', d)\n",
    "        d = d.strip()\n",
    "        dlist.append(d)\n",
    "    Away_Fixtures['GW' + str(g) + ' Away'] = dlist\n",
    "Away_Fixtures = Away_Fixtures.drop(columns=['Away Fixtures'])\n",
    "Away_Fixtures.head()"
   ]
  },
  {
   "cell_type": "markdown",
   "id": "28c8cb6d",
   "metadata": {},
   "source": [
    "## 5.3. Home Fixture Table - Insert Stats\n",
    "\n",
    "Here we will be utilizing the dictionaries created earlier to insert attacking/defensive stats. "
   ]
  },
  {
   "cell_type": "code",
   "execution_count": null,
   "id": "025dda05",
   "metadata": {},
   "outputs": [],
   "source": [
    "Home_Fixtures_Team=Home_Fixtures.copy()\n",
    "Home_Fixtures_Team['Team npxG']=Home_Fixtures_Team['Team']\n",
    "\n",
    "#Replace team with their respective defensive away stats. \n",
    "for g in Five_GameWeeks:\n",
    "    Home_Fixtures_Team=Home_Fixtures_Team.replace({\"GW\" + str(g) + \" Home\": Dict_Def_Away})\n",
    "    Home_Fixtures_Team=Home_Fixtures_Team.replace({\"Team\": Dict_Att_Home})\n",
    "    \n",
    "columncount=0\n",
    "for g in Five_GameWeeks:\n",
    "    rowcount=0\n",
    "    columncount = columncount + 1    \n",
    "    \n",
    "    for x in Home_Fixtures_Team[\"GW\" + str(g) + \" Home\"]:\n",
    "        if x == \"\":\n",
    "            Home_Fixtures_Team.iloc[rowcount, columncount]=0 #Replace blank spaces with 0. \n",
    "        else:\n",
    "            Home_Fixtures_Team.iloc[rowcount, columncount]=Home_Fixtures_Team.iloc[rowcount, 0]*x #npxG modified by npxGA of away team\n",
    "        rowcount = rowcount + 1\n",
    "        \n",
    "Home_Fixtures_Team.head()"
   ]
  },
  {
   "cell_type": "markdown",
   "id": "45836dbb",
   "metadata": {},
   "source": [
    "## 5.4. Away Fixture Table - Insert Stats"
   ]
  },
  {
   "cell_type": "code",
   "execution_count": null,
   "id": "5aaeec2a",
   "metadata": {},
   "outputs": [],
   "source": [
    "Away_Fixtures_Team=Away_Fixtures.copy()\n",
    "Away_Fixtures_Team['Team npxG']=Away_Fixtures_Team['Team']\n",
    "for g in Five_GameWeeks:\n",
    "    Away_Fixtures_Team=Away_Fixtures_Team.replace({\"GW\" + str(g) + \" Away\": Dict_Def_Home})\n",
    "    Away_Fixtures_Team=Away_Fixtures_Team.replace({\"Team\": Dict_Att_Away})\n",
    "\n",
    "columncount=0\n",
    "for g in Five_GameWeeks:\n",
    "    rowcount=0\n",
    "    columncount = columncount + 1    \n",
    "    \n",
    "    for x in Away_Fixtures_Team[\"GW\" + str(g) + \" Away\"]:\n",
    "        if x == \"\":\n",
    "            Away_Fixtures_Team.iloc[rowcount, columncount]=0\n",
    "        else:\n",
    "            Away_Fixtures_Team.iloc[rowcount, columncount]=Away_Fixtures_Team.iloc[rowcount, 0]*x\n",
    "        rowcount = rowcount + 1\n",
    "Away_Fixtures_Team.head()"
   ]
  },
  {
   "cell_type": "markdown",
   "id": "595ec987",
   "metadata": {},
   "source": [
    "## 5.5. Finalizing Fixture Table"
   ]
  },
  {
   "cell_type": "markdown",
   "id": "1ab93295",
   "metadata": {},
   "source": [
    "Let's merge Home and Away Fixtures for each team."
   ]
  },
  {
   "cell_type": "code",
   "execution_count": null,
   "id": "146b153b",
   "metadata": {},
   "outputs": [],
   "source": [
    "Fixtures_Merged_Team=(pd.merge(Home_Fixtures_Team, Away_Fixtures_Team, how='left', on='Team npxG'))\n",
    "Fixtures_Merged_Team.head()"
   ]
  },
  {
   "cell_type": "markdown",
   "id": "89348be5",
   "metadata": {},
   "source": [
    "Not very pretty, let's clean it up.  "
   ]
  },
  {
   "cell_type": "code",
   "execution_count": null,
   "id": "db54223c",
   "metadata": {},
   "outputs": [],
   "source": [
    "#Combine GW'x' Home and Away columns into 1 column\n",
    "for g in Five_GameWeeks:\n",
    "    Fixtures_Merged_Team['GW' + str(g)] = Fixtures_Merged_Team['GW' + str(g) + ' Home'] + Fixtures_Merged_Team['GW' + str(g) + ' Away']\n",
    "\n",
    "#Send Team npxG to last column of dataframe\n",
    "new_cols = [col for col in Fixtures_Merged_Team.columns if col != 'Team npxG'] + ['Team npxG']\n",
    "Fixtures_Merged_Team = Fixtures_Merged_Team[new_cols]\n",
    "\n",
    "#Remove all other columns apart from the relevant GW columns\n",
    "Fixtures_Merged_Team = Fixtures_Merged_Team.iloc[:, -(np.count_nonzero(Five_GameWeeks)+1):]\n",
    "\n",
    "#New npxG total columns based on the sum of all GW's and renaming to 'Team' column for clarity \n",
    "Fixtures_Merged_Team['npxG Total']=Fixtures_Merged_Team.iloc[:, 0:4].sum(axis=1)\n",
    "Fixtures_Merged_Team=Fixtures_Merged_Team.rename(columns={'Team npxG':'Team'})\n",
    "\n",
    "#Reposition team column to first column for clarity and sort by npxG total \n",
    "team = Fixtures_Merged_Team['Team']\n",
    "Fixtures_Merged_Team.drop(labels=['Team'], axis=1,inplace = True)\n",
    "Fixtures_Merged_Team.insert(0, 'Team', team)\n",
    "Fixtures_Merged_Team.sort_values(by='npxG Total', ascending=False, inplace=True)\n",
    "df_Team_Final_Fixture_Predictions = Fixtures_Merged_Team\n",
    "\n",
    "df_Team_Final_Fixture_Predictions.head()"
   ]
  },
  {
   "cell_type": "markdown",
   "id": "d96ba5b9",
   "metadata": {},
   "source": [
    "Much better - our final Teams-Prediction table! "
   ]
  },
  {
   "cell_type": "markdown",
   "id": "af50d039",
   "metadata": {},
   "source": [
    "# 6. Data Engineering (Player Data) - Fuzzy Matching Included\n",
    "\n",
    "We calculate the npxG for each player using the same steps used in the Data Engineering (Team Data) section and apply the same fixture tables. \n",
    "\n",
    "However, an extra step is required in our player data since the official FPL site and FBref have named certain players differently. This means when joining datasets between our two player dataframes from our different sources, a straight join between the two datasets will be infeasible. We will use fuzzy matching to resolve this. \n",
    "\n",
    "## 6.1. Player npxG and xAG\n",
    "\n",
    "Very similar process to the one used in Team npxG. We will however include expected assisted goals (xAG) as well as npxG.\n"
   ]
  },
  {
   "cell_type": "code",
   "execution_count": null,
   "id": "f1c3472e",
   "metadata": {},
   "outputs": [],
   "source": [
    "Players=df_2022['player'].unique().tolist() #Every player in the current season.\n",
    "player_list=[]\n",
    "mins=[]\n",
    "npxG_Player_Weighted_Mean=[]\n",
    "xAG_Player_Weighted_Mean=[]\n",
    "\n",
    "#Iterate to find each player's last 10 games.\n",
    "for player in Players: \n",
    "    dfPlayer=dfFinal.loc[dfFinal['player']==player]\n",
    "    dfPlayer=(dfPlayer.drop_duplicates().reset_index(drop=True))[:10]\n",
    "    dfPlayer=dfPlayer.iloc[::-1]\n",
    "    \n",
    "    #Give weighting ranging from 1 to 2. \n",
    "    step=1/(dfPlayer.shape[0])\n",
    "    weighting=(np.arange(1, 2, step)).tolist()\n",
    "    dfPlayer['weighting']=weighting\n",
    "    weightingsum=dfPlayer['weighting'].sum()\n",
    "    totalmins=dfPlayer['Mins'].sum()\n",
    "    \n",
    "    npxG_Weighted=((dfPlayer['npxG']*dfPlayer['weighting']).sum())/weightingsum\n",
    "    xAG_Weighted=((dfPlayer['xAG']*dfPlayer['weighting']).sum())/weightingsum\n",
    "    \n",
    "    #Store results\n",
    "    mins.append(totalmins)\n",
    "    npxG_Player_Weighted_Mean.append(npxG_Weighted)\n",
    "    xAG_Player_Weighted_Mean.append(xAG_Weighted)\n",
    "    player_list.append(player)"
   ]
  },
  {
   "cell_type": "markdown",
   "id": "ba5a196d",
   "metadata": {},
   "source": [
    "Make a dataframe from our fbref player data. "
   ]
  },
  {
   "cell_type": "code",
   "execution_count": null,
   "id": "0f03b81d",
   "metadata": {},
   "outputs": [],
   "source": [
    "df_Players_fbref = pd.DataFrame((zip(player_list, npxG_Player_Weighted_Mean, xAG_Player_Weighted_Mean, mins)),\n",
    "               columns =['Player', 'npxG/Appearance', 'xAG/Appearance', 'Total Minutes'])\n",
    "df_Players_fbref['npxG + xAG/Appearance']=df_Players_fbref['npxG/Appearance']+df_Players_fbref['xAG/Appearance']\n",
    "df_Players_fbref.sort_values(by='npxG + xAG/Appearance', ascending=False, inplace=True)\n",
    "df_Players_fbref.head()"
   ]
  },
  {
   "cell_type": "markdown",
   "id": "a83eebe5",
   "metadata": {},
   "source": [
    "## 6.2. Fuzzy Matching"
   ]
  },
  {
   "cell_type": "markdown",
   "id": "24b1da40",
   "metadata": {},
   "source": [
    "When merging our data with the player information from the official FPL site we encounter a problem. "
   ]
  },
  {
   "cell_type": "code",
   "execution_count": null,
   "id": "7f04b031",
   "metadata": {},
   "outputs": [],
   "source": [
    "df_player_final=(pd.merge(df_Players_fbref, dfPlayers_FPL, how='left', on='Player'))\n",
    "df_player_final = df_player_final.reset_index()\n",
    "\n",
    "df_player_final.head(5)"
   ]
  },
  {
   "cell_type": "markdown",
   "id": "2ee97a99",
   "metadata": {},
   "source": [
    "Alot of NaN's because not every player name perfectly matches between the two sets as proven below:"
   ]
  },
  {
   "cell_type": "code",
   "execution_count": null,
   "id": "f9aed25e",
   "metadata": {},
   "outputs": [],
   "source": [
    "dfPlayers_FPL_ManUtd=dfPlayers_FPL.loc[dfPlayers_FPL['Team'] == 'Man Utd']\n",
    "print ('Official FPL: ' + str(dfPlayers_FPL_ManUtd.iloc[8][0]))\n",
    "print ('FBref: ' + str(df_player_final.iloc[4][1]))"
   ]
  },
  {
   "cell_type": "markdown",
   "id": "f118f0f9",
   "metadata": {},
   "source": [
    "We will need to use fuzzy-matching to overcome this.\n",
    "\n",
    "We will use two different algorithms. If the player match reaches a threshhold of 90% accuracy on either algorithm, we will presume the matching is correct. If not, we will manually cross-check with the suggestions our algorithms give us. "
   ]
  },
  {
   "cell_type": "code",
   "execution_count": null,
   "id": "87f9ccca",
   "metadata": {},
   "outputs": [],
   "source": [
    "df_player_final_null = df_player_final[df_player_final['Team'].isna()] #Dataframe of players which returned null"
   ]
  },
  {
   "cell_type": "markdown",
   "id": "d96b6976",
   "metadata": {},
   "source": [
    "First fuzzy-matching algorithm: "
   ]
  },
  {
   "cell_type": "code",
   "execution_count": null,
   "id": "94b870b3",
   "metadata": {},
   "outputs": [],
   "source": [
    "Suggested_Player = []\n",
    "Score = []\n",
    "PlayerList = dfPlayers['Player'].to_list()\n",
    "\n",
    "#Reference each player from the official FPL site with the respective suggested player from FBref. \n",
    "for name_to_find in df_player_final_null['Player']:\n",
    "    Suggested_P =  (process.extractOne(name_to_find, PlayerList))[0] #calling fuzzywords library to fuzzyword match.\n",
    "    S = (process.extractOne(name_to_find, PlayerList))[1]\n",
    "    Suggested_Player.append(Suggested_P)\n",
    "    Score.append(S)\n",
    "\n",
    "#Create dataframe from the lists created above. \n",
    "df_player_final_null['Suggested_Player']=Suggested_Player\n",
    "df_player_final_null['Score']=Score\n",
    "df_player_final_null=df_player_final_null.reset_index()\n",
    "df_player_final_null=df_player_final_null[['Player', 'Suggested_Player', 'index', 'Score']]\n",
    "\n",
    "df_player_final_null.head()"
   ]
  },
  {
   "cell_type": "markdown",
   "id": "d0603d58",
   "metadata": {},
   "source": [
    "A score of 90 or above demonstrates very high similarity. \n",
    "\n",
    "Split matches between between above/below 90 score."
   ]
  },
  {
   "cell_type": "code",
   "execution_count": null,
   "id": "3260fb08",
   "metadata": {},
   "outputs": [],
   "source": [
    "df_player_final_null1=df_player_final_null.query('Score>=90') \n",
    "df_player_final_null2=df_player_final_null.query('Score<90')"
   ]
  },
  {
   "cell_type": "markdown",
   "id": "67a37f60",
   "metadata": {},
   "source": [
    "Join players where suggested players >90 score."
   ]
  },
  {
   "cell_type": "code",
   "execution_count": null,
   "id": "384a0306",
   "metadata": {},
   "outputs": [],
   "source": [
    "#Merging suggested players with >90 score.\n",
    "df_player_final_null1=df_player_final_null1[['Suggested_Player', 'index']]\n",
    "df_player_final1=(pd.merge(df_player_final, df_player_final_null1, how='left', on='index'))\n",
    "df_player_final1.Suggested_Player.fillna(df_player_final1.Player, inplace=True)\n",
    "df_player_final1=df_player_final1[['Suggested_Player', 'index', 'npxG/Appearance', 'xAG/Appearance', 'npxG + xAG/Appearance']]\n",
    "\n",
    "df_player_final1.head()"
   ]
  },
  {
   "cell_type": "markdown",
   "id": "62852435",
   "metadata": {},
   "source": [
    "Second fuzzy-matching algorithm:"
   ]
  },
  {
   "cell_type": "code",
   "execution_count": null,
   "id": "d9b03eb0",
   "metadata": {},
   "outputs": [],
   "source": [
    "Suggested_Player = []\n",
    "Score = []\n",
    "\n",
    "for name_to_find in df_player_final_null2['Player']:\n",
    "    Suggested_P =  (process.extractOne(name_to_find, PlayerList, scorer=fuzz.token_sort_ratio))[0]\n",
    "    S = (process.extractOne(name_to_find, PlayerList, scorer=fuzz.token_sort_ratio))[1]\n",
    "    Suggested_Player.append(Suggested_P)\n",
    "    Score.append(S)\n",
    "    \n",
    "df_player_final_null2['Suggested_Player1']=Suggested_Player\n",
    "df_player_final_null2['Score1']=Score\n",
    "df_player_final_null2=df_player_final_null2.reset_index(drop=True)\n",
    "\n",
    "df_player_final_null2.head()"
   ]
  },
  {
   "cell_type": "markdown",
   "id": "4e371b52",
   "metadata": {},
   "source": [
    "Unfortunately at this point we have to manually review the remaining NaN. "
   ]
  },
  {
   "cell_type": "code",
   "execution_count": null,
   "id": "68cd8684",
   "metadata": {},
   "outputs": [],
   "source": [
    "df_player_final_null2.at[0, 'Player'] = 'Gabriel Fernando de Jesus'\n",
    "df_player_final_null2.at[1, 'Player'] = 'Diogo Teixeira da Silva'\n",
    "df_player_final_null2.at[2, 'Player'] = 'Diego Da Silva Costa'\n",
    "df_player_final_null2.at[3, 'Player'] = 'Andreas Hoelgebaum Pereira'\n",
    "df_player_final_null2.at[4, 'Player'] = 'Ilkay Gündogan'\n",
    "df_player_final_null2.at[5, 'Player'] = 'Pedro Lomba Neto'\n",
    "df_player_final_null2.at[6, 'Player'] = 'Lucas Torreira di Pascua'\n",
    "df_player_final_null2.at[7, 'Player'] = 'Daniel Castelo Podence'\n",
    "df_player_final_null2.at[8, 'Player'] = 'Emiliano Buendía Stati'\n",
    "df_player_final_null2.at[9, 'Player'] = 'Fábio Ferreira Vieira'\n",
    "df_player_final_null2.at[10, 'Player'] = 'Wilfried Gnonto'\n",
    "df_player_final_null2.at[11, 'Player'] = 'João Filipe Iria Santos Moutinho'\n",
    "df_player_final_null2.at[12, 'Player'] = 'Joe Ayodele-Aribo'\n",
    "df_player_final_null2.at[13, 'Player'] = 'Tomas Soucek'\n",
    "df_player_final_null2.at[14, 'Player'] = 'Bernardo Veiga de Carvalho e Silva'\n",
    "df_player_final_null2.at[15, 'Player'] = 'Gonçalo Manuel Ganchinho Guedes'\n",
    "df_player_final_null2.at[16, 'Player'] = 'Bobby De Cordova-Reid'\n",
    "df_player_final_null2.at[17, 'Player'] = 'Carlos Henrique Casimiro'\n",
    "df_player_final_null2.at[18, 'Player'] = 'Fábio Freitas Gouveia Carvalho'\n",
    "df_player_final_null2.at[19, 'Player'] = 'Benjamin White'\n",
    "df_player_final_null2.at[20, 'Player'] = 'Konstantinos Tsimikas'\n",
    "df_player_final_null2.at[21, 'Player'] = 'Rasmus Kristensen'\n",
    "df_player_final_null2.at[22, 'Player'] = 'Rúben da Silva Neves'\n",
    "df_player_final_null2.at[23, 'Player'] = 'Mateo Kovacic'\n",
    "df_player_final_null2.at[24, 'Player'] = 'Rúben Gato Alves Dias'\n",
    "df_player_final_null2.at[25, 'Player'] = 'Thiago Emiliano da Silva'\n",
    "df_player_final_null2.at[26, 'Player'] = 'Renan Augusto Lodi dos Santos'\n",
    "df_player_final_null2.at[27, 'Player'] = 'Jonathan Castro Otto'\n",
    "df_player_final_null2.at[28, 'Player'] = 'Cédric Alves Soares'\n",
    "df_player_final_null2.at[29, 'Player'] = 'Toti António Gomes'\n",
    "df_player_final_null2.at[30, 'Player'] = 'Joseph Gomez'\n",
    "df_player_final_null2.at[31, 'Player'] = 'Rúben Nascimento Vinagre'\n",
    "df_player_final_null2.at[32, 'Player'] = 'Fabio Henrique Tavares'\n",
    "df_player_final_null2.at[33, 'Player'] = 'Nélson Cabral Semedo'\n",
    "df_player_final_null2.at[34, 'Player'] = 'Lucas Rodrigues Moura da Silva'\n",
    "df_player_final_null2.at[35, 'Player'] = 'Jorge Luiz Frello Filho'\n",
    "df_player_final_null2.at[36, 'Player'] = 'Mateo Joseph Fernández'\n",
    "df_player_final_null2.at[37, 'Player'] = 'José Malheiro de Sá'\n",
    "df_player_final_null2.at[38, 'Player'] = 'Alex Mighten'\n",
    "df_player_final_null2.at[39, 'Player'] = 'Marcus Oliveira Alencar'\n",
    "df_player_final_null2.at[40, 'Player'] = 'Carlos Ribeiro Dias'\n",
    "df_player_final_null2.at[41, 'Player'] = 'Lukasz Fabianski'\n",
    "df_player_final_null2=df_player_final_null2[['Player', 'index']]"
   ]
  },
  {
   "cell_type": "markdown",
   "id": "0a129788",
   "metadata": {},
   "source": [
    "That should be all our players matched. Let's check. "
   ]
  },
  {
   "cell_type": "code",
   "execution_count": null,
   "id": "3d7dc0c8",
   "metadata": {},
   "outputs": [],
   "source": [
    "#Merge Suggested Players with Players and cleaning up. \n",
    "df_player_final2=(pd.merge(df_player_final1, df_player_final_null2, how='left', on='index'))\n",
    "df_player_final2.Player.fillna(df_player_final2.Suggested_Player, inplace=True)\n",
    "df_player_final2=df_player_final2[['Player', 'npxG/Appearance', 'xAG/Appearance', 'npxG + xAG/Appearance']]\n",
    "df_Player_Final=(pd.merge(df_player_final2, dfPlayers_FPL, how='left', on='Player'))\n",
    "df_Player_Final['Team'] = df_Player_Final['Team'].replace({'Newcastle':'Newcastle Utd', 'Spurs':'Tottenham','Leeds':'Leeds United', 'Leicester':'Leicester City', 'Man City':'Manchester City', 'Man Utd':'Manchester Utd', \"Nott'm Forest\":\"Nott'ham Forest\"})\n",
    "\n",
    "df_Player_Final.head()"
   ]
  },
  {
   "cell_type": "markdown",
   "id": "4da19705",
   "metadata": {},
   "source": [
    "The teams and positions for each player have successfully updated! "
   ]
  },
  {
   "cell_type": "markdown",
   "id": "f603183e",
   "metadata": {},
   "source": [
    "# 7. Players Fixture Tables\n",
    "\n",
    "Again, the same steps used in the Teams Fixture Tables will be used. We will be adjusting npxG and npxGA based on the home/away multipliers of the teams each player will face. "
   ]
  },
  {
   "cell_type": "markdown",
   "id": "5236aad1",
   "metadata": {},
   "source": [
    "## 7.1. Merge with Team Data\n",
    "\n",
    "We merge our teams dataframe to update the npxG/xAG of each player using the home/away multipliers. "
   ]
  },
  {
   "cell_type": "code",
   "execution_count": null,
   "id": "2c5f8aee",
   "metadata": {},
   "outputs": [],
   "source": [
    "df_Player_Final=(pd.merge(df_Player_Final, df_Team_Final, how='left', on='Team'))\n",
    "df_Player_Final.head()"
   ]
  },
  {
   "cell_type": "code",
   "execution_count": null,
   "id": "9ad1dc33",
   "metadata": {},
   "outputs": [],
   "source": [
    "#Calculate our new npxG/xAG's for Home/Away Fixtures and do some cleaning. \n",
    "\n",
    "#npxG and xAG - Home\n",
    "df_Player_Final['npxG/Appearance Home']=df_Player_Final['npxG/Appearance']*df_Player_Final['npxG_Final_Home_Multiplier']\n",
    "df_Player_Final['xAG/Appearance Home']=df_Player_Final['xAG/Appearance']*df_Player_Final['npxG_Final_Home_Multiplier']\n",
    "\n",
    "#npxG and xAG - Away\n",
    "df_Player_Final['npxG/Appearance Away']=df_Player_Final['npxG/Appearance']*df_Player_Final['npxG_Final_Away_Multiplier']\n",
    "df_Player_Final['xAG/Appearance Away']=df_Player_Final['xAG/Appearance']*df_Player_Final['npxG_Final_Away_Multiplier']\n",
    "\n",
    "#npxG + xAG - Home = Away\n",
    "df_Player_Final['npxG + xAG/Appearance Home']=df_Player_Final['npxG/Appearance Home']+df_Player_Final['xAG/Appearance Home']\n",
    "df_Player_Final['npxG + xAG/Appearance Away']=df_Player_Final['npxG/Appearance Away']+df_Player_Final['xAG/Appearance Away']\n",
    "\n",
    "#Df cleaning\n",
    "df_Player_Final=df_Player_Final[['Player', 'Position', 'Team', 'npxG/Appearance', 'xAG/Appearance', 'npxG + xAG/Appearance', 'npxG/Appearance Home', 'xAG/Appearance Home', 'npxG + xAG/Appearance Home', 'npxG/Appearance Away', 'xAG/Appearance Away', 'npxG + xAG/Appearance Away']]\n",
    "df_Player_Final.head()"
   ]
  },
  {
   "cell_type": "markdown",
   "id": "74de0f1d",
   "metadata": {},
   "source": [
    "Split our dataframe into Home/Away Games and collect the next 5 GW's for each Player. "
   ]
  },
  {
   "cell_type": "code",
   "execution_count": null,
   "id": "e76967bb",
   "metadata": {},
   "outputs": [],
   "source": [
    "df_Player_Final_Home=df_Player_Final[['Player', 'Position', 'Team', 'npxG/Appearance Home', 'xAG/Appearance Home', 'npxG + xAG/Appearance Home']]\n",
    "df_Player_Final_Away=df_Player_Final[['Player', 'Position', 'Team', 'npxG/Appearance Away', 'xAG/Appearance Away', 'npxG + xAG/Appearance Away']]\n",
    "df_Player_Final_Home=(pd.merge(df_Player_Final_Home, Home_Fixtures, how='left', on='Team'))\n",
    "df_Player_Final_Away=(pd.merge(df_Player_Final_Away, Away_Fixtures, how='left', on='Team'))\n",
    "\n",
    "df_Player_Final_Home=df_Player_Final_Home.dropna().reset_index(drop=True)\n",
    "df_Player_Final_Away=df_Player_Final_Away.dropna().reset_index(drop=True)\n",
    "\n",
    "df_Player_Final_Home.tail()"
   ]
  },
  {
   "cell_type": "markdown",
   "id": "0a3abf48",
   "metadata": {},
   "source": [
    "## 7.2. Home Fixture Tables"
   ]
  },
  {
   "cell_type": "code",
   "execution_count": null,
   "id": "7ba381d1",
   "metadata": {},
   "outputs": [],
   "source": [
    "#Home fixture npxG + xAG for each player for the next 5 GW's. \n",
    "for g in Five_GameWeeks:\n",
    "    df_Player_Final_Home=df_Player_Final_Home.replace({\"GW\" + str(g) + \" Home\": Dict_Def_Away})   \n",
    "    \n",
    "#Replace empty strings with 0.\n",
    "columncount=5\n",
    "for g in Five_GameWeeks:\n",
    "    rowcount=0\n",
    "    columncount = columncount + 1    \n",
    "    \n",
    "    for x in df_Player_Final_Home[\"GW\" + str(g) + \" Home\"]:\n",
    "        if x == \"\":\n",
    "            df_Player_Final_Home.iloc[rowcount, columncount]=np.float64(0) #specify a numpy 0 since these return \"0\" when we divide by 0.\n",
    "        rowcount=rowcount + 1 \n",
    "\n",
    "#Make new columns where dividing npxG and xAG by the npxGA multiplier \n",
    "columncount=6\n",
    "for g in Five_GameWeeks:   \n",
    "        npxG_Multiplied=df_Player_Final_Home.iloc[:,3]*df_Player_Final_Home.iloc[:,columncount]\n",
    "        df_Player_Final_Home[\"GW\" + str(g) + \" Home npxG\"]=npxG_Multiplied\n",
    "        columncount=columncount+1\n",
    "\n",
    "\n",
    "columncount=6\n",
    "for g in Five_GameWeeks:\n",
    "    xAG_Multiplied=df_Player_Final_Home.iloc[:,4]*df_Player_Final_Home.iloc[:,columncount]\n",
    "    df_Player_Final_Home[\"GW\" + str(g) + \" Home xAG\"]=xAG_Multiplied\n",
    "    columncount+=1\n",
    "\n",
    "# #Data cleaning and making sum columns \n",
    "df_Player_Final_Home = df_Player_Final_Home.drop(df_Player_Final_Home.columns[2:11], axis=1)\n",
    "df_Player_Final_Home.head()"
   ]
  },
  {
   "cell_type": "markdown",
   "id": "0ec5c716",
   "metadata": {},
   "source": [
    "## 7.3. Away Fixture Tables"
   ]
  },
  {
   "cell_type": "code",
   "execution_count": null,
   "id": "a0085efb",
   "metadata": {},
   "outputs": [],
   "source": [
    "#Away fixture npxG + xAG for each player for the next 5 GW's. \n",
    "for g in Five_GameWeeks:\n",
    "    df_Player_Final_Away=df_Player_Final_Away.replace({\"GW\" + str(g) + \" Away\": Dict_Def_Home})   \n",
    "    \n",
    "#replace empty strings with 0.\n",
    "columncount=5\n",
    "for g in Five_GameWeeks:\n",
    "    rowcount=0\n",
    "    columncount = columncount + 1    \n",
    "    \n",
    "    for x in df_Player_Final_Away[\"GW\" + str(g) + \" Away\"]:\n",
    "        if x == \"\":\n",
    "            df_Player_Final_Away.iloc[rowcount, columncount]=np.float64(0)\n",
    "        rowcount=rowcount + 1 \n",
    "        \n",
    "#Make new columns where multiplying npxG and xAG by the npxGA multiplier \n",
    "columncount=6\n",
    "for g in Five_GameWeeks:   \n",
    "    npxG_Multiplied=df_Player_Final_Away.iloc[:,3]*df_Player_Final_Away.iloc[:,columncount]\n",
    "    df_Player_Final_Away[\"GW\" + str(g) + \" Away npxG\"]=npxG_Multiplied\n",
    "    columncount=columncount+1\n",
    "\n",
    "columncount=6\n",
    "for g in Five_GameWeeks:\n",
    "    xAG_Multiplied=df_Player_Final_Away.iloc[:,4]*df_Player_Final_Away.iloc[:,columncount]\n",
    "    df_Player_Final_Away[\"GW\" + str(g) + \" Away xAG\"]=xAG_Multiplied\n",
    "    columncount+=1\n",
    " \n",
    "#data cleaning and making sum columns \n",
    "df_Player_Final_Away = df_Player_Final_Away.drop(df_Player_Final_Away.columns[2:11], axis=1)\n",
    "df_Player_Final_Away.head()"
   ]
  },
  {
   "cell_type": "markdown",
   "id": "af4b4918",
   "metadata": {},
   "source": [
    "## 7.4. Finalizing Fixture Table"
   ]
  },
  {
   "cell_type": "markdown",
   "id": "93d334fe",
   "metadata": {},
   "source": [
    "Replace inf values with 0. "
   ]
  },
  {
   "cell_type": "code",
   "execution_count": null,
   "id": "1d84664a",
   "metadata": {},
   "outputs": [],
   "source": [
    "df_Player_Final_Home_Zeroes = df_Player_Final_Home.replace([np.inf], 0)  \n",
    "df_Player_Final_Away_Zeroes = df_Player_Final_Away.replace([np.inf], 0)  "
   ]
  },
  {
   "cell_type": "markdown",
   "id": "a54cc061",
   "metadata": {},
   "source": [
    "Merge Home and Away Fixtures.  "
   ]
  },
  {
   "cell_type": "code",
   "execution_count": null,
   "id": "d705e804",
   "metadata": {},
   "outputs": [],
   "source": [
    "df_Player_Final_Fixtures=(pd.merge(df_Player_Final_Home_Zeroes, df_Player_Final_Away_Zeroes, how='left', on='Player'))\n",
    "df_Player_Final_Fixtures.head()"
   ]
  },
  {
   "cell_type": "markdown",
   "id": "2f69332c",
   "metadata": {},
   "source": [
    "Combine GW 'x' Home and Away columns into 1 column. "
   ]
  },
  {
   "cell_type": "code",
   "execution_count": null,
   "id": "35952bd7",
   "metadata": {},
   "outputs": [],
   "source": [
    "for g in Five_GameWeeks:\n",
    "    df_Player_Final_Fixtures['GW' + str(g) + ' npxG'] = df_Player_Final_Fixtures['GW' + str(g) + ' Home npxG'] + df_Player_Final_Fixtures['GW' + str(g) + ' Away npxG']\n",
    "    df_Player_Final_Fixtures['GW' + str(g) + ' xAG'] = df_Player_Final_Fixtures['GW' + str(g) + ' Home xAG'] + df_Player_Final_Fixtures['GW' + str(g) + ' Away xAG']\n",
    "df_Player_Final_Fixtures.head()"
   ]
  },
  {
   "cell_type": "markdown",
   "id": "420876e1",
   "metadata": {},
   "source": [
    "General cleanup for clarity. "
   ]
  },
  {
   "cell_type": "code",
   "execution_count": null,
   "id": "f70084ed",
   "metadata": {},
   "outputs": [],
   "source": [
    "#Deleting unneeded columns and new columns for Total npxG, xAG and npxG + xAG. Also reordering column list\n",
    "\n",
    "#Create lists for reordering column purposes\n",
    "Player_list=df_Player_Final_Fixtures['Player'] \n",
    "Position_list=df_Player_Final_Fixtures['Position_x']\n",
    "\n",
    "#Specify last 10 columns\n",
    "df_Player_Final_Fixtures=df_Player_Final_Fixtures.iloc[:,-10:]\n",
    "\n",
    "#Sum metrics\n",
    "df_Player_Final_Fixtures['Total npxG']=df_Player_Final_Fixtures.iloc[:, 0:5].sum(axis=1)\n",
    "df_Player_Final_Fixtures['Total xAG']=df_Player_Final_Fixtures.iloc[:, 5:10].sum(axis=1)\n",
    "df_Player_Final_Fixtures['Total npxG + xAG']=df_Player_Final_Fixtures['Total npxG']+df_Player_Final_Fixtures['Total xAG']\n",
    "\n",
    "#Sorting\n",
    "df_Player_Final_Fixtures.sort_values(by='Total npxG + xAG', ascending=False, inplace=True)\n",
    "\n",
    "#Reorder columns\n",
    "df_Player_Final_Fixtures.insert(0, 'Player', Player_list)\n",
    "df_Player_Final_Fixtures.insert(0, 'Position', Position_list)\n",
    "\n",
    "#Delete duplicates\n",
    "df_Player_Final_Fixtures=df_Player_Final_Fixtures.drop_duplicates()\n",
    "\n",
    "#Impute NaN with 0's. \n",
    "df_Player_Final_Fixtures=df_Player_Final_Fixtures.fillna(0)"
   ]
  },
  {
   "cell_type": "markdown",
   "id": "5e53a4cf",
   "metadata": {},
   "source": [
    "Whew! Let's check out our final dataframe for predicting player npxG/XAG over the next five gameweeks."
   ]
  },
  {
   "cell_type": "code",
   "execution_count": null,
   "id": "d2c89ba2",
   "metadata": {},
   "outputs": [],
   "source": [
    "df_Player_Final_Fixtures.head()"
   ]
  },
  {
   "cell_type": "markdown",
   "id": "345cf467",
   "metadata": {},
   "source": [
    "# 8. Final Dataframes "
   ]
  },
  {
   "cell_type": "markdown",
   "id": "ce369ea7",
   "metadata": {},
   "source": [
    "## 8.1. Team Stats"
   ]
  },
  {
   "cell_type": "markdown",
   "id": "bd434e2f",
   "metadata": {},
   "source": [
    "### Ordered by npxG"
   ]
  },
  {
   "cell_type": "code",
   "execution_count": null,
   "id": "9909c1f4",
   "metadata": {},
   "outputs": [],
   "source": [
    "df_Team_Final.sort_values(by='npxG', ascending=False)"
   ]
  },
  {
   "cell_type": "markdown",
   "id": "5a7e1062",
   "metadata": {},
   "source": [
    "### Ordered by npxGA"
   ]
  },
  {
   "cell_type": "code",
   "execution_count": null,
   "id": "4ff226d0",
   "metadata": {},
   "outputs": [],
   "source": [
    "df_Team_Final.sort_values(by='npxGA', ascending=True)"
   ]
  },
  {
   "cell_type": "markdown",
   "id": "30e0a5e3",
   "metadata": {},
   "source": [
    "## 8.2. Team Fixture Tables"
   ]
  },
  {
   "cell_type": "markdown",
   "id": "47e0c30b",
   "metadata": {},
   "source": [
    "### Home Fixtures"
   ]
  },
  {
   "cell_type": "code",
   "execution_count": null,
   "id": "566a625c",
   "metadata": {},
   "outputs": [],
   "source": [
    "Home_Fixtures"
   ]
  },
  {
   "cell_type": "markdown",
   "id": "bc4f59c9",
   "metadata": {},
   "source": [
    "### Away Fixtures"
   ]
  },
  {
   "cell_type": "code",
   "execution_count": null,
   "id": "bd387e54",
   "metadata": {},
   "outputs": [],
   "source": [
    "Away_Fixtures"
   ]
  },
  {
   "cell_type": "markdown",
   "id": "f21d5867",
   "metadata": {},
   "source": [
    "## 8.3. Team npxG Predictions "
   ]
  },
  {
   "cell_type": "code",
   "execution_count": null,
   "id": "9ac0fc06",
   "metadata": {},
   "outputs": [],
   "source": [
    "df_Team_Final_Fixture_Predictions"
   ]
  },
  {
   "cell_type": "markdown",
   "id": "0a495533",
   "metadata": {},
   "source": [
    "## 8.4. Player npxG and xAG Predictions"
   ]
  },
  {
   "cell_type": "markdown",
   "id": "ad5e52ed",
   "metadata": {},
   "source": [
    "### All Players "
   ]
  },
  {
   "cell_type": "code",
   "execution_count": null,
   "id": "2572fff8",
   "metadata": {},
   "outputs": [],
   "source": [
    "df_Player_Final_Fixtures.head(15)"
   ]
  },
  {
   "cell_type": "markdown",
   "id": "a40c4e85",
   "metadata": {},
   "source": [
    "### Forward Players"
   ]
  },
  {
   "cell_type": "code",
   "execution_count": null,
   "id": "630a6cfc",
   "metadata": {},
   "outputs": [],
   "source": [
    "df_Player_Final_Fixtures_FWD=df_Player_Final_Fixtures.loc[df_Player_Final_Fixtures['Position']=='FWD']\n",
    "df_Player_Final_Fixtures_FWD.head(15)"
   ]
  },
  {
   "cell_type": "markdown",
   "id": "6bb1c145",
   "metadata": {},
   "source": [
    "### Midfield Players "
   ]
  },
  {
   "cell_type": "code",
   "execution_count": null,
   "id": "d92fd335",
   "metadata": {},
   "outputs": [],
   "source": [
    "df_Player_Final_Fixtures_MID=df_Player_Final_Fixtures.loc[df_Player_Final_Fixtures['Position']=='MID']\n",
    "df_Player_Final_Fixtures_MID.head(15)"
   ]
  },
  {
   "cell_type": "markdown",
   "id": "a3952e60",
   "metadata": {},
   "source": [
    "### Defender Players "
   ]
  },
  {
   "cell_type": "code",
   "execution_count": null,
   "id": "534c493a",
   "metadata": {},
   "outputs": [],
   "source": [
    "df_Player_Final_Fixtures_DEF=df_Player_Final_Fixtures.loc[df_Player_Final_Fixtures['Position']=='DEF']\n",
    "df_Player_Final_Fixtures_DEF.head(15)"
   ]
  },
  {
   "cell_type": "code",
   "execution_count": null,
   "id": "b7415fde",
   "metadata": {},
   "outputs": [],
   "source": []
  }
 ],
 "metadata": {
  "kernelspec": {
   "display_name": "Python 3 (ipykernel)",
   "language": "python",
   "name": "python3"
  },
  "language_info": {
   "codemirror_mode": {
    "name": "ipython",
    "version": 3
   },
   "file_extension": ".py",
   "mimetype": "text/x-python",
   "name": "python",
   "nbconvert_exporter": "python",
   "pygments_lexer": "ipython3",
   "version": "3.9.12"
  },
  "toc": {
   "base_numbering": 1,
   "nav_menu": {},
   "number_sections": true,
   "sideBar": true,
   "skip_h1_title": false,
   "title_cell": "Table of Contents",
   "title_sidebar": "Contents",
   "toc_cell": false,
   "toc_position": {},
   "toc_section_display": true,
   "toc_window_display": false
  }
 },
 "nbformat": 4,
 "nbformat_minor": 5
}
