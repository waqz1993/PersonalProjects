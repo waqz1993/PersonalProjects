{
 "cells": [
  {
   "cell_type": "markdown",
   "id": "fb6d1b3c",
   "metadata": {},
   "source": [
    "# Contents\n",
    "1. Import Libraries, Data and Model <br>\n",
    "\n",
    "2. Building Prediction DataFrame <br>\n",
    "\n",
    "3. Applying Model to Prediction DataFrame <br>\n",
    "\n",
    "4. Next Steps"
   ]
  },
  {
   "cell_type": "markdown",
   "id": "3cbd80f3",
   "metadata": {},
   "source": [
    "# 1. Import Libraries, Data and Model"
   ]
  },
  {
   "cell_type": "code",
   "execution_count": 1,
   "id": "3377eaba",
   "metadata": {},
   "outputs": [
    {
     "data": {
      "text/html": [
       "<pre style=\"white-space:pre;overflow-x:auto;line-height:normal;font-family:Menlo,'DejaVu Sans Mono',consolas,'Courier New',monospace\"><span style=\"color: #7fbfbf; text-decoration-color: #7fbfbf\">[03/28/23 21:43:41] </span><span style=\"color: #000080; text-decoration-color: #000080\">INFO    </span> No custom team name replacements found. You can configure these in       <a href=\"file://C:\\Users\\waqas\\anaconda3\\lib\\site-packages\\soccerdata\\_config.py\" target=\"_blank\"><span style=\"color: #7f7f7f; text-decoration-color: #7f7f7f\">_config.py</span></a><span style=\"color: #7f7f7f; text-decoration-color: #7f7f7f\">:</span><a href=\"file://C:\\Users\\waqas\\anaconda3\\lib\\site-packages\\soccerdata\\_config.py#85\" target=\"_blank\"><span style=\"color: #7f7f7f; text-decoration-color: #7f7f7f\">85</span></a>\n",
       "<span style=\"color: #7fbfbf; text-decoration-color: #7fbfbf\">                    </span>         C:\\Users\\waqas\\soccerdata\\config\\teamname_replacements.json.             <span style=\"color: #7f7f7f; text-decoration-color: #7f7f7f\">             </span>\n",
       "</pre>\n"
      ],
      "text/plain": [
       "\u001b[2;36m[03/28/23 21:43:41]\u001b[0m\u001b[2;36m \u001b[0m\u001b[34mINFO    \u001b[0m No custom team name replacements found. You can configure these in       \u001b]8;id=866121;file://C:\\Users\\waqas\\anaconda3\\lib\\site-packages\\soccerdata\\_config.py\u001b\\\u001b[2m_config.py\u001b[0m\u001b]8;;\u001b\\\u001b[2m:\u001b[0m\u001b]8;id=20791;file://C:\\Users\\waqas\\anaconda3\\lib\\site-packages\\soccerdata\\_config.py#85\u001b\\\u001b[2m85\u001b[0m\u001b]8;;\u001b\\\n",
       "\u001b[2;36m                    \u001b[0m         C:\\Users\\waqas\\soccerdata\\config\\teamname_replacements.json.             \u001b[2m             \u001b[0m\n"
      ]
     },
     "metadata": {},
     "output_type": "display_data"
    },
    {
     "data": {
      "text/html": [
       "<pre style=\"white-space:pre;overflow-x:auto;line-height:normal;font-family:Menlo,'DejaVu Sans Mono',consolas,'Courier New',monospace\"><span style=\"color: #7fbfbf; text-decoration-color: #7fbfbf\">                    </span><span style=\"color: #000080; text-decoration-color: #000080\">INFO    </span> No custom league dict found. You can configure additional leagues in    <a href=\"file://C:\\Users\\waqas\\anaconda3\\lib\\site-packages\\soccerdata\\_config.py\" target=\"_blank\"><span style=\"color: #7f7f7f; text-decoration-color: #7f7f7f\">_config.py</span></a><span style=\"color: #7f7f7f; text-decoration-color: #7f7f7f\">:</span><a href=\"file://C:\\Users\\waqas\\anaconda3\\lib\\site-packages\\soccerdata\\_config.py#159\" target=\"_blank\"><span style=\"color: #7f7f7f; text-decoration-color: #7f7f7f\">159</span></a>\n",
       "<span style=\"color: #7fbfbf; text-decoration-color: #7fbfbf\">                    </span>         C:\\Users\\waqas\\soccerdata\\config\\league_dict.json.                      <span style=\"color: #7f7f7f; text-decoration-color: #7f7f7f\">              </span>\n",
       "</pre>\n"
      ],
      "text/plain": [
       "\u001b[2;36m                   \u001b[0m\u001b[2;36m \u001b[0m\u001b[34mINFO    \u001b[0m No custom league dict found. You can configure additional leagues in    \u001b]8;id=525383;file://C:\\Users\\waqas\\anaconda3\\lib\\site-packages\\soccerdata\\_config.py\u001b\\\u001b[2m_config.py\u001b[0m\u001b]8;;\u001b\\\u001b[2m:\u001b[0m\u001b]8;id=175214;file://C:\\Users\\waqas\\anaconda3\\lib\\site-packages\\soccerdata\\_config.py#159\u001b\\\u001b[2m159\u001b[0m\u001b]8;;\u001b\\\n",
       "\u001b[2;36m                    \u001b[0m         C:\\Users\\waqas\\soccerdata\\config\\league_dict.json.                      \u001b[2m              \u001b[0m\n"
      ]
     },
     "metadata": {},
     "output_type": "display_data"
    }
   ],
   "source": [
    "import pandas as pd\n",
    "import pickle\n",
    "import soccerdata as sd\n",
    "pd.set_option('display.max_columns', None)\n",
    "from datetime import date\n",
    "import numpy as np\n",
    "\n",
    "\n",
    "df = pd.read_csv('df.csv', encoding='utf-8')\n",
    "\n",
    "\n",
    "with open('Final_model', 'rb') as f:\n",
    "    model = pickle.load(f)\n",
    "    "
   ]
  },
  {
   "cell_type": "markdown",
   "id": "45dc098d",
   "metadata": {},
   "source": [
    "# 2. Building Prediction DataFrame"
   ]
  },
  {
   "cell_type": "markdown",
   "id": "91e828eb",
   "metadata": {},
   "source": [
    "The predictors will comprise of: <br>\n",
    "* The location of their next game (Home/Away). <br>\n",
    "* An average of over 15 numerical indicators over the last 10 games. <br>\n",
    "* Their current age, continent and position.  "
   ]
  },
  {
   "cell_type": "markdown",
   "id": "7091655e",
   "metadata": {},
   "source": [
    "### Last 10 Games"
   ]
  },
  {
   "cell_type": "code",
   "execution_count": 3,
   "id": "c2769dfa",
   "metadata": {},
   "outputs": [],
   "source": [
    "def get_last_n_rows_by_player(df, n=10):\n",
    "    df_last_n = pd.DataFrame()\n",
    "\n",
    "    for player in df['player'].unique():\n",
    "        filtered_df = df[df['player'] == player].tail(n)\n",
    "        df_last_n = pd.concat([df_last_n, filtered_df], axis=0)\n",
    "\n",
    "    return df_last_n\n",
    "\n",
    "\n",
    "df_last_10 = get_last_n_rows_by_player(df, 10)\n"
   ]
  },
  {
   "cell_type": "markdown",
   "id": "78f1cf33",
   "metadata": {},
   "source": [
    "### Location"
   ]
  },
  {
   "cell_type": "code",
   "execution_count": 4,
   "id": "0057f112",
   "metadata": {},
   "outputs": [
    {
     "data": {
      "text/html": [
       "<pre style=\"white-space:pre;overflow-x:auto;line-height:normal;font-family:Menlo,'DejaVu Sans Mono',consolas,'Courier New',monospace\"><span style=\"color: #7fbfbf; text-decoration-color: #7fbfbf\">[03/28/23 21:31:41] </span><span style=\"color: #000080; text-decoration-color: #000080\">INFO    </span> Saving cached data to C:\\Users\\waqas\\soccerdata\\data\\FBref               <a href=\"file://C:\\Users\\waqas\\anaconda3\\lib\\site-packages\\soccerdata\\_common.py\" target=\"_blank\"><span style=\"color: #7f7f7f; text-decoration-color: #7f7f7f\">_common.py</span></a><span style=\"color: #7f7f7f; text-decoration-color: #7f7f7f\">:</span><a href=\"file://C:\\Users\\waqas\\anaconda3\\lib\\site-packages\\soccerdata\\_common.py#89\" target=\"_blank\"><span style=\"color: #7f7f7f; text-decoration-color: #7f7f7f\">89</span></a>\n",
       "</pre>\n"
      ],
      "text/plain": [
       "\u001b[2;36m[03/28/23 21:31:41]\u001b[0m\u001b[2;36m \u001b[0m\u001b[34mINFO    \u001b[0m Saving cached data to C:\\Users\\waqas\\soccerdata\\data\\FBref               \u001b]8;id=653894;file://C:\\Users\\waqas\\anaconda3\\lib\\site-packages\\soccerdata\\_common.py\u001b\\\u001b[2m_common.py\u001b[0m\u001b]8;;\u001b\\\u001b[2m:\u001b[0m\u001b]8;id=48696;file://C:\\Users\\waqas\\anaconda3\\lib\\site-packages\\soccerdata\\_common.py#89\u001b\\\u001b[2m89\u001b[0m\u001b]8;;\u001b\\\n"
      ]
     },
     "metadata": {},
     "output_type": "display_data"
    }
   ],
   "source": [
    "def process_location_data(df, epl_schedule):\n",
    "    team = epl_schedule.reset_index()\n",
    "    team = team[team['date'] >= str(date.today())]\n",
    "\n",
    "    home_team_df = team.groupby('home_team')['date'].min().reset_index().rename(columns={'date': 'earliest_date_home'})\n",
    "    away_team_df = team.groupby('away_team')['date'].min().reset_index().rename(columns={'date': 'earliest_date_away'})\n",
    "\n",
    "    merged_df = pd.merge(home_team_df, away_team_df, left_on='home_team', right_on='away_team')\n",
    "    merged_df['earliest_date'] = merged_df['earliest_date_home'].combine(merged_df['earliest_date_away'], min)\n",
    "    merged_df['home_away'] = np.where(merged_df['earliest_date_home'] < merged_df['earliest_date_away'], 'Home', 'Away')\n",
    "    merged_df = merged_df.rename(columns={'home_team': 'team'})\n",
    "\n",
    "    df_location = df.merge(merged_df, on='team')\n",
    "    df_location = df_location[['Gls', 'team', 'player', 'home_away']].rename(columns={'home_away': 'Location'})\n",
    "\n",
    "    encoded_location = pd.get_dummies(df_location['Location'], prefix='Location')\n",
    "    df_location = pd.concat([df_location, encoded_location], axis=1).drop(['Gls', 'team', 'Location'], axis=1)\n",
    "    df_location.drop_duplicates(inplace=True)\n",
    "\n",
    "    return df_location\n",
    "\n",
    "# Usage:\n",
    "fbref = sd.FBref(leagues=\"ENG-Premier League\", seasons=2022)\n",
    "epl_schedule = fbref.read_schedule()\n",
    "df_location = process_location_data(df, epl_schedule)"
   ]
  },
  {
   "cell_type": "markdown",
   "id": "c3c40911",
   "metadata": {},
   "source": [
    "### Position, Continent"
   ]
  },
  {
   "cell_type": "code",
   "execution_count": 6,
   "id": "e346826f",
   "metadata": {},
   "outputs": [],
   "source": [
    "def get_mode_by_player(df, mode_cols):\n",
    "    df_mode = df[mode_cols]\n",
    "    df_mode = df_mode.groupby('player')[mode_cols].apply(lambda x: x.mode().iloc[0]).reset_index(drop=True) \n",
    "    return df_mode\n",
    "\n",
    "\n",
    "mode_cols = ['Pos_Attacking Midfield', 'Pos_Center Back', 'Pos_Central Midfield', 'Pos_Defensive Midfield', 'Pos_Forward', 'Pos_Fullbacks', 'Pos_Goalkeeper', 'Pos_Wide Attacker', 'Pos_Wide Midfield', 'Continent_Africa', 'Continent_Asia', 'Continent_Europe', 'Continent_North America', 'Continent_Oceania', 'Continent_South America', 'player']\n",
    "df_mode = get_mode_by_player(df_last_10, mode_cols)\n"
   ]
  },
  {
   "cell_type": "markdown",
   "id": "66755156",
   "metadata": {},
   "source": [
    "### Age"
   ]
  },
  {
   "cell_type": "code",
   "execution_count": 7,
   "id": "88f4638d",
   "metadata": {},
   "outputs": [],
   "source": [
    "def get_age_by_player(df):\n",
    "    df[['Age']] = df[['Age']].astype('int64')\n",
    "    df_age = pd.DataFrame(df.groupby('player')['Age'].nlargest(1)).reset_index().drop(['level_1'], axis=1)\n",
    "   \n",
    "    return df_age\n",
    "\n",
    "\n",
    "df_age = get_age_by_player(df)\n"
   ]
  },
  {
   "cell_type": "markdown",
   "id": "a108ac77",
   "metadata": {},
   "source": [
    "### Averaged Numerical Indicators"
   ]
  },
  {
   "cell_type": "code",
   "execution_count": 8,
   "id": "a9b7a472",
   "metadata": {},
   "outputs": [],
   "source": [
    "def get_average_statistics(df, df_last_10):\n",
    "    df[['CrdR_0.0', 'CrdR_1.0', 'CrdY_0.0', 'CrdY_1.0', 'CrdY_2.0']] = df[['CrdR_0.0', 'CrdR_1.0', 'CrdY_0.0', 'CrdY_1.0', 'CrdY_2.0']].astype(float)\n",
    "    avg_cols = df.select_dtypes(include=['float']).columns.to_list()\n",
    "    df_average = df_last_10.groupby('player')[avg_cols].mean().reset_index().round(2)\n",
    "    return df_average\n",
    "\n",
    "\n",
    "df_average = get_average_statistics(df, df_last_10)\n"
   ]
  },
  {
   "cell_type": "markdown",
   "id": "61236013",
   "metadata": {},
   "source": [
    "### Merging"
   ]
  },
  {
   "cell_type": "code",
   "execution_count": 13,
   "id": "e13417b1",
   "metadata": {
    "scrolled": true
   },
   "outputs": [],
   "source": [
    "merged1 = pd.merge(df_mode, df_average, on='player')\n",
    "merged2 = pd.merge(merged1, df_location, on='player')\n",
    "df_predict = pd.merge(merged2, df_age, on='player').reindex(columns=df.columns)\n",
    "\n",
    "players = df_predict['player']\n",
    "df_predict.drop(['player', 'team', 'Gls'], axis = 1, inplace = True)\n"
   ]
  },
  {
   "cell_type": "markdown",
   "id": "cdd06e48",
   "metadata": {},
   "source": [
    "# 3. Applying Model to Prediction DataFrame"
   ]
  },
  {
   "cell_type": "code",
   "execution_count": 23,
   "id": "3b25b8b3",
   "metadata": {},
   "outputs": [
    {
     "data": {
      "text/html": [
       "<div>\n",
       "<style scoped>\n",
       "    .dataframe tbody tr th:only-of-type {\n",
       "        vertical-align: middle;\n",
       "    }\n",
       "\n",
       "    .dataframe tbody tr th {\n",
       "        vertical-align: top;\n",
       "    }\n",
       "\n",
       "    .dataframe thead th {\n",
       "        text-align: right;\n",
       "    }\n",
       "</style>\n",
       "<table border=\"1\" class=\"dataframe\">\n",
       "  <thead>\n",
       "    <tr style=\"text-align: right;\">\n",
       "      <th></th>\n",
       "      <th>Predicted Goals</th>\n",
       "      <th>Player</th>\n",
       "    </tr>\n",
       "  </thead>\n",
       "  <tbody>\n",
       "    <tr>\n",
       "      <th>0</th>\n",
       "      <td>0.668365</td>\n",
       "      <td>Eddie Nketiah</td>\n",
       "    </tr>\n",
       "    <tr>\n",
       "      <th>1</th>\n",
       "      <td>0.589674</td>\n",
       "      <td>Darwin Núñez</td>\n",
       "    </tr>\n",
       "    <tr>\n",
       "      <th>2</th>\n",
       "      <td>0.574674</td>\n",
       "      <td>Gabriel Jesus</td>\n",
       "    </tr>\n",
       "    <tr>\n",
       "      <th>3</th>\n",
       "      <td>0.572148</td>\n",
       "      <td>Marcus Rashford</td>\n",
       "    </tr>\n",
       "    <tr>\n",
       "      <th>4</th>\n",
       "      <td>0.563399</td>\n",
       "      <td>Aleksandar Mitrović</td>\n",
       "    </tr>\n",
       "    <tr>\n",
       "      <th>5</th>\n",
       "      <td>0.556781</td>\n",
       "      <td>Erling Haaland</td>\n",
       "    </tr>\n",
       "    <tr>\n",
       "      <th>6</th>\n",
       "      <td>0.556781</td>\n",
       "      <td>Ivan Toney</td>\n",
       "    </tr>\n",
       "    <tr>\n",
       "      <th>7</th>\n",
       "      <td>0.503397</td>\n",
       "      <td>Álvaro Morata</td>\n",
       "    </tr>\n",
       "    <tr>\n",
       "      <th>8</th>\n",
       "      <td>0.483397</td>\n",
       "      <td>Cody Gakpo</td>\n",
       "    </tr>\n",
       "    <tr>\n",
       "      <th>9</th>\n",
       "      <td>0.475923</td>\n",
       "      <td>João Félix</td>\n",
       "    </tr>\n",
       "    <tr>\n",
       "      <th>10</th>\n",
       "      <td>0.473632</td>\n",
       "      <td>Ferrán Torres</td>\n",
       "    </tr>\n",
       "    <tr>\n",
       "      <th>11</th>\n",
       "      <td>0.472489</td>\n",
       "      <td>Alexander Isak</td>\n",
       "    </tr>\n",
       "    <tr>\n",
       "      <th>12</th>\n",
       "      <td>0.447489</td>\n",
       "      <td>Callum Wilson</td>\n",
       "    </tr>\n",
       "    <tr>\n",
       "      <th>13</th>\n",
       "      <td>0.407027</td>\n",
       "      <td>Mohamed Salah</td>\n",
       "    </tr>\n",
       "    <tr>\n",
       "      <th>14</th>\n",
       "      <td>0.402027</td>\n",
       "      <td>Harry Kane</td>\n",
       "    </tr>\n",
       "    <tr>\n",
       "      <th>15</th>\n",
       "      <td>0.397027</td>\n",
       "      <td>Timo Werner</td>\n",
       "    </tr>\n",
       "    <tr>\n",
       "      <th>16</th>\n",
       "      <td>0.392070</td>\n",
       "      <td>Kaide Gordon</td>\n",
       "    </tr>\n",
       "    <tr>\n",
       "      <th>17</th>\n",
       "      <td>0.392027</td>\n",
       "      <td>Gareth Bale</td>\n",
       "    </tr>\n",
       "    <tr>\n",
       "      <th>18</th>\n",
       "      <td>0.387027</td>\n",
       "      <td>Gonzalo Higuaín</td>\n",
       "    </tr>\n",
       "    <tr>\n",
       "      <th>19</th>\n",
       "      <td>0.382027</td>\n",
       "      <td>Danny Welbeck</td>\n",
       "    </tr>\n",
       "    <tr>\n",
       "      <th>20</th>\n",
       "      <td>0.361234</td>\n",
       "      <td>Danny Ings</td>\n",
       "    </tr>\n",
       "    <tr>\n",
       "      <th>21</th>\n",
       "      <td>0.361192</td>\n",
       "      <td>Ollie Watkins</td>\n",
       "    </tr>\n",
       "    <tr>\n",
       "      <th>22</th>\n",
       "      <td>0.356192</td>\n",
       "      <td>Rodrigo</td>\n",
       "    </tr>\n",
       "    <tr>\n",
       "      <th>23</th>\n",
       "      <td>0.322455</td>\n",
       "      <td>Riyad Mahrez</td>\n",
       "    </tr>\n",
       "    <tr>\n",
       "      <th>24</th>\n",
       "      <td>0.317455</td>\n",
       "      <td>Kai Havertz</td>\n",
       "    </tr>\n",
       "  </tbody>\n",
       "</table>\n",
       "</div>"
      ],
      "text/plain": [
       "    Predicted Goals               Player\n",
       "0          0.668365        Eddie Nketiah\n",
       "1          0.589674         Darwin Núñez\n",
       "2          0.574674        Gabriel Jesus\n",
       "3          0.572148      Marcus Rashford\n",
       "4          0.563399  Aleksandar Mitrović\n",
       "5          0.556781       Erling Haaland\n",
       "6          0.556781           Ivan Toney\n",
       "7          0.503397        Álvaro Morata\n",
       "8          0.483397           Cody Gakpo\n",
       "9          0.475923           João Félix\n",
       "10         0.473632        Ferrán Torres\n",
       "11         0.472489       Alexander Isak\n",
       "12         0.447489        Callum Wilson\n",
       "13         0.407027        Mohamed Salah\n",
       "14         0.402027           Harry Kane\n",
       "15         0.397027          Timo Werner\n",
       "16         0.392070         Kaide Gordon\n",
       "17         0.392027          Gareth Bale\n",
       "18         0.387027      Gonzalo Higuaín\n",
       "19         0.382027        Danny Welbeck\n",
       "20         0.361234           Danny Ings\n",
       "21         0.361192        Ollie Watkins\n",
       "22         0.356192              Rodrigo\n",
       "23         0.322455         Riyad Mahrez\n",
       "24         0.317455          Kai Havertz"
      ]
     },
     "execution_count": 23,
     "metadata": {},
     "output_type": "execute_result"
    }
   ],
   "source": [
    "predictions = pd.DataFrame(model.predict(df_predict))\n",
    "predictions['Player'] = players\n",
    "predictions = predictions.sort_values(by=predictions.columns[0], ascending=False).rename(columns={predictions.columns[0]: \"Predicted Goals\"}).drop_duplicates(subset=[\"Player\"]).reset_index(drop=True)\n",
    "predictions.head(25)"
   ]
  },
  {
   "cell_type": "markdown",
   "id": "5e64588f",
   "metadata": {},
   "source": [
    "# 4. Next Steps/Considerations"
   ]
  },
  {
   "cell_type": "markdown",
   "id": "41ab23d1",
   "metadata": {},
   "source": [
    "### General\n",
    "- Add team and FPL position to final results. \n",
    "- Create a simple web interface for final results.\n",
    "- Includes results from previous seasons. Reference players from the current season to prevent this. \n",
    "\n",
    "### Class Imbalance in Target Variable (Goals) in Training Data\n",
    "- One potential issue with the regressor model could be that it is underpredicting the number of goals due to class imbalance in the training data, where a significant proportion of the observations have zero goals. To address this issue, we can combine the regressor model with a classifier to first predict if the number of goals is zero or greater than zero. When the predicted number of goals is greater than zero, we can train the regressor model on the resultant subset of data.\n",
    "\n",
    "### Multicollinearity in Training Data \n",
    "- One issue with my current linear regressor model is that it may be affected by multicollinearity, as evident from the high correlation among the predictor variables found during the exploratory data analysis (EDA). I can further confirm this by calculating the variance inflation factor (VIF). To mitigate this issue, I could consider using regularization techniques such as ridge regression or Lasso regression. \n",
    "\n",
    "### Feature Engineering\n",
    "- Team Stats - capture more information about chances each team's creating\n",
    "- Time of Year \n",
    "- Recent performance/form for each player/team in offense/defense\n",
    "- Travel time for away games \n",
    "- Game congestion impact\n",
    "- Recency bias (weighted rolling average in predicted_df)"
   ]
  }
 ],
 "metadata": {
  "kernelspec": {
   "display_name": "Python 3 (ipykernel)",
   "language": "python",
   "name": "python3"
  },
  "language_info": {
   "codemirror_mode": {
    "name": "ipython",
    "version": 3
   },
   "file_extension": ".py",
   "mimetype": "text/x-python",
   "name": "python",
   "nbconvert_exporter": "python",
   "pygments_lexer": "ipython3",
   "version": "3.9.12"
  }
 },
 "nbformat": 4,
 "nbformat_minor": 5
}
