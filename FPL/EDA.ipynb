{
 "cells": [
  {
   "cell_type": "markdown",
   "id": "0e389503",
   "metadata": {},
   "source": [
    "# Contents\n",
    "1. Import Libraries and Data<br>\n",
    "    1.1. Libraries <br>\n",
    "    1.2. Formatting Data and Concatenating DataFrames <br>\n",
    "    \n",
    "    \n",
    "2. Cleaning and Pre-Processing <br> \n",
    "    \n",
    "    \n",
    "3. EDA <br>\n",
    "    3.1. Categorical Data (Visual + Statistical) <br>\n",
    "    3.2. Numerical Data <br>\n",
    "    \n",
    "    \n",
    "4. Models <br>\n",
    "    4.1. Goals Prediction via xG vs All Features (Linear Regression) <br>\n",
    "    4.2. XGB Regressor Optimization <br>\n",
    "    4.3. Conclusion"
   ]
  },
  {
   "cell_type": "markdown",
   "id": "d643c7f1",
   "metadata": {},
   "source": [
    "# 1. Importing Libraries and Data"
   ]
  },
  {
   "cell_type": "markdown",
   "id": "e6a8ae13",
   "metadata": {},
   "source": [
    "## 1.1. Libraries"
   ]
  },
  {
   "cell_type": "code",
   "execution_count": 128,
   "id": "e24a3b27",
   "metadata": {},
   "outputs": [],
   "source": [
    "import pandas as pd\n",
    "from IPython.core.interactiveshell import InteractiveShell\n",
    "InteractiveShell.ast_node_interactivity = \"all\"\n",
    "pd.set_option('display.max_columns', None)\n",
    "import re\n",
    "import numpy as np\n",
    "import matplotlib.pyplot as plt\n",
    "import seaborn as sns\n",
    "import statsmodels.api as sm\n",
    "import statsmodels.stats.multicomp as mc\n",
    "from statsmodels.formula.api import ols\n",
    "from scipy.stats import ttest_ind, chi2_contingency\n",
    "from collections import Counter\n",
    "import warnings\n",
    "warnings.filterwarnings('ignore')\n",
    "from sklearn.model_selection import TimeSeriesSplit, RandomizedSearchCV, train_test_split\n",
    "from sklearn.linear_model import LinearRegression\n",
    "from sklearn.metrics import r2_score, mean_squared_error\n",
    "import xgboost as xgb\n",
    "import pingouin as pg\n",
    "from scipy.stats import pearsonr\n",
    "%matplotlib inline "
   ]
  },
  {
   "cell_type": "markdown",
   "id": "87378b3b",
   "metadata": {},
   "source": [
    "## 1.2. Formatting Data and Concatenating DataFrames\n",
    "\n",
    "The data is currently presented with a multi-level index, which can make it challenging to create graphs. Therefore, we will flatten the data. This process will be performed on six separate CSV files, each representing a single season between 2017 and 2022.\n",
    "\n",
    "Below is an example of the multi-level index for the 2022 season:"
   ]
  },
  {
   "cell_type": "code",
   "execution_count": 129,
   "id": "91ec6970",
   "metadata": {},
   "outputs": [
    {
     "data": {
      "text/html": [
       "<div>\n",
       "<style scoped>\n",
       "    .dataframe tbody tr th:only-of-type {\n",
       "        vertical-align: middle;\n",
       "    }\n",
       "\n",
       "    .dataframe tbody tr th {\n",
       "        vertical-align: top;\n",
       "    }\n",
       "\n",
       "    .dataframe thead tr th {\n",
       "        text-align: left;\n",
       "    }\n",
       "</style>\n",
       "<table border=\"1\" class=\"dataframe\">\n",
       "  <thead>\n",
       "    <tr>\n",
       "      <th></th>\n",
       "      <th>level_0</th>\n",
       "      <th>index</th>\n",
       "      <th>league</th>\n",
       "      <th>season</th>\n",
       "      <th>game</th>\n",
       "      <th>team</th>\n",
       "      <th>player</th>\n",
       "      <th>#</th>\n",
       "      <th>Nation</th>\n",
       "      <th>Pos</th>\n",
       "      <th>Age</th>\n",
       "      <th>Min</th>\n",
       "      <th colspan=\"12\" halign=\"left\">Performance</th>\n",
       "      <th colspan=\"3\" halign=\"left\">Expected</th>\n",
       "      <th colspan=\"2\" halign=\"left\">SCA</th>\n",
       "      <th colspan=\"4\" halign=\"left\">Passes</th>\n",
       "      <th colspan=\"2\" halign=\"left\">Carries</th>\n",
       "      <th colspan=\"2\" halign=\"left\">Take-Ons</th>\n",
       "      <th>game_id</th>\n",
       "    </tr>\n",
       "    <tr>\n",
       "      <th></th>\n",
       "      <th>Unnamed: 0_level_1</th>\n",
       "      <th>Unnamed: 1_level_1</th>\n",
       "      <th>Unnamed: 2_level_1</th>\n",
       "      <th>Unnamed: 3_level_1</th>\n",
       "      <th>Unnamed: 4_level_1</th>\n",
       "      <th>Unnamed: 5_level_1</th>\n",
       "      <th>Unnamed: 6_level_1</th>\n",
       "      <th>Unnamed: 7_level_1</th>\n",
       "      <th>Unnamed: 8_level_1</th>\n",
       "      <th>Unnamed: 9_level_1</th>\n",
       "      <th>Unnamed: 10_level_1</th>\n",
       "      <th>Unnamed: 11_level_1</th>\n",
       "      <th>Gls</th>\n",
       "      <th>Ast</th>\n",
       "      <th>PK</th>\n",
       "      <th>PKatt</th>\n",
       "      <th>Sh</th>\n",
       "      <th>SoT</th>\n",
       "      <th>CrdY</th>\n",
       "      <th>CrdR</th>\n",
       "      <th>Touches</th>\n",
       "      <th>Tkl</th>\n",
       "      <th>Int</th>\n",
       "      <th>Blocks</th>\n",
       "      <th>xG</th>\n",
       "      <th>npxG</th>\n",
       "      <th>xAG</th>\n",
       "      <th>SCA</th>\n",
       "      <th>GCA</th>\n",
       "      <th>Cmp</th>\n",
       "      <th>Att</th>\n",
       "      <th>Cmp%</th>\n",
       "      <th>PrgP</th>\n",
       "      <th>Carries</th>\n",
       "      <th>PrgC</th>\n",
       "      <th>Att</th>\n",
       "      <th>Succ</th>\n",
       "      <th>Unnamed: 37_level_1</th>\n",
       "    </tr>\n",
       "  </thead>\n",
       "  <tbody>\n",
       "    <tr>\n",
       "      <th>0</th>\n",
       "      <td>0</td>\n",
       "      <td>0</td>\n",
       "      <td>ENG-Premier League</td>\n",
       "      <td>2223</td>\n",
       "      <td>2022-08-05 Crystal Palace-Arsenal</td>\n",
       "      <td>Arsenal</td>\n",
       "      <td>Aaron Ramsdale</td>\n",
       "      <td>1.0</td>\n",
       "      <td>eng ENG</td>\n",
       "      <td>GK</td>\n",
       "      <td>24-083</td>\n",
       "      <td>90</td>\n",
       "      <td>0</td>\n",
       "      <td>0</td>\n",
       "      <td>0</td>\n",
       "      <td>0</td>\n",
       "      <td>0</td>\n",
       "      <td>0</td>\n",
       "      <td>0</td>\n",
       "      <td>0</td>\n",
       "      <td>33</td>\n",
       "      <td>0</td>\n",
       "      <td>0</td>\n",
       "      <td>0</td>\n",
       "      <td>0.0</td>\n",
       "      <td>0.0</td>\n",
       "      <td>0.0</td>\n",
       "      <td>0</td>\n",
       "      <td>0</td>\n",
       "      <td>24</td>\n",
       "      <td>32</td>\n",
       "      <td>75.0</td>\n",
       "      <td>0</td>\n",
       "      <td>24</td>\n",
       "      <td>0</td>\n",
       "      <td>0</td>\n",
       "      <td>0</td>\n",
       "      <td>e62f6e78</td>\n",
       "    </tr>\n",
       "  </tbody>\n",
       "</table>\n",
       "</div>"
      ],
      "text/plain": [
       "             level_0              index              league  \\\n",
       "  Unnamed: 0_level_1 Unnamed: 1_level_1  Unnamed: 2_level_1   \n",
       "0                  0                  0  ENG-Premier League   \n",
       "\n",
       "              season                               game               team  \\\n",
       "  Unnamed: 3_level_1                 Unnamed: 4_level_1 Unnamed: 5_level_1   \n",
       "0               2223  2022-08-05 Crystal Palace-Arsenal            Arsenal   \n",
       "\n",
       "              player                  #             Nation                Pos  \\\n",
       "  Unnamed: 6_level_1 Unnamed: 7_level_1 Unnamed: 8_level_1 Unnamed: 9_level_1   \n",
       "0     Aaron Ramsdale                1.0            eng ENG                 GK   \n",
       "\n",
       "                  Age                 Min Performance                      \\\n",
       "  Unnamed: 10_level_1 Unnamed: 11_level_1         Gls Ast PK PKatt Sh SoT   \n",
       "0              24-083                  90           0   0  0     0  0   0   \n",
       "\n",
       "                                   Expected           SCA     Passes      \\\n",
       "  CrdY CrdR Touches Tkl Int Blocks       xG npxG  xAG SCA GCA    Cmp Att   \n",
       "0    0    0      33   0   0      0      0.0  0.0  0.0   0   0     24  32   \n",
       "\n",
       "             Carries      Take-Ons                  game_id  \n",
       "   Cmp% PrgP Carries PrgC      Att Succ Unnamed: 37_level_1  \n",
       "0  75.0    0      24    0        0    0            e62f6e78  "
      ]
     },
     "execution_count": 129,
     "metadata": {},
     "output_type": "execute_result"
    }
   ],
   "source": [
    "df_example = pd.read_csv('df_2022_player.csv', header = [0, 1])\n",
    "df_example.head(1)"
   ]
  },
  {
   "cell_type": "code",
   "execution_count": 130,
   "id": "112da40e",
   "metadata": {},
   "outputs": [
    {
     "data": {
      "text/html": [
       "<div>\n",
       "<style scoped>\n",
       "    .dataframe tbody tr th:only-of-type {\n",
       "        vertical-align: middle;\n",
       "    }\n",
       "\n",
       "    .dataframe tbody tr th {\n",
       "        vertical-align: top;\n",
       "    }\n",
       "\n",
       "    .dataframe thead th {\n",
       "        text-align: right;\n",
       "    }\n",
       "</style>\n",
       "<table border=\"1\" class=\"dataframe\">\n",
       "  <thead>\n",
       "    <tr style=\"text-align: right;\">\n",
       "      <th></th>\n",
       "      <th>league</th>\n",
       "      <th>season</th>\n",
       "      <th>game</th>\n",
       "      <th>team</th>\n",
       "      <th>player</th>\n",
       "      <th>#</th>\n",
       "      <th>Nation</th>\n",
       "      <th>Pos</th>\n",
       "      <th>Age</th>\n",
       "      <th>Min</th>\n",
       "      <th>Gls</th>\n",
       "      <th>Ast</th>\n",
       "      <th>PK</th>\n",
       "      <th>PKatt</th>\n",
       "      <th>Sh</th>\n",
       "      <th>SoT</th>\n",
       "      <th>CrdY</th>\n",
       "      <th>CrdR</th>\n",
       "      <th>Touches</th>\n",
       "      <th>Tkl</th>\n",
       "      <th>Int</th>\n",
       "      <th>Blocks</th>\n",
       "      <th>xG</th>\n",
       "      <th>npxG</th>\n",
       "      <th>xAG</th>\n",
       "      <th>SCA</th>\n",
       "      <th>GCA</th>\n",
       "      <th>Cmp</th>\n",
       "      <th>Att</th>\n",
       "      <th>Cmp%</th>\n",
       "      <th>PrgP</th>\n",
       "      <th>Carries</th>\n",
       "      <th>PrgC</th>\n",
       "      <th>Att.1</th>\n",
       "      <th>Succ</th>\n",
       "      <th>game_id</th>\n",
       "      <th>Prog</th>\n",
       "    </tr>\n",
       "  </thead>\n",
       "  <tbody>\n",
       "    <tr>\n",
       "      <th>7573</th>\n",
       "      <td>ENG-Premier League</td>\n",
       "      <td>2122</td>\n",
       "      <td>2021-08-22 Arsenal-Chelsea</td>\n",
       "      <td>Chelsea</td>\n",
       "      <td>Kai Havertz</td>\n",
       "      <td>29.0</td>\n",
       "      <td>de GER</td>\n",
       "      <td>AM</td>\n",
       "      <td>22-072</td>\n",
       "      <td>89.0</td>\n",
       "      <td>0.0</td>\n",
       "      <td>0.0</td>\n",
       "      <td>0.0</td>\n",
       "      <td>0.0</td>\n",
       "      <td>4.0</td>\n",
       "      <td>1.0</td>\n",
       "      <td>0.0</td>\n",
       "      <td>0.0</td>\n",
       "      <td>55.0</td>\n",
       "      <td>0.0</td>\n",
       "      <td>0.0</td>\n",
       "      <td>1.0</td>\n",
       "      <td>0.7</td>\n",
       "      <td>0.7</td>\n",
       "      <td>0.0</td>\n",
       "      <td>8.0</td>\n",
       "      <td>0.0</td>\n",
       "      <td>39.0</td>\n",
       "      <td>44.0</td>\n",
       "      <td>88.6</td>\n",
       "      <td>8.0</td>\n",
       "      <td>38.0</td>\n",
       "      <td>5.0</td>\n",
       "      <td>4.0</td>\n",
       "      <td>1.0</td>\n",
       "      <td>93954213</td>\n",
       "      <td>NaN</td>\n",
       "    </tr>\n",
       "    <tr>\n",
       "      <th>16959</th>\n",
       "      <td>ENG-Premier League</td>\n",
       "      <td>2122</td>\n",
       "      <td>2022-05-12 Tottenham-Arsenal</td>\n",
       "      <td>Arsenal</td>\n",
       "      <td>Eddie Nketiah</td>\n",
       "      <td>30.0</td>\n",
       "      <td>eng ENG</td>\n",
       "      <td>FW</td>\n",
       "      <td>22-347</td>\n",
       "      <td>72.0</td>\n",
       "      <td>0.0</td>\n",
       "      <td>0.0</td>\n",
       "      <td>0.0</td>\n",
       "      <td>0.0</td>\n",
       "      <td>2.0</td>\n",
       "      <td>2.0</td>\n",
       "      <td>0.0</td>\n",
       "      <td>0.0</td>\n",
       "      <td>18.0</td>\n",
       "      <td>0.0</td>\n",
       "      <td>0.0</td>\n",
       "      <td>0.0</td>\n",
       "      <td>0.1</td>\n",
       "      <td>0.1</td>\n",
       "      <td>0.0</td>\n",
       "      <td>0.0</td>\n",
       "      <td>0.0</td>\n",
       "      <td>8.0</td>\n",
       "      <td>9.0</td>\n",
       "      <td>88.9</td>\n",
       "      <td>1.0</td>\n",
       "      <td>13.0</td>\n",
       "      <td>1.0</td>\n",
       "      <td>3.0</td>\n",
       "      <td>0.0</td>\n",
       "      <td>607d0562</td>\n",
       "      <td>NaN</td>\n",
       "    </tr>\n",
       "    <tr>\n",
       "      <th>18432</th>\n",
       "      <td>ENG-Premier League</td>\n",
       "      <td>2021</td>\n",
       "      <td>2020-10-03 Leeds United-Manchester City</td>\n",
       "      <td>Manchester City</td>\n",
       "      <td>Benjamin Mendy</td>\n",
       "      <td>22.0</td>\n",
       "      <td>fr FRA</td>\n",
       "      <td>LB</td>\n",
       "      <td>26-078</td>\n",
       "      <td>70.0</td>\n",
       "      <td>0.0</td>\n",
       "      <td>0.0</td>\n",
       "      <td>0.0</td>\n",
       "      <td>0.0</td>\n",
       "      <td>0.0</td>\n",
       "      <td>0.0</td>\n",
       "      <td>1.0</td>\n",
       "      <td>0.0</td>\n",
       "      <td>37.0</td>\n",
       "      <td>1.0</td>\n",
       "      <td>0.0</td>\n",
       "      <td>0.0</td>\n",
       "      <td>0.0</td>\n",
       "      <td>0.0</td>\n",
       "      <td>0.0</td>\n",
       "      <td>0.0</td>\n",
       "      <td>0.0</td>\n",
       "      <td>17.0</td>\n",
       "      <td>31.0</td>\n",
       "      <td>54.8</td>\n",
       "      <td>NaN</td>\n",
       "      <td>NaN</td>\n",
       "      <td>NaN</td>\n",
       "      <td>2.0</td>\n",
       "      <td>2.0</td>\n",
       "      <td>5ce15b58</td>\n",
       "      <td>1.0</td>\n",
       "    </tr>\n",
       "  </tbody>\n",
       "</table>\n",
       "</div>"
      ],
      "text/plain": [
       "                   league  season                                     game  \\\n",
       "7573   ENG-Premier League    2122               2021-08-22 Arsenal-Chelsea   \n",
       "16959  ENG-Premier League    2122             2022-05-12 Tottenham-Arsenal   \n",
       "18432  ENG-Premier League    2021  2020-10-03 Leeds United-Manchester City   \n",
       "\n",
       "                  team          player     #   Nation Pos     Age   Min  Gls  \\\n",
       "7573           Chelsea     Kai Havertz  29.0   de GER  AM  22-072  89.0  0.0   \n",
       "16959          Arsenal   Eddie Nketiah  30.0  eng ENG  FW  22-347  72.0  0.0   \n",
       "18432  Manchester City  Benjamin Mendy  22.0   fr FRA  LB  26-078  70.0  0.0   \n",
       "\n",
       "       Ast   PK  PKatt   Sh  SoT  CrdY  CrdR  Touches  Tkl  Int  Blocks   xG  \\\n",
       "7573   0.0  0.0    0.0  4.0  1.0   0.0   0.0     55.0  0.0  0.0     1.0  0.7   \n",
       "16959  0.0  0.0    0.0  2.0  2.0   0.0   0.0     18.0  0.0  0.0     0.0  0.1   \n",
       "18432  0.0  0.0    0.0  0.0  0.0   1.0   0.0     37.0  1.0  0.0     0.0  0.0   \n",
       "\n",
       "       npxG  xAG  SCA  GCA   Cmp   Att  Cmp%  PrgP  Carries  PrgC  Att.1  \\\n",
       "7573    0.7  0.0  8.0  0.0  39.0  44.0  88.6   8.0     38.0   5.0    4.0   \n",
       "16959   0.1  0.0  0.0  0.0   8.0   9.0  88.9   1.0     13.0   1.0    3.0   \n",
       "18432   0.0  0.0  0.0  0.0  17.0  31.0  54.8   NaN      NaN   NaN    2.0   \n",
       "\n",
       "       Succ   game_id  Prog  \n",
       "7573    1.0  93954213   NaN  \n",
       "16959   0.0  607d0562   NaN  \n",
       "18432   2.0  5ce15b58   1.0  "
      ]
     },
     "execution_count": 130,
     "metadata": {},
     "output_type": "execute_result"
    }
   ],
   "source": [
    "# Create seperate dataframes for each level of index (years 2017-2022)\n",
    "for year in range(2017, 2023):\n",
    "    df = pd.read_csv(f'df_{year}_player.csv', header=[0])\n",
    "    df_a = pd.read_csv(f'df_{year}_player.csv', header=[1])\n",
    "    vars()[f'df_{year}'] = df\n",
    "    vars()[f'df_{year}a'] = df_a \n",
    "    \n",
    "# Store seperate dataframes in respective lists\n",
    "df_list = [df_2022a, df_2021a, df_2020a, df_2019a, df_2018a, df_2017a]\n",
    "df_ref_list = [df_2022, df_2021, df_2020, df_2019, df_2018, df_2017]\n",
    "\n",
    "# Function that combines above dataframe column names\n",
    "def single_level(dfa, df):\n",
    "    lst = dfa.columns.to_list()\n",
    "    indices = [i for i, x in enumerate(lst) if x.startswith(\"Unnamed\")]\n",
    "    replace_lst = df.columns[indices]\n",
    "    for i in indices:\n",
    "        lst[i] = replace_lst[indices.index(i)]\n",
    "    dfa.rename(columns=dict(zip(dfa.columns, lst)), inplace=True)\n",
    "\n",
    "# Apply function while iterating over each pair of dataframes from years 2017-2022\n",
    "for i, df_a in enumerate(df_list):\n",
    "    single_level(df_a, df_ref_list[i])\n",
    "    \n",
    "# Concatenate the list of dataframes into one large dataframe and drop unnecessary columns   \n",
    "def concatenate_dataframes(df_list_to_concatenate):\n",
    "    df_concatenated = pd.concat(df_list_to_concatenate).drop(['level_0', 'index'], axis=1).reset_index(drop=True)\n",
    "    return df_concatenated     \n",
    "df = concatenate_dataframes(df_list)\n",
    "\n",
    "df.sample(3)"
   ]
  },
  {
   "cell_type": "markdown",
   "id": "9679bffe",
   "metadata": {},
   "source": [
    "After flattening the multi-level index, we have transformed the data into a one-level column and successfully concatenated multiple seasons together."
   ]
  },
  {
   "cell_type": "markdown",
   "id": "ce7a3442",
   "metadata": {},
   "source": [
    "# Cleaning and Pre-Processing\n",
    "\n",
    "To maintain brevity, the cleaning and pre-processing steps have been condensed without extensive explanation below. Please refer to the provided dataframe sample above for a clearer understanding of the reasons behind each step."
   ]
  },
  {
   "cell_type": "code",
   "execution_count": 131,
   "id": "cddd54a1",
   "metadata": {},
   "outputs": [],
   "source": [
    "def preprocess_data(df):\n",
    "    # create date column from game column. Sort df by date\n",
    "    df['date'] = pd.to_datetime(df['game'].apply(lambda x: x.split(\" \", 1)[0]))\n",
    "    df.sort_values(by='date', ascending=True, inplace = True)\n",
    "    \n",
    "    # rename values in team column to match team names in game column\n",
    "    df['team'] = df['team'].replace({'Wolverhampton Wanderers':'Wolves', 'Newcastle United':'Newcastle Utd', 'Tottenham Hotspur':'Tottenham', 'Brighton & Hove Albion':'Brighton', 'Manchester United':'Manchester Utd', 'West Ham United':'West Ham', 'Nottingham Forest':\"Nott'ham Forest\", \"Sheffield United\": \"Sheffield Utd\", \"West Bromwich Albion\": \"West Brom\", \"Huddersfield Town\":\"Huddersfield\"})\n",
    "\n",
    "    # define home/away games\n",
    "    df['home_team'] = df['game'].apply(lambda x: x.split(\" \", 1)[1].split(\"-\", 1)[0])\n",
    "    df['away_team'] = df['game'].apply(lambda x: x.split(\" \", 1)[1].split(\"-\", 1)[1]) \n",
    "    df['Location'] = df.apply(lambda row: 'Home' if row['team'] == row['home_team'] else 'Away', axis=1)\n",
    "        \n",
    "    # add hyphen to values in season\n",
    "    for i, season in enumerate(df['season']):\n",
    "        season_str = str(season)\n",
    "        new_season_str = '-'.join([season_str[j:j+2] for j in range(0, len(season_str), 2)])\n",
    "        df.at[i, 'season'] = new_season_str\n",
    "        \n",
    "    # remove days from age and convert to float \n",
    "    df['Age'] = df['Age'].astype(str).apply(lambda x: x.split(\"-\", 1)[0]).astype(float)\n",
    "    \n",
    "    # clean up positions and bin them\n",
    "    df['Pos'] = df['Pos'].astype(str).apply(lambda x: x.split(\",\", 1)[0]).replace({'DF': np.nan, 'MF': np.nan, 'nan': np.nan}).dropna()\n",
    "    position_map = {\n",
    "        'Goalkeeper': ['GK'],\n",
    "        'Center Back': ['CB'],\n",
    "        'Fullbacks': ['LB', 'RB', 'WB'],\n",
    "        'Defensive Midfield': ['DM'],\n",
    "        'Central Midfield': ['CM'],\n",
    "        'Attacking Midfield': ['AM'],\n",
    "        'Wide Midfield': ['LM', 'RM'],\n",
    "        'Wide Attacker': ['LW', 'RW'],\n",
    "        'Forward': ['FW']}\n",
    "    for position, positions in position_map.items():\n",
    "        df.loc[df['Pos'].isin(positions), 'Pos'] = position\n",
    "    \n",
    "    # clean up nations and bin them \n",
    "    df['Continent'] = df['Nation'].astype(str).apply(lambda x: x.split(\" \", 1)[1] if \" \" in x else x).replace({'nan': np.nan})\n",
    "    continent_map = {\n",
    "    'Europe': ['ENG', 'WAL', 'POR', 'GER', 'ESP', 'UKR', 'FRA', 'SUI', 'DEN', 'SWE', 'NED', 'SCO', 'IRL', 'BEL', 'POL', 'NOR', 'AUT', 'ITA', 'SRB', 'CRO', 'GRE', 'NIR', 'ALB', 'BIH', 'FIN', 'KVX', 'ISL', 'MKD', 'SVN', 'ROU', 'EST', 'CZE', 'SVK', 'TUR'],\n",
    "    'Africa': ['ARG', 'MAR', 'GAB', 'SEN', 'CMR', 'NGA', 'MLI', 'ZIM', 'CIV', 'BFA', 'GHA', 'DRC', 'MR', 'AO', 'TZ', 'KE', 'TG', 'BJ', 'GQ', 'BI', 'SL', 'ZAM', 'KEN', 'TOG', 'BDI', 'SLE', 'MTN', 'EQG', 'ANG', 'ALG', 'TUN', 'GUI', 'EGY', 'COD', 'RSA', 'TAN', 'BEN'],\n",
    "    'South America': ['BRA', 'ARG', 'VEN', 'PAR', 'URU', 'PER', 'COL', 'ECU'],\n",
    "    'North America': ['USA', 'CRC', 'CAN', 'CUW', 'GRN', 'MEX', 'SKN', 'CUB', 'BER', 'JAM'],\n",
    "    'Asia': ['KOR', 'ISR', 'JPN', 'IRN', 'CHI', 'ARM', 'PHI'],\n",
    "    'Oceania': ['AUS', 'NZL']}\n",
    "    for continent, countries in continent_map.items():\n",
    "        df.loc[df['Continent'].isin(countries), 'Continent'] = continent\n",
    "        \n",
    "    # make red cards and yellow cards categories as opposed to floats\n",
    "    df['CrdR'] = df['CrdR'].astype('category')\n",
    "    df['CrdY'] = df['CrdY'].astype('category')\n",
    "    \n",
    "    # drop columns\n",
    "    df.drop(['home_team', 'away_team', '#', 'game', 'league', 'Nation', 'Prog', 'game_id'], axis = 1, inplace = True)\n",
    "    \n",
    "    # handle nan\n",
    "    df.dropna(subset = ['Pos', 'Min', 'Continent', 'Att.1'], inplace = True)\n",
    "    df.fillna(df.mean(), inplace=True)\n",
    "    df.reset_index(inplace = True, drop = True)\n",
    "    \n",
    "preprocess_data(df)"
   ]
  },
  {
   "cell_type": "markdown",
   "id": "abfe0980",
   "metadata": {},
   "source": [
    "# 3. EDA\n",
    "\n",
    "Our objective is to identify input features that have a significant impact on our target variable, Goals. "
   ]
  },
  {
   "cell_type": "markdown",
   "id": "4bd6c90f",
   "metadata": {},
   "source": [
    "## 3.1. Categorical Data "
   ]
  },
  {
   "cell_type": "markdown",
   "id": "cb82620c",
   "metadata": {},
   "source": [
    "### Visual"
   ]
  },
  {
   "cell_type": "code",
   "execution_count": 132,
   "id": "231612e7",
   "metadata": {},
   "outputs": [],
   "source": [
    "categ_columns = ['Location', 'CrdR', 'CrdY', 'Pos', 'Continent']"
   ]
  },
  {
   "cell_type": "code",
   "execution_count": 133,
   "id": "a54650d2",
   "metadata": {
    "scrolled": false
   },
   "outputs": [
    {
     "data": {
      "image/png": "[encoded data removed]",
      "text/plain": [
       "<Figure size 785.25x360 with 1 Axes>"
      ]
     },
     "metadata": {
      "needs_background": "light"
     },
     "output_type": "display_data"
    },
    {
     "data": {
      "image/png": "[encoded data removed]",
      "text/plain": [
       "<Figure size 772x360 with 1 Axes>"
      ]
     },
     "metadata": {
      "needs_background": "light"
     },
     "output_type": "display_data"
    },
    {
     "data": {
      "image/png": "[encoded data removed]",
      "text/plain": [
       "<Figure size 772x360 with 1 Axes>"
      ]
     },
     "metadata": {
      "needs_background": "light"
     },
     "output_type": "display_data"
    },
    {
     "data": {
      "image/png": "[encoded data removed]",
      "text/plain": [
       "<Figure size 849x360 with 1 Axes>"
      ]
     },
     "metadata": {
      "needs_background": "light"
     },
     "output_type": "display_data"
    },
    {
     "data": {
      "image/png": "[encoded data removed]",
      "text/plain": [
       "<Figure size 829.25x360 with 1 Axes>"
      ]
     },
     "metadata": {
      "needs_background": "light"
     },
     "output_type": "display_data"
    }
   ],
   "source": [
    "def plot_cat_season(df, hue_col, title):\n",
    "    g = sns.catplot(x='season', y='Gls', hue=categ, data=df, kind='bar', height=5, aspect=2, ci=None)\n",
    "    g.fig.suptitle(title)\n",
    "    g.set(yticklabels=[])\n",
    "    plt.xlabel('Season')\n",
    "    plt.ylabel('Goals')\n",
    "    plt.show()\n",
    "\n",
    "for categ in categ_columns:\n",
    "    plot_cat_season(df, categ, title = f'Average Goals Per {categ} - Per Season')"
   ]
  },
  {
   "cell_type": "markdown",
   "id": "ec3c7576",
   "metadata": {},
   "source": [
    "Location: Clear difference between Home/Away games <br>\n",
    "\n",
    "Red Cards (CrdR): Clear difference between with/without red card <br> \n",
    "\n",
    "Yellow Cards (CrdY): No discernible difference between games where no yellow cards were issued and games where one yellow card was issued. Two yellow cards result in a red card and were thus included in the CrdR analysis. <br> \n",
    "\n",
    "Pos: Clear differences between positions <br> \n",
    "\n",
    "Continent: Less clear but differences between continents potentially exist "
   ]
  },
  {
   "cell_type": "markdown",
   "id": "0bef6748",
   "metadata": {},
   "source": [
    "## Statistical\n",
    "\n",
    "We confirm our interpretation of the visual graphs above by conducting statistical tests."
   ]
  },
  {
   "cell_type": "markdown",
   "id": "7376e254",
   "metadata": {},
   "source": [
    "### Two-Sample T-test for Goals vs Location/Red Cards (CrdR)"
   ]
  },
  {
   "cell_type": "code",
   "execution_count": 134,
   "id": "010e2780",
   "metadata": {},
   "outputs": [
    {
     "name": "stdout",
     "output_type": "stream",
     "text": [
      "Location: P-value - 2.9883125580791676e-11\n",
      "CrdR: P-value - 0.019386768913327936\n"
     ]
    }
   ],
   "source": [
    "t_stat, p_val = ttest_ind(df[df['Location'] == 'Home']['Gls'], df[df['Location'] == 'Away']['Gls'], equal_var=True)\n",
    "print('Location: P-value -', p_val)\n",
    "\n",
    "t_stat, p_val = ttest_ind(df[df['CrdR'] == 0]['Gls'], df[df['CrdR'] == 1]['Gls'], equal_var=True)\n",
    "print('CrdR: P-value -', p_val)"
   ]
  },
  {
   "cell_type": "markdown",
   "id": "1e81bcd6",
   "metadata": {},
   "source": [
    "Both the location variable and the variable indicating whether a red card was issued or not show statistically significant differences in mean goals, with p-values < 0.05. These results, in conjunction with our interpretation of the graphs above, make it worthwhile to include them in the model."
   ]
  },
  {
   "cell_type": "markdown",
   "id": "82e77637",
   "metadata": {},
   "source": [
    "### ANOVA for Goals vs  Position (Pos)/Continent/Yellow Cards"
   ]
  },
  {
   "cell_type": "code",
   "execution_count": 135,
   "id": "21914f41",
   "metadata": {},
   "outputs": [
    {
     "name": "stdout",
     "output_type": "stream",
     "text": [
      "P-Value for Pos: 0.0\n",
      "P-Value for Continent: 3.509163249194074e-35\n",
      "P-Value for CrdY: 0.4100729290840395\n"
     ]
    }
   ],
   "source": [
    "categ_multi_test = ['Pos', 'Continent', 'CrdY']\n",
    "for x in categ_multi_test:\n",
    "    formula = f'Gls ~ C({x})'\n",
    "    model = ols(formula, data = df).fit()\n",
    "    print(f'P-Value for {x}: ' + str(sm.stats.anova_lm(model, typ = 2)['PR(>F)'].values[0]))"
   ]
  },
  {
   "cell_type": "markdown",
   "id": "a94833f1",
   "metadata": {},
   "source": [
    "Our analysis reveals that when controlling for categories within Continent, Position, and CrdY, there is a statistically significant difference in mean Goals at a significance level of p < 0.05 for Continent and Position. This finding suggests that it may be worth including these variables in our model. However, we need to investigate further to identify which categories within each variable produce statistically different means from one another.\n",
    "\n",
    "As the equivalence of variance assumption for the Tukey test is violated, we will instead use the Games-Howell test to find which categories within variables Continent and Position are statistically different. The Games-Howell test is more appropriate when variances are unequal.\n",
    "\n",
    "Based on our analysis, we did not observe a statistically significant difference in the average number of goals scored in games with and without yellow cards, as indicated by a p-value of 0.4101. Therefore, we can omit the variable \"CrdY\" from our model, especially given the unclear visual graph."
   ]
  },
  {
   "cell_type": "markdown",
   "id": "6b256a2a",
   "metadata": {},
   "source": [
    "### Games-Howell for Goals vs Position (Pos)/Continent"
   ]
  },
  {
   "cell_type": "code",
   "execution_count": 136,
   "id": "3727ebac",
   "metadata": {},
   "outputs": [
    {
     "data": {
      "text/html": [
       "<div>\n",
       "<style scoped>\n",
       "    .dataframe tbody tr th:only-of-type {\n",
       "        vertical-align: middle;\n",
       "    }\n",
       "\n",
       "    .dataframe tbody tr th {\n",
       "        vertical-align: top;\n",
       "    }\n",
       "\n",
       "    .dataframe thead th {\n",
       "        text-align: right;\n",
       "    }\n",
       "</style>\n",
       "<table border=\"1\" class=\"dataframe\">\n",
       "  <thead>\n",
       "    <tr style=\"text-align: right;\">\n",
       "      <th></th>\n",
       "      <th>% of P-value &gt; .05</th>\n",
       "    </tr>\n",
       "    <tr>\n",
       "      <th>Pos</th>\n",
       "      <th></th>\n",
       "    </tr>\n",
       "  </thead>\n",
       "  <tbody>\n",
       "    <tr>\n",
       "      <th>Defensive Midfield</th>\n",
       "      <td>25.0</td>\n",
       "    </tr>\n",
       "    <tr>\n",
       "      <th>Center Back</th>\n",
       "      <td>12.5</td>\n",
       "    </tr>\n",
       "    <tr>\n",
       "      <th>Central Midfield</th>\n",
       "      <td>12.5</td>\n",
       "    </tr>\n",
       "    <tr>\n",
       "      <th>Attacking Midfield</th>\n",
       "      <td>0.0</td>\n",
       "    </tr>\n",
       "    <tr>\n",
       "      <th>Forward</th>\n",
       "      <td>0.0</td>\n",
       "    </tr>\n",
       "    <tr>\n",
       "      <th>Fullbacks</th>\n",
       "      <td>0.0</td>\n",
       "    </tr>\n",
       "    <tr>\n",
       "      <th>Goalkeeper</th>\n",
       "      <td>0.0</td>\n",
       "    </tr>\n",
       "    <tr>\n",
       "      <th>Wide Attacker</th>\n",
       "      <td>0.0</td>\n",
       "    </tr>\n",
       "    <tr>\n",
       "      <th>Wide Midfield</th>\n",
       "      <td>0.0</td>\n",
       "    </tr>\n",
       "  </tbody>\n",
       "</table>\n",
       "</div>"
      ],
      "text/plain": [
       "                    % of P-value > .05\n",
       "Pos                                   \n",
       "Defensive Midfield                25.0\n",
       "Center Back                       12.5\n",
       "Central Midfield                  12.5\n",
       "Attacking Midfield                 0.0\n",
       "Forward                            0.0\n",
       "Fullbacks                          0.0\n",
       "Goalkeeper                         0.0\n",
       "Wide Attacker                      0.0\n",
       "Wide Midfield                      0.0"
      ]
     },
     "execution_count": 136,
     "metadata": {},
     "output_type": "execute_result"
    },
    {
     "data": {
      "text/html": [
       "<div>\n",
       "<style scoped>\n",
       "    .dataframe tbody tr th:only-of-type {\n",
       "        vertical-align: middle;\n",
       "    }\n",
       "\n",
       "    .dataframe tbody tr th {\n",
       "        vertical-align: top;\n",
       "    }\n",
       "\n",
       "    .dataframe thead th {\n",
       "        text-align: right;\n",
       "    }\n",
       "</style>\n",
       "<table border=\"1\" class=\"dataframe\">\n",
       "  <thead>\n",
       "    <tr style=\"text-align: right;\">\n",
       "      <th></th>\n",
       "      <th>% of P-value &gt; .05</th>\n",
       "    </tr>\n",
       "    <tr>\n",
       "      <th>Continent</th>\n",
       "      <th></th>\n",
       "    </tr>\n",
       "  </thead>\n",
       "  <tbody>\n",
       "    <tr>\n",
       "      <th>Africa</th>\n",
       "      <td>80.0</td>\n",
       "    </tr>\n",
       "    <tr>\n",
       "      <th>North America</th>\n",
       "      <td>80.0</td>\n",
       "    </tr>\n",
       "    <tr>\n",
       "      <th>Oceania</th>\n",
       "      <td>80.0</td>\n",
       "    </tr>\n",
       "    <tr>\n",
       "      <th>Asia</th>\n",
       "      <td>60.0</td>\n",
       "    </tr>\n",
       "    <tr>\n",
       "      <th>South America</th>\n",
       "      <td>60.0</td>\n",
       "    </tr>\n",
       "    <tr>\n",
       "      <th>Europe</th>\n",
       "      <td>0.0</td>\n",
       "    </tr>\n",
       "  </tbody>\n",
       "</table>\n",
       "</div>"
      ],
      "text/plain": [
       "               % of P-value > .05\n",
       "Continent                        \n",
       "Africa                       80.0\n",
       "North America                80.0\n",
       "Oceania                      80.0\n",
       "Asia                         60.0\n",
       "South America                60.0\n",
       "Europe                        0.0"
      ]
     },
     "execution_count": 136,
     "metadata": {},
     "output_type": "execute_result"
    }
   ],
   "source": [
    "categ_multi_test = ['Pos', 'Continent']\n",
    "for x in categ_multi_test:\n",
    "    df_table = pd.DataFrame(pg.pairwise_gameshowell(data=df, dv='Gls', between=x))\n",
    "    df_table_1 = df_table[['B', 'A', 'mean(A)', 'mean(B)', 'diff', 'se', 'T', 'df', 'pval', 'hedges']].rename(columns={'B':'A', 'A':'B'})\n",
    "    df_table_concat = pd.concat([df_table, df_table_1]).rename(columns = {'A': f'{x}'}).sort_values(by = f'{x}').reset_index(drop = True)\n",
    "    df_table_concat['reject'] = np.where(df_table_concat['pval'] < 0.05, False, True)\n",
    "    (df_table_concat.groupby(f'{x}')['reject'].mean() * 100).to_frame().rename(columns = {'reject': '% of P-value > .05'}).sort_values(by = '% of P-value > .05', ascending = False)"
   ]
  },
  {
   "cell_type": "markdown",
   "id": "9b9f0c89",
   "metadata": {},
   "source": [
    "For the variable \"Continent\", most categories have p-values greater than 0.05, except for Europe, indicating that a statistically significant difference in mean Goals is only observed for European players. Therefore, it should be worth including a feature for European players in the model. Other categories could potentially be combined into an \"other\" category, as their impact is unclear. <br> <br>\n",
    "Regarding the variable \"Pos\", most categories have p-values less than 0.05, indicating that a statistically significant difference in mean Goals is observed between most categories. Therefore, it would be worth including the Position variable in the model."
   ]
  },
  {
   "cell_type": "markdown",
   "id": "52f89f98",
   "metadata": {},
   "source": [
    "# 3.2. Numerical Data"
   ]
  },
  {
   "cell_type": "code",
   "execution_count": 137,
   "id": "7a727483",
   "metadata": {},
   "outputs": [],
   "source": [
    "float_cols = df.select_dtypes(include=['float'])"
   ]
  },
  {
   "cell_type": "markdown",
   "id": "0ec62345",
   "metadata": {},
   "source": [
    "## Correlation Matrix"
   ]
  },
  {
   "cell_type": "code",
   "execution_count": 138,
   "id": "a346168f",
   "metadata": {},
   "outputs": [
    {
     "data": {
      "image/png": "[encoded data removed]",
      "text/plain": [
       "<Figure size 1440x360 with 2 Axes>"
      ]
     },
     "metadata": {
      "needs_background": "light"
     },
     "output_type": "display_data"
    }
   ],
   "source": [
    "corr_matrix = float_cols.corr().iloc[2:3, :].sort_values(by='Gls', ascending=False, axis=1).round(2)\n",
    "\n",
    "plt.figure(figsize=(20, 5))\n",
    "sns.heatmap(corr_matrix, annot=True, cmap='coolwarm')\n",
    "plt.show();"
   ]
  },
  {
   "cell_type": "markdown",
   "id": "efd36bad",
   "metadata": {},
   "source": [
    "We can observe some clear multicollinearity in the data, as shown by the strong correlation between certain variables, such as Shots on Target and Shots, or Penalty Kicks Scored and Penalty Kicks Attempted. However, since the purpose of this project is to build a predictive model, multicollinearity is not a major concern. If we were focused on interpretability, we would need to formally address this issue.\n",
    "\n",
    "Although some attributes have low correlation coefficients, they may still be useful in the model. To investigate this, we can visualize their relationship with the target variable using scatter plots."
   ]
  },
  {
   "cell_type": "code",
   "execution_count": 139,
   "id": "deb73ded",
   "metadata": {},
   "outputs": [
    {
     "data": {
      "image/png": "[encoded data removed]",
      "text/plain": [
       "<Figure size 432x288 with 1 Axes>"
      ]
     },
     "metadata": {
      "needs_background": "light"
     },
     "output_type": "display_data"
    },
    {
     "data": {
      "image/png": "[encoded data removed]",
      "text/plain": [
       "<Figure size 432x288 with 1 Axes>"
      ]
     },
     "metadata": {
      "needs_background": "light"
     },
     "output_type": "display_data"
    },
    {
     "data": {
      "image/png": "[encoded data removed]",
      "text/plain": [
       "<Figure size 432x288 with 1 Axes>"
      ]
     },
     "metadata": {
      "needs_background": "light"
     },
     "output_type": "display_data"
    },
    {
     "data": {
      "image/png": "[encoded data removed]",
      "text/plain": [
       "<Figure size 432x288 with 1 Axes>"
      ]
     },
     "metadata": {
      "needs_background": "light"
     },
     "output_type": "display_data"
    }
   ],
   "source": [
    "scatter_list = ['Age', 'Min', 'Blocks', 'Tkl']\n",
    "for x in scatter_list:\n",
    "    # calculate the average goals per age\n",
    "    avg_goals_per_age = df.groupby(x)['Gls'].mean().reset_index()\n",
    "\n",
    "    # plot the scatter graph\n",
    "    _ = sns.scatterplot(data=avg_goals_per_age, x=x, y='Gls', color='blue')\n",
    "    _ = plt.title(f'Average Goals/Game per {x}')\n",
    "    _ = plt.xlabel(x)\n",
    "    _ = plt.ylabel('Average Goals/Game')\n",
    "    plt.show(); "
   ]
  },
  {
   "cell_type": "markdown",
   "id": "11367ada",
   "metadata": {},
   "source": [
    "Age: There seems to be a clear second-order relationship, with the highest number of goals scored between the ages of 23 and 30, and a drop-off on either side. <br>\n",
    "Min: There is a significant linear relationship after the 60-minute mark, which is more pronounced and clear. However, before that, although there is a positive linear relationship, it is less steep and more obscured by noise. <br>\n",
    "Blocks/Tkl: A clear negative relationship. <br>\n",
    "\n",
    "Even though all these variables appear to be significant for our model, we may want to consider binning the categories within the 'Age' and 'Min' variables to potentially improve their predictive power."
   ]
  },
  {
   "cell_type": "markdown",
   "id": "29446707",
   "metadata": {},
   "source": [
    "# 4. Models\n",
    "\n",
    "We will be creating two linear regression models to predict the number of goals scored in a match. One model will use only xG as a predictor, while the other model will use all available features. We will compare the performance of these two models to see if the additional features improve the accuracy of our predictions.\n",
    "\n",
    "Additionally, we will perform hyper-parameter optimization of an XGB regressor model using nested cross-validation and RandomSearch. The aim is to compare the performance of this optimized model with that of a simple linear regression model."
   ]
  },
  {
   "cell_type": "markdown",
   "id": "36c4d06f",
   "metadata": {},
   "source": [
    "Creating the model dataframe"
   ]
  },
  {
   "cell_type": "code",
   "execution_count": 140,
   "id": "10d81c8c",
   "metadata": {},
   "outputs": [],
   "source": [
    "# Categorical Columns\n",
    "df_encoded = pd.get_dummies(df, columns=categ_columns)\n",
    "df_encoded_cols = [col for col in df_encoded.columns if '_' in col]\n",
    "df_encoded = df_encoded.filter(df_encoded_cols)\n",
    "\n",
    "# Numerical Columns \n",
    "df_numerical = df.select_dtypes(include=['float'])\n",
    "\n",
    "# Combine \n",
    "df_model = pd.concat([df_encoded, df_numerical], axis = 1)"
   ]
  },
  {
   "cell_type": "markdown",
   "id": "ca0fe9be",
   "metadata": {},
   "source": [
    "## 4.1. Goals Prediction via xG vs All Features (Linear Regression)"
   ]
  },
  {
   "cell_type": "code",
   "execution_count": 141,
   "id": "0d8a1edd",
   "metadata": {},
   "outputs": [
    {
     "name": "stdout",
     "output_type": "stream",
     "text": [
      "Fold 1 (xG): R-squared score: 0.3862, RMSE: 0.2641\n",
      "Fold 1 (all features): R-squared score: 0.5022, RMSE: 0.2378\n",
      "----------------------------------------------------------------------\n",
      "Fold 2 (xG): R-squared score: 0.3567, RMSE: 0.2629\n",
      "Fold 2 (all features): R-squared score: 0.4796, RMSE: 0.2365\n",
      "----------------------------------------------------------------------\n",
      "Fold 3 (xG): R-squared score: 0.3862, RMSE: 0.2565\n",
      "Fold 3 (all features): R-squared score: 0.5031, RMSE: 0.2308\n",
      "----------------------------------------------------------------------\n",
      "Fold 4 (xG): R-squared score: 0.3888, RMSE: 0.2596\n",
      "Fold 4 (all features): R-squared score: 0.5206, RMSE: 0.2299\n",
      "----------------------------------------------------------------------\n",
      "Fold 5 (xG): R-squared score: 0.3818, RMSE: 0.2544\n",
      "Fold 5 (all features): R-squared score: 0.5039, RMSE: 0.2279\n",
      "----------------------------------------------------------------------\n",
      "Mean R-squared score for xG: 0.3799 +/- 0.0118\n",
      "Mean RMSE for xG: 0.2595 +/- 0.0037\n",
      "----------------------------------------------------------------------\n",
      "Mean R-squared score for all features: 0.5019 +/- 0.0131\n",
      "Mean RMSE for all inputs: 0.2326 +/- 0.0039\n",
      "----------------------------------------------------------------------\n",
      "Pearson correlation coefficient for xG Model: 0.6233\n",
      "Pearson correlation coefficient for All Features Model: 0.7120\n"
     ]
    }
   ],
   "source": [
    "# Create an empty list to store fold results\n",
    "fold_results_r2_xG = []\n",
    "fold_results_rmse_xG = []\n",
    "fold_results_r2_all = []\n",
    "fold_results_rmse_all = []\n",
    "\n",
    "# Use TimeSeriesSplit to split into training and test sets based on date\n",
    "tscv = TimeSeriesSplit(n_splits=5)\n",
    "\n",
    "for fold, (train_index, test_index) in enumerate(tscv.split(df_model), 1):\n",
    "\n",
    "    # Split into input and target variables for xG and Gls\n",
    "    x_xG = df_model['xG'].iloc[train_index]\n",
    "    y_Gls = df_model['Gls'].iloc[train_index]\n",
    "    x_xG_test = df_model['xG'].iloc[test_index]\n",
    "    y_Gls_test = df_model['Gls'].iloc[test_index]\n",
    "\n",
    "    # Split into input and target variables for all features\n",
    "    x_all = df_model.drop('Gls', axis=1).iloc[train_index]\n",
    "    y_all = df_model['Gls'].iloc[train_index]\n",
    "    x_all_test = df_model.drop('Gls', axis=1).iloc[test_index]\n",
    "    y_all_test = df_model['Gls'].iloc[test_index]\n",
    "\n",
    "    # Create a Linear Regression object for xG and Gls\n",
    "    linear_reg_xG = LinearRegression()\n",
    "\n",
    "    # Reshape\n",
    "    x_xG_reshaped = np.array(x_xG).reshape(-1, 1)\n",
    "    y_Gls_reshaped = np.array(y_Gls).reshape(-1, 1)\n",
    "    x_xG_test_reshaped = np.array(x_xG_test).reshape(-1, 1)\n",
    "    y_Gls_test_reshaped = np.array(y_Gls_test).reshape(-1, 1)\n",
    "\n",
    "    # Train the model on the training data\n",
    "    lin_model_xG = linear_reg_xG.fit(x_xG_reshaped, y_Gls_reshaped)\n",
    "\n",
    "    # Evaluate the performance of the model on the test data for xG and Gls\n",
    "    y_pred_xG = lin_model_xG.predict(x_xG_test_reshaped)\n",
    "    r2_xG = r2_score(y_Gls_test_reshaped, y_pred_xG)\n",
    "    rmse_xG = mean_squared_error(y_Gls_test_reshaped, y_pred_xG, squared=False)\n",
    "    print(f\"Fold {fold} (xG): R-squared score: {r2_xG:.4f}, RMSE: {rmse_xG:.4f}\")\n",
    "    fold_results_r2_xG.append(r2_xG)\n",
    "    fold_results_rmse_xG.append(rmse_xG)\n",
    "\n",
    "    # Create a Linear Regression object for all features\n",
    "    linear_reg_all = LinearRegression()\n",
    "\n",
    "    # Train the model on the training data\n",
    "    lin_model_all = linear_reg_all.fit(x_all, y_all)\n",
    "\n",
    "    # Evaluate the performance of the model on the test data for all features except Gls\n",
    "    y_pred_all = lin_model_all.predict(x_all_test)\n",
    "    r2_all = r2_score(y_all_test, y_pred_all)\n",
    "    rmse_all = mean_squared_error(y_all_test, y_pred_all, squared=False)\n",
    "    print(f\"Fold {fold} (all features): R-squared score: {r2_all:.4f}, RMSE: {rmse_all:.4f}\")\n",
    "    fold_results_r2_all.append(r2_all)\n",
    "    fold_results_rmse_all.append(rmse_all)\n",
    "    \n",
    "    print(\"----------------------------------------------------------------------\")\n",
    "\n",
    "# Calculate the mean and standard deviation of the fold results for just xG\n",
    "mean_r2 = np.mean(fold_results_r2_xG)\n",
    "std_r2 = np.std(fold_results_r2_xG)\n",
    "mean_rmse = np.mean(fold_results_rmse_xG)\n",
    "std_rmse = np.std(fold_results_rmse_xG)\n",
    "print(f\"Mean R-squared score for xG: {mean_r2:.4f} +/- {std_r2:.4f}\")\n",
    "print(f\"Mean RMSE for xG: {mean_rmse:.4f} +/- {std_rmse:.4f}\")\n",
    "print(\"----------------------------------------------------------------------\")\n",
    "\n",
    "# Calculate the mean and standard deviation of the fold results for all inputs\n",
    "mean_r2 = np.mean(fold_results_r2_all)\n",
    "std_r2 = np.std(fold_results_r2_all)\n",
    "mean_rmse = np.mean(fold_results_rmse_all)\n",
    "std_rmse = np.std(fold_results_rmse_all)\n",
    "print(f\"Mean R-squared score for all features: {mean_r2:.4f} +/- {std_r2:.4f}\")\n",
    "print(f\"Mean RMSE for all inputs: {mean_rmse:.4f} +/- {std_rmse:.4f}\")\n",
    "print(\"----------------------------------------------------------------------\")\n",
    "\n",
    "# Split the data into training and testing sets\n",
    "train_df, test_df = train_test_split(df_model, test_size=0.2, shuffle=False)\n",
    "\n",
    "# Define the different scenarios to test\n",
    "scenarios = [{'x_col': 'xG', 'drop_col': False}, {'x_col': None, 'drop_col': True}]\n",
    "scenario_names = ['xG Model', 'All Features Model']\n",
    "\n",
    "# Loop through each scenario\n",
    "for i, scenario in enumerate(scenarios):\n",
    "    # If the scenario involves dropping a column, drop it from the training and testing sets\n",
    "    if scenario['drop_col']:\n",
    "        x_train = train_df.drop('Gls', axis=1)\n",
    "        x_test = test_df.drop('Gls', axis=1)\n",
    "    # If the scenario involves using only one column, select it from the training and testing sets\n",
    "    else:\n",
    "        x_train = train_df[scenario['x_col']].to_numpy().reshape(-1, 1)\n",
    "        x_test = test_df[scenario['x_col']].to_numpy().reshape(-1, 1)\n",
    "\n",
    "    # Define the target variable for both the training and testing sets\n",
    "    y_train = train_df['Gls'].to_numpy()\n",
    "    y_test = test_df['Gls'].to_numpy()\n",
    "\n",
    "    # Train a linear regression model on the training data\n",
    "    linear_reg = LinearRegression()\n",
    "    lin_model = linear_reg.fit(x_train, y_train)\n",
    "\n",
    "    # Use the trained model to make predictions on the testing data\n",
    "    y_pred = lin_model.predict(x_test)\n",
    "\n",
    "    # Calculate the Pearson correlation coefficient between the predicted and actual values\n",
    "    corr_coef = pearsonr(y_pred, y_test)\n",
    "    \n",
    "    # Print the correlation coefficient for the current scenario\n",
    "\n",
    "    print(f\"Pearson correlation coefficient for {scenario_names[i]}: {corr_coef[0]:.4f}\")"
   ]
  },
  {
   "cell_type": "markdown",
   "id": "16ceb40f",
   "metadata": {},
   "source": [
    "### Summary\n",
    "\n",
    "The model that includes all the inputs has shown better performance compared to the xG alone model in terms of higher R-squared value (0.5019 vs 0.3799), lower RMSE (0.2326 vs 0.2595) and higher correlation coefficient (0.7120 vs 0.6233). Based on these results, we can reasonably conclude that these additional features, when used in combination with xG, have the potential to improve the accuracy of future goal predictions beyond what xG alone can achieve."
   ]
  },
  {
   "cell_type": "markdown",
   "id": "7fde1af7",
   "metadata": {},
   "source": [
    "## 4.2. XGB Regressor Optimization"
   ]
  },
  {
   "cell_type": "markdown",
   "id": "e6681fab",
   "metadata": {},
   "source": [
    "### Before Optimization"
   ]
  },
  {
   "cell_type": "code",
   "execution_count": 142,
   "id": "cc34cc44",
   "metadata": {},
   "outputs": [
    {
     "name": "stdout",
     "output_type": "stream",
     "text": [
      "Fold 1: R-squared score: 0.4395, RMSE: 0.2524\n",
      "Fold 2: R-squared score: 0.4280, RMSE: 0.2479\n",
      "Fold 3: R-squared score: 0.4656, RMSE: 0.2393\n",
      "Fold 4: R-squared score: 0.5097, RMSE: 0.2325\n",
      "Fold 5: R-squared score: 0.5072, RMSE: 0.2271\n",
      "Mean R-squared score: 0.4700 +/- 0.0337\n",
      "Mean RMSE: 0.2398 +/- 0.0094\n",
      "Pearson correlation coefficient: 0.7056243587142234\n"
     ]
    }
   ],
   "source": [
    "# Split into input and target variables\n",
    "x = df_model.drop('Gls', axis = 1)\n",
    "y = df['Gls']\n",
    "\n",
    "# Create an empty list to store fold results\n",
    "fold_results_r2 = []\n",
    "fold_results_rmse = []\n",
    "\n",
    "# Use TimeSeriesSplit to split into training and test sets based on date\n",
    "tscv = TimeSeriesSplit(n_splits=5)\n",
    "\n",
    "for fold, (train_index, test_index) in enumerate(tscv.split(df), 1):\n",
    "    x_train, x_test = x.iloc[train_index], x.iloc[test_index]\n",
    "    y_train, y_test = y.iloc[train_index], y.iloc[test_index]\n",
    "\n",
    "    # Create a XGB Regression object\n",
    "    linear_reg = xgb.XGBRegressor()\n",
    "\n",
    "    # Train the model on the training data\n",
    "    lin_model = linear_reg.fit(x_train, y_train)\n",
    "\n",
    "    # Evaluate the performance of the model on the test data\n",
    "    y_pred = lin_model.predict(x_test)\n",
    "    r2 = r2_score(y_test, y_pred)\n",
    "    rmse = mean_squared_error(y_test, y_pred, squared=False)\n",
    "    print(f\"Fold {fold}: R-squared score: {r2:.4f}, RMSE: {rmse:.4f}\")\n",
    "    fold_results_r2.append(r2)\n",
    "    fold_results_rmse.append(rmse)\n",
    "    \n",
    "# Calculate the mean and standard deviation of the fold results\n",
    "mean_r2 = np.mean(fold_results_r2)\n",
    "std_r2 = np.std(fold_results_r2)\n",
    "mean_rmse = np.mean(fold_results_rmse)\n",
    "std_rmse = np.std(fold_results_rmse)\n",
    "print(f\"Mean R-squared score: {mean_r2:.4f} +/- {std_r2:.4f}\")\n",
    "print(f\"Mean RMSE: {mean_rmse:.4f} +/- {std_rmse:.4f}\")\n",
    "\n",
    "# Split the data into training and testing sets\n",
    "train_df, test_df = train_test_split(df_model, test_size=0.2, shuffle=False)\n",
    "\n",
    "# Define target and input variables for training and testing sets\n",
    "x_train = train_df.drop('Gls', axis = 1)\n",
    "y_train = train_df['Gls'].to_numpy()\n",
    "x_test = test_df.drop('Gls', axis = 1)\n",
    "y_test = test_df['Gls'].to_numpy()\n",
    "\n",
    "# Create a XGB regression object and fit it to the training data\n",
    "linear_reg = xgb.XGBRegressor()\n",
    "lin_model = linear_reg.fit(x_train, y_train)\n",
    "\n",
    "# Use the trained model to make predictions on the testing set\n",
    "y_pred = lin_model.predict(x_test)\n",
    "\n",
    "# Calculate the Pearson correlation coefficient between the predicted and actual values of the target variable\n",
    "p = (pearsonr(y_pred, y_test))[0]\n",
    "print(f\"Pearson correlation coefficient: {p}\")"
   ]
  },
  {
   "cell_type": "markdown",
   "id": "238552a0",
   "metadata": {},
   "source": [
    "### Optimization via Random Search"
   ]
  },
  {
   "cell_type": "code",
   "execution_count": 146,
   "id": "4de92905",
   "metadata": {},
   "outputs": [
    {
     "name": "stdout",
     "output_type": "stream",
     "text": [
      "Best parameters: {'min_child_weight': 5, 'max_depth': 5, 'learning_rate': 0.2, 'gamma': 2, 'colsample_bytree': 0.7}\n"
     ]
    }
   ],
   "source": [
    "# Split the data into training and testing sets\n",
    "train_df, test_df = train_test_split(df_model, test_size=0.2, shuffle=False)\n",
    "\n",
    "# Define target and input variables for training and testing sets\n",
    "x_train = train_df.drop('Gls', axis = 1)\n",
    "y_train = train_df['Gls']\n",
    "\n",
    "# Parameters to optimize\n",
    "params = {\n",
    "    'learning_rate' : [.05,.1,.15, .2, .25, .3],\n",
    "    'max_depth' : range(3, 10, 1),\n",
    "    'min_child_weight' : [1, 3, 5],\n",
    "    'gamma' : [0, 1, 2, 3],\n",
    "    'colsample_bytree' : [0.5, 0.7, 0.9]\n",
    "}\n",
    "\n",
    "# Define the RandomSearch object\n",
    "random_search = RandomizedSearchCV(linear_reg, param_distributions=params, cv=tscv, n_iter=10, n_jobs=-1)\n",
    "\n",
    "# Fit the RandomSearch object on the training data\n",
    "_ = random_search.fit(x_train, y_train)\n",
    "\n",
    "# Store the best parameters and best model as variables\n",
    "best_params = random_search.best_params_\n",
    "best_model = random_search.best_estimator_\n",
    "\n",
    "# Print the best parameters\n",
    "print(f\"Best parameters: {best_params}\")"
   ]
  },
  {
   "cell_type": "markdown",
   "id": "36e58030",
   "metadata": {},
   "source": [
    "### After Optimization"
   ]
  },
  {
   "cell_type": "code",
   "execution_count": 148,
   "id": "69b25381",
   "metadata": {},
   "outputs": [
    {
     "name": "stdout",
     "output_type": "stream",
     "text": [
      "Fold 1: R-squared score: 0.5056, RMSE: 0.2370\n",
      "Fold 2: R-squared score: 0.4952, RMSE: 0.2329\n",
      "Fold 3: R-squared score: 0.5179, RMSE: 0.2273\n",
      "Fold 4: R-squared score: 0.5415, RMSE: 0.2248\n",
      "Fold 5: R-squared score: 0.5270, RMSE: 0.2225\n",
      "Mean R-squared score: 0.5174 +/- 0.0162\n",
      "Mean RMSE: 0.2289 +/- 0.0053\n",
      "Pearson correlation coefficient: 0.728322322418983\n",
      "----------------------------------------------------------------------\n"
     ]
    }
   ],
   "source": [
    "# Split into input and target variables\n",
    "x = df_model.drop('Gls', axis = 1)\n",
    "y = df_model['Gls']\n",
    "\n",
    "# Create an empty list to store fold results\n",
    "fold_results_r2 = []\n",
    "fold_results_rmse = []\n",
    "\n",
    "# Use TimeSeriesSplit to split into training and test sets based on date\n",
    "tscv = TimeSeriesSplit(n_splits=5)\n",
    "\n",
    "for fold, (train_index, test_index) in enumerate(tscv.split(df), 1):\n",
    "    x_train, x_test = x.iloc[train_index], x.iloc[test_index]\n",
    "    y_train, y_test = y.iloc[train_index], y.iloc[test_index]\n",
    "\n",
    "    # Train the model with optimized hyper-parameters on the training data\n",
    "    lin_model = best_model.fit(x_train, y_train)\n",
    "\n",
    "    # Evaluate the performance of the model on the test data\n",
    "    y_pred = lin_model.predict(x_test)\n",
    "    r2 = r2_score(y_test, y_pred)\n",
    "    rmse = mean_squared_error(y_test, y_pred, squared=False)\n",
    "    print(f\"Fold {fold}: R-squared score: {r2:.4f}, RMSE: {rmse:.4f}\")\n",
    "    fold_results_r2.append(r2)\n",
    "    fold_results_rmse.append(rmse)\n",
    "    \n",
    "# Calculate the mean and standard deviation of the fold results\n",
    "mean_r2 = np.mean(fold_results_r2)\n",
    "std_r2 = np.std(fold_results_r2)\n",
    "mean_rmse = np.mean(fold_results_rmse)\n",
    "std_rmse = np.std(fold_results_rmse)\n",
    "print(f\"Mean R-squared score: {mean_r2:.4f} +/- {std_r2:.4f}\")\n",
    "print(f\"Mean RMSE: {mean_rmse:.4f} +/- {std_rmse:.4f}\")\n",
    "\n",
    "# Split the data into training and testing sets\n",
    "train_df, test_df = train_test_split(df_model, test_size=0.2, shuffle=False)\n",
    "\n",
    "# Define target and input variables for training and testing sets\n",
    "x_train = train_df.drop('Gls', axis = 1)\n",
    "y_train = train_df['Gls'].to_numpy()\n",
    "x_test = test_df.drop('Gls', axis = 1)\n",
    "y_test = test_df['Gls'].to_numpy()\n",
    "\n",
    "# Fit model with optimized hyper-parameters on the training data\n",
    "lin_model = best_model.fit(x_train, y_train)\n",
    "\n",
    "# Use the trained model to make predictions on the testing set\n",
    "y_pred = lin_model.predict(x_test)\n",
    "\n",
    "# Calculate the Pearson correlation coefficient between the predicted and actual values of the target variable\n",
    "p = (pearsonr(y_pred, y_test))[0]\n",
    "print(f\"Pearson correlation coefficient: {p}\")\n",
    "print(\"----------------------------------------------------------------------\")"
   ]
  },
  {
   "cell_type": "markdown",
   "id": "2997b053",
   "metadata": {},
   "source": [
    "### Summary\n",
    "\n",
    "Before XGB Regressor Optimization <br>\n",
    "Mean R-squared: 0.4752 +/- 0.0336 <br>\n",
    "Mean RMSE: 0.2386 +/- 0.0091 <br>\n",
    "Pearson correlation coefficient: 0.7112663768296644 <br> <br>\n",
    "\n",
    "Linear Regressor Optimization <br>\n",
    "Mean R-squared score: 0.5019 +/- 0.0131 <br>\n",
    "Mean RMSE: 0.2326 +/- 0.0039 <br>\n",
    "Pearson correlation coefficient: 0.7121<br> <br>\n",
    "\n",
    "After XGB Regressor Optimization <br>\n",
    "Mean R-squared score: 0.5174 +/- 0.0162 <br>\n",
    "Mean RMSE: 0.2289 +/- 0.0053 <br>\n",
    "Pearson correlation coefficient: 0.728322322418983 <br> \n",
    "\n",
    "Our XGB Regressor model has shown notably better performance in comparison to the unoptimized XGB Regressor model and the linear model after applying optimization techniques."
   ]
  },
  {
   "cell_type": "markdown",
   "id": "cc0d1f20",
   "metadata": {},
   "source": [
    "## 4.3. Conclusion\n",
    "\n",
    "The model that includes all the inputs outperforms the xG alone model in terms of R-squared, RMSE, and correlation coefficient. Furthermore, our optimized XGB Regressor model outperforms the unoptimized XGB Regressor and linear models. Overall, these findings suggest that incorporating additional features and using a more complex model than linear regression can lead to more accurate predictions of future goals."
   ]
  },
  {
   "cell_type": "markdown",
   "id": "a8634ac6",
   "metadata": {},
   "source": [
    "###  Next Steps - Feature Engineering\n",
    "- Team Stats - capture more information about chances each team's creating\n",
    "- Time of Year \n",
    "- Recent performance/form for each player/team in offense/defense\n",
    "- Travel time for away games \n",
    "- Game congestion impact\n",
    "\n",
    "Check impact of inputs above on model performance"
   ]
  },
  {
   "cell_type": "code",
   "execution_count": null,
   "id": "a1c9fb18",
   "metadata": {},
   "outputs": [],
   "source": []
  }
 ],
 "metadata": {
  "kernelspec": {
   "display_name": "Python 3 (ipykernel)",
   "language": "python",
   "name": "python3"
  },
  "language_info": {
   "codemirror_mode": {
    "name": "ipython",
    "version": 3
   },
   "file_extension": ".py",
   "mimetype": "text/x-python",
   "name": "python",
   "nbconvert_exporter": "python",
   "pygments_lexer": "ipython3",
   "version": "3.9.12"
  }
 },
 "nbformat": 4,
 "nbformat_minor": 5
}
