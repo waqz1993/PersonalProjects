{
 "cells": [
  {
   "cell_type": "markdown",
   "metadata": {},
   "source": [
    "**Import Libraries**"
   ]
  },
  {
   "cell_type": "code",
   "execution_count": 1,
   "metadata": {
    "execution": {
     "iopub.execute_input": "2023-03-23T10:37:09.121701Z",
     "iopub.status.busy": "2023-03-23T10:37:09.121419Z",
     "iopub.status.idle": "2023-03-23T10:37:21.049825Z",
     "shell.execute_reply": "2023-03-23T10:37:21.048589Z",
     "shell.execute_reply.started": "2023-03-23T10:37:09.121674Z"
    }
   },
   "outputs": [],
   "source": [
    "import torch\n",
    "from transformers import AutoTokenizer, AutoModelForSequenceClassification\n",
    "from datasets import load_dataset, Dataset\n",
    "from sklearn.metrics import classification_report\n",
    "import pandas as pd\n"
   ]
  },
  {
   "cell_type": "markdown",
   "metadata": {},
   "source": [
    "**Import Data**"
   ]
  },
  {
   "cell_type": "code",
   "execution_count": 2,
   "metadata": {
    "execution": {
     "iopub.execute_input": "2023-03-23T10:37:21.059114Z",
     "iopub.status.busy": "2023-03-23T10:37:21.056184Z",
     "iopub.status.idle": "2023-03-23T10:37:21.149483Z",
     "shell.execute_reply": "2023-03-23T10:37:21.148405Z",
     "shell.execute_reply.started": "2023-03-23T10:37:21.059073Z"
    }
   },
   "outputs": [],
   "source": [
    "FiQA_FinancialPhrasebank = pd.read_csv(\"/kaggle/input/sentimentfinancial/fiqaFinancialPhrasebank.csv\") \n",
    "Twitter_Sentiment = pd.read_csv(\"/kaggle/input/sentimentfinancial/twitter_financial_news_sentiment.csv\") \n"
   ]
  },
  {
   "cell_type": "markdown",
   "metadata": {},
   "source": [
    "**Class to Predict/Evaluate NLP Models**"
   ]
  },
  {
   "cell_type": "code",
   "execution_count": 3,
   "metadata": {
    "execution": {
     "iopub.execute_input": "2023-03-23T10:37:21.156942Z",
     "iopub.status.busy": "2023-03-23T10:37:21.154548Z",
     "iopub.status.idle": "2023-03-23T10:37:21.185580Z",
     "shell.execute_reply": "2023-03-23T10:37:21.184377Z",
     "shell.execute_reply.started": "2023-03-23T10:37:21.156903Z"
    }
   },
   "outputs": [],
   "source": [
    "class SentimentClassifier:\n",
    "    def __init__(self, model_name, dataset=None, sentiment_dict=None):\n",
    "        \"\"\"\n",
    "        Args:\n",
    "        - model_name: the name of the pre-trained language model to use\n",
    "        - dataset (optional): the dataframe the model will be used on\n",
    "        - sentiment_dict (optional): a dictionary mapping sentiment labels to integers\n",
    "        \"\"\"\n",
    "        self.tokenizer = AutoTokenizer.from_pretrained(model_name)\n",
    "        self.model = AutoModelForSequenceClassification.from_pretrained(model_name).to(torch.device(\"cuda\" if torch.cuda.is_available() else \"cpu\"))\n",
    "        self.sentiment_dict = sentiment_dict or {\"positive\": 1, \"neutral\": 0, \"negative\": -1}\n",
    "        self.reverse_sentiment_dict = {value: key for key, value in self.sentiment_dict.items()}\n",
    "        self.dataset = None\n",
    "        if dataset is not None:\n",
    "            self.dataset = self.preprocess(dataset.copy())\n",
    "\n",
    "    def preprocess(self, dataset):\n",
    "        \"\"\"\n",
    "        Preprocess the df by converting the sentiment labels to integers and converting to Hugging Face dataset.\n",
    "        \"\"\"\n",
    "        if self.dataset is None:\n",
    "            print(\"No dataset provided. Preprocessing cannot be performed.\")\n",
    "            return None\n",
    "        try:\n",
    "            dataset['Sentiment'] = dataset['Sentiment'].apply(lambda x: self.sentiment_dict[x])\n",
    "            dataset = Dataset.from_pandas(dataset)\n",
    "            return dataset\n",
    "        except:\n",
    "            print(\"Returning all 0's for sentiment labels.\")\n",
    "            dataset['Sentiment'] = 0\n",
    "            dataset = Dataset.from_pandas(dataset)\n",
    "            return dataset\n",
    "\n",
    "    def preprocess(self, dataset):\n",
    "        \"\"\"\n",
    "        Preprocess the df by converting the sentiment labels to integers and converting to Hugging Face dataset.\n",
    "        \"\"\"\n",
    "        try:\n",
    "            dataset['Sentiment'] = dataset['Sentiment'].apply(lambda x: self.sentiment_dict[x])\n",
    "            dataset = Dataset.from_pandas(dataset)\n",
    "            return dataset\n",
    "        except:\n",
    "            print(\"Returning all 0's for sentiment labels.\")\n",
    "            dataset['Sentiment'] = 0\n",
    "            dataset = Dataset.from_pandas(dataset)\n",
    "            return dataset\n",
    "\n",
    "    def predict(self, texts, batch_size=None):\n",
    "        \"\"\"\n",
    "        Apply tokenizer and predict the sentiment label.\n",
    "        \"\"\"\n",
    "        if batch_size is None:\n",
    "            # Predict all texts at once if batch size is not provided\n",
    "            encoded_texts = self.tokenizer(texts, padding=True, truncation=True, max_length=32, return_tensors=\"pt\")\n",
    "            encoded_texts = encoded_texts.to(torch.device(\"cuda\" if torch.cuda.is_available() else \"cpu\"))\n",
    "            outputs = self.model(**encoded_texts)\n",
    "            predicted_labels = torch.argmax(outputs.logits, dim=1)\n",
    "            return predicted_labels.tolist()\n",
    "        else:\n",
    "            # Predict texts in batches of given size\n",
    "            predicted_labels = []\n",
    "            num_batches = len(texts) // batch_size + int(len(texts) % batch_size > 0)\n",
    "            for i in range(num_batches):\n",
    "                start_idx = i * batch_size\n",
    "                end_idx = min((i + 1) * batch_size, len(texts))\n",
    "                batch = texts[start_idx:end_idx]\n",
    "                encoded_texts = self.tokenizer(batch, padding=True, truncation=True, max_length=32, return_tensors=\"pt\")\n",
    "                encoded_texts = encoded_texts.to(torch.device(\"cuda\" if torch.cuda.is_available() else \"cpu\"))\n",
    "                outputs = self.model(**encoded_texts)\n",
    "                batch_predicted_labels = torch.argmax(outputs.logits, dim=1).tolist()\n",
    "                predicted_labels.extend(batch_predicted_labels)\n",
    "            return predicted_labels\n",
    "\n",
    "    def evaluate(self):\n",
    "        \"\"\"\n",
    "        Evaluate the performance of the sentiment classifier using a classification report. Had to batch due to GPU memory limitations. \n",
    "        \"\"\"\n",
    "        batch_size = 32\n",
    "        true_labels = []\n",
    "        predicted_labels = []\n",
    "\n",
    "        for i in range(0, len(self.dataset), batch_size):\n",
    "            batch = self.dataset[i:i+batch_size]\n",
    "            texts = batch[\"Sentence\"]\n",
    "            labels = batch[\"Sentiment\"]\n",
    "            batch_predicted_labels = self.predict(texts)\n",
    "            true_labels.extend(labels)\n",
    "            predicted_labels.extend(batch_predicted_labels)\n",
    "    \n",
    "        true_labels = [self.reverse_sentiment_dict[label] for label in true_labels] # mapping integer back to sentiment labels\n",
    "        predicted_labels = [self.reverse_sentiment_dict[label] for label in predicted_labels] # mapping integer back to sentiment labels\n",
    "        report = classification_report(true_labels, predicted_labels)\n",
    "        return report\n"
   ]
  },
  {
   "cell_type": "markdown",
   "metadata": {},
   "source": [
    "**Evaluate Performance of Financial NLP Sentiment Models**"
   ]
  },
  {
   "cell_type": "code",
   "execution_count": 4,
   "metadata": {
    "execution": {
     "iopub.execute_input": "2023-03-23T10:37:21.194922Z",
     "iopub.status.busy": "2023-03-23T10:37:21.192263Z",
     "iopub.status.idle": "2023-03-23T10:39:10.558065Z",
     "shell.execute_reply": "2023-03-23T10:39:10.556732Z",
     "shell.execute_reply.started": "2023-03-23T10:37:21.194883Z"
    }
   },
   "outputs": [
    {
     "data": {
      "application/vnd.jupyter.widget-view+json": {
       "model_id": "1a05b0e3504b48c3bc5042529664a4c2",
       "version_major": 2,
       "version_minor": 0
      },
      "text/plain": [
       "Downloading (…)okenizer_config.json:   0%|          | 0.00/435 [00:00<?, ?B/s]"
      ]
     },
     "metadata": {},
     "output_type": "display_data"
    },
    {
     "data": {
      "application/vnd.jupyter.widget-view+json": {
       "model_id": "2eb46c1fca444cfab55c57001dff884b",
       "version_major": 2,
       "version_minor": 0
      },
      "text/plain": [
       "Downloading (…)solve/main/vocab.txt:   0%|          | 0.00/226k [00:00<?, ?B/s]"
      ]
     },
     "metadata": {},
     "output_type": "display_data"
    },
    {
     "data": {
      "application/vnd.jupyter.widget-view+json": {
       "model_id": "914a085bd01a42d2890cc364c408d173",
       "version_major": 2,
       "version_minor": 0
      },
      "text/plain": [
       "Downloading (…)/main/tokenizer.json:   0%|          | 0.00/712k [00:00<?, ?B/s]"
      ]
     },
     "metadata": {},
     "output_type": "display_data"
    },
    {
     "data": {
      "application/vnd.jupyter.widget-view+json": {
       "model_id": "49d691b2902c4f079fd576ee9ec28395",
       "version_major": 2,
       "version_minor": 0
      },
      "text/plain": [
       "Downloading (…)cial_tokens_map.json:   0%|          | 0.00/125 [00:00<?, ?B/s]"
      ]
     },
     "metadata": {},
     "output_type": "display_data"
    },
    {
     "data": {
      "application/vnd.jupyter.widget-view+json": {
       "model_id": "0f4d07c0efdf42448295c3619c634159",
       "version_major": 2,
       "version_minor": 0
      },
      "text/plain": [
       "Downloading (…)lve/main/config.json:   0%|          | 0.00/853 [00:00<?, ?B/s]"
      ]
     },
     "metadata": {},
     "output_type": "display_data"
    },
    {
     "data": {
      "application/vnd.jupyter.widget-view+json": {
       "model_id": "293165b2bbb2442797cdae8aae6e1b8c",
       "version_major": 2,
       "version_minor": 0
      },
      "text/plain": [
       "Downloading (…)\"pytorch_model.bin\";:   0%|          | 0.00/439M [00:00<?, ?B/s]"
      ]
     },
     "metadata": {},
     "output_type": "display_data"
    },
    {
     "data": {
      "application/vnd.jupyter.widget-view+json": {
       "model_id": "f044e443866646ca8413842f35fbfafe",
       "version_major": 2,
       "version_minor": 0
      },
      "text/plain": [
       "Downloading (…)lve/main/config.json:   0%|          | 0.00/533 [00:00<?, ?B/s]"
      ]
     },
     "metadata": {},
     "output_type": "display_data"
    },
    {
     "data": {
      "application/vnd.jupyter.widget-view+json": {
       "model_id": "11d94c17df6544d0bf6e10746697f190",
       "version_major": 2,
       "version_minor": 0
      },
      "text/plain": [
       "Downloading (…)solve/main/vocab.txt:   0%|          | 0.00/226k [00:00<?, ?B/s]"
      ]
     },
     "metadata": {},
     "output_type": "display_data"
    },
    {
     "data": {
      "application/vnd.jupyter.widget-view+json": {
       "model_id": "57e9d6a78b6245c8829355c15d9d1947",
       "version_major": 2,
       "version_minor": 0
      },
      "text/plain": [
       "Downloading (…)\"pytorch_model.bin\";:   0%|          | 0.00/439M [00:00<?, ?B/s]"
      ]
     },
     "metadata": {},
     "output_type": "display_data"
    },
    {
     "data": {
      "application/vnd.jupyter.widget-view+json": {
       "model_id": "ff9669ab0c78422c85ff06e4eeace536",
       "version_major": 2,
       "version_minor": 0
      },
      "text/plain": [
       "Downloading (…)okenizer_config.json:   0%|          | 0.00/369 [00:00<?, ?B/s]"
      ]
     },
     "metadata": {},
     "output_type": "display_data"
    },
    {
     "data": {
      "application/vnd.jupyter.widget-view+json": {
       "model_id": "cdf640d46b63420494804f15a20fc904",
       "version_major": 2,
       "version_minor": 0
      },
      "text/plain": [
       "Downloading (…)solve/main/vocab.txt:   0%|          | 0.00/226k [00:00<?, ?B/s]"
      ]
     },
     "metadata": {},
     "output_type": "display_data"
    },
    {
     "data": {
      "application/vnd.jupyter.widget-view+json": {
       "model_id": "73fa56284be949e1a647d73d1fef4262",
       "version_major": 2,
       "version_minor": 0
      },
      "text/plain": [
       "Downloading (…)/main/tokenizer.json:   0%|          | 0.00/464k [00:00<?, ?B/s]"
      ]
     },
     "metadata": {},
     "output_type": "display_data"
    },
    {
     "data": {
      "application/vnd.jupyter.widget-view+json": {
       "model_id": "af5ef00826e74a0dac47ae4e2d60be44",
       "version_major": 2,
       "version_minor": 0
      },
      "text/plain": [
       "Downloading (…)cial_tokens_map.json:   0%|          | 0.00/112 [00:00<?, ?B/s]"
      ]
     },
     "metadata": {},
     "output_type": "display_data"
    },
    {
     "data": {
      "application/vnd.jupyter.widget-view+json": {
       "model_id": "6054b11a4ca84045926b4136cc8d4e9b",
       "version_major": 2,
       "version_minor": 0
      },
      "text/plain": [
       "Downloading (…)lve/main/config.json:   0%|          | 0.00/789 [00:00<?, ?B/s]"
      ]
     },
     "metadata": {},
     "output_type": "display_data"
    },
    {
     "data": {
      "application/vnd.jupyter.widget-view+json": {
       "model_id": "0c9b0a6ef273494082fc4fd80358e029",
       "version_major": 2,
       "version_minor": 0
      },
      "text/plain": [
       "Downloading (…)\"pytorch_model.bin\";:   0%|          | 0.00/439M [00:00<?, ?B/s]"
      ]
     },
     "metadata": {},
     "output_type": "display_data"
    }
   ],
   "source": [
    "models = [{\"model_path\": \"nickmuchi/finbert-tone-finetuned-fintwitter-classification\", \"sentiment_dict\": {\"negative\": 0, \"positive\": 1, \"neutral\": 2}},\n",
    "          {\"model_path\": \"yiyanghkust/finbert-tone\", \"sentiment_dict\": {\"neutral\": 0, \"positive\": 1, \"negative\": 2}},    \n",
    "          {\"model_path\": \"ahmedrachid/FinancialBERT-Sentiment-Analysis\", \"sentiment_dict\": {\"negative\": 0, \"neutral\": 1, \"positive\": 2}}]\n",
    "\n",
    "reports_FiQA_FinancialPhraseBank = []\n",
    "reports_Twitter_Sentiment = []\n",
    "\n",
    "for model in models:\n",
    "    classifier = SentimentClassifier(model_name=model[\"model_path\"], dataset=FiQA_FinancialPhrasebank, sentiment_dict=model[\"sentiment_dict\"])\n",
    "    report = classifier.evaluate()\n",
    "    reports_FiQA_FinancialPhraseBank.append(report)\n",
    "\n",
    "    classifier = SentimentClassifier(model_name=model[\"model_path\"], dataset=Twitter_Sentiment, sentiment_dict=model[\"sentiment_dict\"])\n",
    "    report = classifier.evaluate()\n",
    "    reports_Twitter_Sentiment.append(report)\n",
    "\n",
    "combined_reports = {\"FiQA_FinancialPhraseBank\": reports_FiQA_FinancialPhraseBank, \"Twitter_Sentiment\": reports_Twitter_Sentiment}\n"
   ]
  },
  {
   "cell_type": "code",
   "execution_count": 5,
   "metadata": {
    "execution": {
     "iopub.execute_input": "2023-03-23T10:39:10.559946Z",
     "iopub.status.busy": "2023-03-23T10:39:10.559580Z",
     "iopub.status.idle": "2023-03-23T10:39:10.566947Z",
     "shell.execute_reply": "2023-03-23T10:39:10.565576Z",
     "shell.execute_reply.started": "2023-03-23T10:39:10.559905Z"
    }
   },
   "outputs": [
    {
     "name": "stdout",
     "output_type": "stream",
     "text": [
      "Dataset: FiQA_FinancialPhraseBank\n",
      "Model 1:\n",
      "              precision    recall  f1-score   support\n",
      "\n",
      "    negative       0.53      0.67      0.59       860\n",
      "     neutral       0.70      0.84      0.76      3130\n",
      "    positive       0.89      0.49      0.63      1852\n",
      "\n",
      "    accuracy                           0.70      5842\n",
      "   macro avg       0.71      0.67      0.66      5842\n",
      "weighted avg       0.74      0.70      0.70      5842\n",
      "\n",
      "Model 2:\n",
      "              precision    recall  f1-score   support\n",
      "\n",
      "    negative       0.51      0.58      0.54       860\n",
      "     neutral       0.68      0.83      0.75      3130\n",
      "    positive       0.87      0.49      0.63      1852\n",
      "\n",
      "    accuracy                           0.69      5842\n",
      "   macro avg       0.69      0.63      0.64      5842\n",
      "weighted avg       0.72      0.69      0.68      5842\n",
      "\n",
      "Model 3:\n",
      "              precision    recall  f1-score   support\n",
      "\n",
      "    negative       0.53      0.64      0.58       860\n",
      "     neutral       0.76      0.81      0.78      3130\n",
      "    positive       0.88      0.70      0.78      1852\n",
      "\n",
      "    accuracy                           0.75      5842\n",
      "   macro avg       0.73      0.72      0.72      5842\n",
      "weighted avg       0.77      0.75      0.75      5842\n",
      "\n",
      "Dataset: Twitter_Sentiment\n",
      "Model 1:\n",
      "              precision    recall  f1-score   support\n",
      "\n",
      "    negative       0.80      0.85      0.83      1789\n",
      "     neutral       0.94      0.94      0.94      7744\n",
      "    positive       0.89      0.86      0.88      2398\n",
      "\n",
      "    accuracy                           0.91     11931\n",
      "   macro avg       0.88      0.88      0.88     11931\n",
      "weighted avg       0.91      0.91      0.91     11931\n",
      "\n",
      "Model 2:\n",
      "              precision    recall  f1-score   support\n",
      "\n",
      "    negative       0.58      0.51      0.54      1789\n",
      "     neutral       0.79      0.85      0.82      7744\n",
      "    positive       0.66      0.56      0.61      2398\n",
      "\n",
      "    accuracy                           0.74     11931\n",
      "   macro avg       0.68      0.64      0.66     11931\n",
      "weighted avg       0.73      0.74      0.73     11931\n",
      "\n",
      "Model 3:\n",
      "              precision    recall  f1-score   support\n",
      "\n",
      "    negative       0.68      0.39      0.50      1789\n",
      "     neutral       0.77      0.89      0.83      7744\n",
      "    positive       0.64      0.53      0.58      2398\n",
      "\n",
      "    accuracy                           0.74     11931\n",
      "   macro avg       0.70      0.60      0.64     11931\n",
      "weighted avg       0.73      0.74      0.73     11931\n",
      "\n"
     ]
    }
   ],
   "source": [
    "for dataset, reports in combined_reports.items():\n",
    "    print(f\"Dataset: {dataset}\")\n",
    "    for i, report in enumerate(reports):\n",
    "        print(f\"Model {i + 1}:\\n{report}\")\n",
    "        "
   ]
  },
  {
   "cell_type": "markdown",
   "metadata": {},
   "source": [
    "Model 3 has demonstrated the most promising level of generalizability and will therefore be selected as the preferred model for future use. It is important to acknowledge that while Model 1 performs exceptionally well on the Twitter_Sentiment dataset, this can likely be attributed to its pre-training on very similar data, resulting in potential overfitting. This is evidenced by the notably lower performance on the FiQA_FinancialPhrasebank dataset."
   ]
  },
  {
   "cell_type": "markdown",
   "metadata": {},
   "source": [
    "**Import Scraped Twitter Data from Major Source Outlets**"
   ]
  },
  {
   "cell_type": "code",
   "execution_count": 6,
   "metadata": {
    "execution": {
     "iopub.execute_input": "2023-03-23T10:39:10.569381Z",
     "iopub.status.busy": "2023-03-23T10:39:10.568766Z",
     "iopub.status.idle": "2023-03-23T10:39:11.161788Z",
     "shell.execute_reply": "2023-03-23T10:39:11.160845Z",
     "shell.execute_reply.started": "2023-03-23T10:39:10.569344Z"
    }
   },
   "outputs": [
    {
     "data": {
      "text/html": [
       "<div>\n",
       "<style scoped>\n",
       "    .dataframe tbody tr th:only-of-type {\n",
       "        vertical-align: middle;\n",
       "    }\n",
       "\n",
       "    .dataframe tbody tr th {\n",
       "        vertical-align: top;\n",
       "    }\n",
       "\n",
       "    .dataframe thead th {\n",
       "        text-align: right;\n",
       "    }\n",
       "</style>\n",
       "<table border=\"1\" class=\"dataframe\">\n",
       "  <thead>\n",
       "    <tr style=\"text-align: right;\">\n",
       "      <th></th>\n",
       "      <th>content</th>\n",
       "      <th>date</th>\n",
       "      <th>username</th>\n",
       "      <th>sector</th>\n",
       "    </tr>\n",
       "  </thead>\n",
       "  <tbody>\n",
       "    <tr>\n",
       "      <th>0</th>\n",
       "      <td>Indonesia, the world’s biggest palm oil produc...</td>\n",
       "      <td>2022-12-29</td>\n",
       "      <td>BNCommodities</td>\n",
       "      <td>Commodities</td>\n",
       "    </tr>\n",
       "    <tr>\n",
       "      <th>1</th>\n",
       "      <td>Exxon is suing the European Union in a push to...</td>\n",
       "      <td>2022-12-28</td>\n",
       "      <td>BNCommodities</td>\n",
       "      <td>Commodities</td>\n",
       "    </tr>\n",
       "    <tr>\n",
       "      <th>2</th>\n",
       "      <td>The states hit hardest by blackouts in last we...</td>\n",
       "      <td>2022-12-28</td>\n",
       "      <td>BNCommodities</td>\n",
       "      <td>Commodities</td>\n",
       "    </tr>\n",
       "    <tr>\n",
       "      <th>3</th>\n",
       "      <td>China broke ground on an 80 billion yuan ($11 ...</td>\n",
       "      <td>2022-12-28</td>\n",
       "      <td>BNCommodities</td>\n",
       "      <td>Commodities</td>\n",
       "    </tr>\n",
       "    <tr>\n",
       "      <th>4</th>\n",
       "      <td>Lithium’s going to get less expensive in 2023,...</td>\n",
       "      <td>2022-12-28</td>\n",
       "      <td>BNCommodities</td>\n",
       "      <td>Commodities</td>\n",
       "    </tr>\n",
       "  </tbody>\n",
       "</table>\n",
       "</div>"
      ],
      "text/plain": [
       "                                             content        date  \\\n",
       "0  Indonesia, the world’s biggest palm oil produc...  2022-12-29   \n",
       "1  Exxon is suing the European Union in a push to...  2022-12-28   \n",
       "2  The states hit hardest by blackouts in last we...  2022-12-28   \n",
       "3  China broke ground on an 80 billion yuan ($11 ...  2022-12-28   \n",
       "4  Lithium’s going to get less expensive in 2023,...  2022-12-28   \n",
       "\n",
       "        username       sector  \n",
       "0  BNCommodities  Commodities  \n",
       "1  BNCommodities  Commodities  \n",
       "2  BNCommodities  Commodities  \n",
       "3  BNCommodities  Commodities  \n",
       "4  BNCommodities  Commodities  "
      ]
     },
     "execution_count": 6,
     "metadata": {},
     "output_type": "execute_result"
    }
   ],
   "source": [
    "twitter_df = pd.read_csv(\"/kaggle/input/twitter/Twitter_Data.csv\") #scraped twitter df for model to predict on\n",
    "twitter_df.head(5)\n"
   ]
  },
  {
   "cell_type": "markdown",
   "metadata": {},
   "source": [
    "**Predict Sentiment on Scraped Twitter Data**"
   ]
  },
  {
   "cell_type": "code",
   "execution_count": 7,
   "metadata": {
    "execution": {
     "iopub.execute_input": "2023-03-23T10:39:11.163663Z",
     "iopub.status.busy": "2023-03-23T10:39:11.163256Z",
     "iopub.status.idle": "2023-03-23T10:41:24.267492Z",
     "shell.execute_reply": "2023-03-23T10:41:24.266452Z",
     "shell.execute_reply.started": "2023-03-23T10:39:11.163624Z"
    }
   },
   "outputs": [
    {
     "data": {
      "text/html": [
       "<div>\n",
       "<style scoped>\n",
       "    .dataframe tbody tr th:only-of-type {\n",
       "        vertical-align: middle;\n",
       "    }\n",
       "\n",
       "    .dataframe tbody tr th {\n",
       "        vertical-align: top;\n",
       "    }\n",
       "\n",
       "    .dataframe thead th {\n",
       "        text-align: right;\n",
       "    }\n",
       "</style>\n",
       "<table border=\"1\" class=\"dataframe\">\n",
       "  <thead>\n",
       "    <tr style=\"text-align: right;\">\n",
       "      <th></th>\n",
       "      <th>content</th>\n",
       "      <th>date</th>\n",
       "      <th>username</th>\n",
       "      <th>sector</th>\n",
       "      <th>Sentiment</th>\n",
       "    </tr>\n",
       "  </thead>\n",
       "  <tbody>\n",
       "    <tr>\n",
       "      <th>0</th>\n",
       "      <td>Indonesia, the world’s biggest palm oil produc...</td>\n",
       "      <td>2022-12-29</td>\n",
       "      <td>BNCommodities</td>\n",
       "      <td>Commodities</td>\n",
       "      <td>2</td>\n",
       "    </tr>\n",
       "    <tr>\n",
       "      <th>1</th>\n",
       "      <td>Exxon is suing the European Union in a push to...</td>\n",
       "      <td>2022-12-28</td>\n",
       "      <td>BNCommodities</td>\n",
       "      <td>Commodities</td>\n",
       "      <td>1</td>\n",
       "    </tr>\n",
       "    <tr>\n",
       "      <th>2</th>\n",
       "      <td>The states hit hardest by blackouts in last we...</td>\n",
       "      <td>2022-12-28</td>\n",
       "      <td>BNCommodities</td>\n",
       "      <td>Commodities</td>\n",
       "      <td>0</td>\n",
       "    </tr>\n",
       "    <tr>\n",
       "      <th>3</th>\n",
       "      <td>China broke ground on an 80 billion yuan ($11 ...</td>\n",
       "      <td>2022-12-28</td>\n",
       "      <td>BNCommodities</td>\n",
       "      <td>Commodities</td>\n",
       "      <td>2</td>\n",
       "    </tr>\n",
       "    <tr>\n",
       "      <th>4</th>\n",
       "      <td>Lithium’s going to get less expensive in 2023,...</td>\n",
       "      <td>2022-12-28</td>\n",
       "      <td>BNCommodities</td>\n",
       "      <td>Commodities</td>\n",
       "      <td>1</td>\n",
       "    </tr>\n",
       "  </tbody>\n",
       "</table>\n",
       "</div>"
      ],
      "text/plain": [
       "                                             content        date  \\\n",
       "0  Indonesia, the world’s biggest palm oil produc...  2022-12-29   \n",
       "1  Exxon is suing the European Union in a push to...  2022-12-28   \n",
       "2  The states hit hardest by blackouts in last we...  2022-12-28   \n",
       "3  China broke ground on an 80 billion yuan ($11 ...  2022-12-28   \n",
       "4  Lithium’s going to get less expensive in 2023,...  2022-12-28   \n",
       "\n",
       "        username       sector  Sentiment  \n",
       "0  BNCommodities  Commodities          2  \n",
       "1  BNCommodities  Commodities          1  \n",
       "2  BNCommodities  Commodities          0  \n",
       "3  BNCommodities  Commodities          2  \n",
       "4  BNCommodities  Commodities          1  "
      ]
     },
     "execution_count": 7,
     "metadata": {},
     "output_type": "execute_result"
    }
   ],
   "source": [
    "classifier = SentimentClassifier(\"ahmedrachid/FinancialBERT-Sentiment-Analysis\")\n",
    "texts = twitter_df['content'].to_list()\n",
    "batch_size = 256\n",
    "predicted_labels = classifier.predict(texts=texts, batch_size=batch_size)\n",
    "twitter_df['Sentiment'] = predicted_labels\n",
    "\n",
    "twitter_df.head()\n"
   ]
  },
  {
   "cell_type": "markdown",
   "metadata": {},
   "source": [
    "**Apply Sentiment Mapping (Numerical to Labels)**"
   ]
  },
  {
   "cell_type": "code",
   "execution_count": 9,
   "metadata": {
    "execution": {
     "iopub.execute_input": "2023-03-23T10:42:02.299132Z",
     "iopub.status.busy": "2023-03-23T10:42:02.298696Z",
     "iopub.status.idle": "2023-03-23T10:42:02.343048Z",
     "shell.execute_reply": "2023-03-23T10:42:02.341977Z",
     "shell.execute_reply.started": "2023-03-23T10:42:02.299089Z"
    }
   },
   "outputs": [
    {
     "data": {
      "text/html": [
       "<div>\n",
       "<style scoped>\n",
       "    .dataframe tbody tr th:only-of-type {\n",
       "        vertical-align: middle;\n",
       "    }\n",
       "\n",
       "    .dataframe tbody tr th {\n",
       "        vertical-align: top;\n",
       "    }\n",
       "\n",
       "    .dataframe thead th {\n",
       "        text-align: right;\n",
       "    }\n",
       "</style>\n",
       "<table border=\"1\" class=\"dataframe\">\n",
       "  <thead>\n",
       "    <tr style=\"text-align: right;\">\n",
       "      <th></th>\n",
       "      <th>content</th>\n",
       "      <th>date</th>\n",
       "      <th>username</th>\n",
       "      <th>sector</th>\n",
       "      <th>Sentiment</th>\n",
       "    </tr>\n",
       "  </thead>\n",
       "  <tbody>\n",
       "    <tr>\n",
       "      <th>0</th>\n",
       "      <td>Indonesia, the world’s biggest palm oil produc...</td>\n",
       "      <td>2022-12-29</td>\n",
       "      <td>BNCommodities</td>\n",
       "      <td>Commodities</td>\n",
       "      <td>positive</td>\n",
       "    </tr>\n",
       "    <tr>\n",
       "      <th>1</th>\n",
       "      <td>Exxon is suing the European Union in a push to...</td>\n",
       "      <td>2022-12-28</td>\n",
       "      <td>BNCommodities</td>\n",
       "      <td>Commodities</td>\n",
       "      <td>neutral</td>\n",
       "    </tr>\n",
       "    <tr>\n",
       "      <th>2</th>\n",
       "      <td>The states hit hardest by blackouts in last we...</td>\n",
       "      <td>2022-12-28</td>\n",
       "      <td>BNCommodities</td>\n",
       "      <td>Commodities</td>\n",
       "      <td>negative</td>\n",
       "    </tr>\n",
       "    <tr>\n",
       "      <th>3</th>\n",
       "      <td>China broke ground on an 80 billion yuan ($11 ...</td>\n",
       "      <td>2022-12-28</td>\n",
       "      <td>BNCommodities</td>\n",
       "      <td>Commodities</td>\n",
       "      <td>positive</td>\n",
       "    </tr>\n",
       "    <tr>\n",
       "      <th>4</th>\n",
       "      <td>Lithium’s going to get less expensive in 2023,...</td>\n",
       "      <td>2022-12-28</td>\n",
       "      <td>BNCommodities</td>\n",
       "      <td>Commodities</td>\n",
       "      <td>neutral</td>\n",
       "    </tr>\n",
       "  </tbody>\n",
       "</table>\n",
       "</div>"
      ],
      "text/plain": [
       "                                             content        date  \\\n",
       "0  Indonesia, the world’s biggest palm oil produc...  2022-12-29   \n",
       "1  Exxon is suing the European Union in a push to...  2022-12-28   \n",
       "2  The states hit hardest by blackouts in last we...  2022-12-28   \n",
       "3  China broke ground on an 80 billion yuan ($11 ...  2022-12-28   \n",
       "4  Lithium’s going to get less expensive in 2023,...  2022-12-28   \n",
       "\n",
       "        username       sector Sentiment  \n",
       "0  BNCommodities  Commodities  positive  \n",
       "1  BNCommodities  Commodities   neutral  \n",
       "2  BNCommodities  Commodities  negative  \n",
       "3  BNCommodities  Commodities  positive  \n",
       "4  BNCommodities  Commodities   neutral  "
      ]
     },
     "execution_count": 9,
     "metadata": {},
     "output_type": "execute_result"
    }
   ],
   "source": [
    "sentiment_dict = {0: \"negative\", 1: \"neutral\", 2: \"positive\"}\n",
    "twitter_df['Sentiment'] = twitter_df['Sentiment'].map(sentiment_dict)\n",
    "twitter_df.head()\n"
   ]
  },
  {
   "cell_type": "markdown",
   "metadata": {},
   "source": [
    "**Save as CSV for EDA**"
   ]
  },
  {
   "cell_type": "code",
   "execution_count": 10,
   "metadata": {
    "execution": {
     "iopub.execute_input": "2023-03-23T10:42:07.695417Z",
     "iopub.status.busy": "2023-03-23T10:42:07.694296Z",
     "iopub.status.idle": "2023-03-23T10:42:08.219359Z",
     "shell.execute_reply": "2023-03-23T10:42:08.218363Z",
     "shell.execute_reply.started": "2023-03-23T10:42:07.695365Z"
    }
   },
   "outputs": [],
   "source": [
    "twitter_df.to_csv('twitter_data.csv', index=False)\n"
   ]
  }
 ],
 "metadata": {
  "kernelspec": {
   "display_name": "Python 3 (ipykernel)",
   "language": "python",
   "name": "python3"
  },
  "language_info": {
   "codemirror_mode": {
    "name": "ipython",
    "version": 3
   },
   "file_extension": ".py",
   "mimetype": "text/x-python",
   "name": "python",
   "nbconvert_exporter": "python",
   "pygments_lexer": "ipython3",
   "version": "3.9.12"
  }
 },
 "nbformat": 4,
 "nbformat_minor": 4
}
