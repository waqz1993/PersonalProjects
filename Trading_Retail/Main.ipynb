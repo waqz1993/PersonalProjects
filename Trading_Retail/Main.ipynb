{
 "cells": [
  {
   "cell_type": "markdown",
   "id": "ae99654f",
   "metadata": {},
   "source": [
    "# Contents\n",
    "1. Introduction <br>\n",
    "    1.1. Import Libraries<br>\n",
    "    1.2. Gaussian Distribution: Visual vs Statistical Tests Discussion <br>\n",
    "    \n",
    "    \n",
    "2. Gathering and Cleaning Data <br> \n",
    "    2.1. Check Data <br>\n",
    "    2.2. Data Cleaning <br>\n",
    "    \n",
    "    \n",
    "3. Normalizing and Categorizing Data <br>\n",
    "    3.1. Average Daily Range <br>\n",
    "    3.2. Average Daily Range Distribution <br>\n",
    "    3.3. Normalizing Distribution <br>\n",
    "    3.4. Category Boundaries: Z-score vs Visual Interperatation Discussion <br>\n",
    "    3.5. Average Daily Range: Category Boundaries  <br>\n",
    "    3.6. Price Change and Sentiment Change  <br>\n",
    "    3.7. Price and Sentiment Change Distributions <br>\n",
    "    3.8. Confirming Normality via Z-score Percentiles <br>\n",
    "    \n",
    "    \n",
    "4. Parametric vs Non-Parametric Correlation (Pearson, Spearman, Kendall-Tau) <br>\n",
    "    4.1. Pearson's Assumptions <br>\n",
    "\n",
    "\n",
    "5. Statistical Testing  <br>\n",
    "    5.1. Correlation: Sentiment and Price Change <br>\n",
    "    5.2. Correlation: Sentiment and Next Day Price Change <br>\n",
    "    \n",
    "    \n",
    "6. Conclusion  <br>\n",
    "    6.1. Limitations <br>\n",
    "    6.2. Further Investigation <br>\n",
    "    \n",
    "    \n",
    "7. Sources <br>"
   ]
  },
  {
   "cell_type": "markdown",
   "id": "255a406e",
   "metadata": {},
   "source": [
    "# 1. Introduction\n",
    "\n",
    "Welcome to our retail sentiment kernel! We will be gathering financial data from Yahoo Finances and retail sentiment data from IG brokerage to investigate whether retail sentiment can serve as a lagging/leading indicator for price change in the currency pair Australian Dollar vs Japanese Yen (AUDJPY). "
   ]
  },
  {
   "cell_type": "markdown",
   "id": "1d69963a",
   "metadata": {},
   "source": [
    "## 1.1. Import Libraries"
   ]
  },
  {
   "cell_type": "code",
   "execution_count": 2,
   "id": "b4fc8dbb",
   "metadata": {},
   "outputs": [
    {
     "name": "stderr",
     "output_type": "stream",
     "text": [
      "C:\\Users\\waqas\\anaconda3\\lib\\site-packages\\scipy\\__init__.py:146: UserWarning:\n",
      "\n",
      "A NumPy version >=1.16.5 and <1.23.0 is required for this version of SciPy (detected version 1.24.1\n",
      "\n"
     ]
    }
   ],
   "source": [
    "import pandas as pd\n",
    "import numpy as np\n",
    "import matplotlib.pyplot as plt\n",
    "import plotly.offline as py\n",
    "import plotly.graph_objs as go\n",
    "import plotly.tools as tls \n",
    "from datetime import datetime\n",
    "import seaborn as sns\n",
    "from pandas.tseries.offsets import Week\n",
    "from scipy import stats\n",
    "import scipy.stats\n",
    "from scipy.stats import chi2_contingency\n",
    "from scipy.stats import levene \n",
    "import statsmodels.api as sm\n",
    "import warnings\n",
    "warnings.filterwarnings('ignore')"
   ]
  },
  {
   "cell_type": "markdown",
   "id": "93a5f5ca",
   "metadata": {},
   "source": [
    "## 1.2. Gaussian Distribution: Visual vs Statistical Tests Discussion\n",
    "\n",
    "Throughout this notebook we will be applying statistical tests that presume the data is gaussian/normally distributed. In order to ensure the integrity of these tests, we verify various datasets are normalized throughout.  \n",
    "\n",
    "Generally speaking, we have two ways of checking for normality - via statistical or visual tests. Throughout this notebook we \n",
    "will be using the latter; specifically histogram's and Q-Q plots. This is because statistical tests are too sensitive to the\n",
    "large sample sizes (N) used in this work (Ghasemi & Zahediasl, 2012).\n",
    "\n",
    "For statistical tests, as N increases, the degree of randomness impacting the sample will also increase, thus more deviation \n",
    "from a perfectly normalized distribrution. This effect in large sample sizes typically results in statistical tests being \n",
    "overly sensitive, thus rejecting normality in instances where normality, in practical terms, could otherwise be accepted \n",
    "(Ghasemi & Zahediasl, 2012). <br> \n",
    "\n",
    "Throughout our visual interperetations we will be discussing normality, kurtosis and skewedness in reference to histograms and QQ plot's. We will be discussing these more in-depth at the relevant stages but the images and links below serve as a good introduction to the topics;\n",
    "\n",
    "https://www.simplypsychology.org/kurtosis.html <br> \n",
    "https://towardsdatascience.com/q-q-plots-explained-5aa8495426c0 <br> \n",
    "https://www.learnbyexample.org/r-quantile-quantile-qq-plot-base-graph/ <br> "
   ]
  },
  {
   "cell_type": "markdown",
   "id": "07e7525d",
   "metadata": {},
   "source": [
    "<!-- <table><tr>\n",
    "<td> <img src=\"Kurtosis.jpg\" style=\"width: 400px; height:200px\"> <td>\n",
    "<td> <img src=\"Skew.jpg\" style=\"width: 400px; height:200px\"> <td> -->"
   ]
  },
  {
   "cell_type": "markdown",
   "id": "4b1ed134",
   "metadata": {},
   "source": [
    "<!-- <img src=\"QQ.jpg\" style=\"width: 400px; height:400px\"> -->"
   ]
  },
  {
   "cell_type": "markdown",
   "id": "357e04fb",
   "metadata": {},
   "source": [
    "# 2. Gathering and Cleaning Data \n",
    "\n",
    "We get price data from using a web-scraper on Yahoo Financials. The sentiment data was collected via an Excel-add on. The two sets were merged in Excel before beginning. "
   ]
  },
  {
   "cell_type": "markdown",
   "id": "6df8a418",
   "metadata": {},
   "source": [
    "## 2.1. Check Data "
   ]
  },
  {
   "cell_type": "code",
   "execution_count": 3,
   "id": "bfeff42d",
   "metadata": {},
   "outputs": [
    {
     "data": {
      "text/html": [
       "<div>\n",
       "<style scoped>\n",
       "    .dataframe tbody tr th:only-of-type {\n",
       "        vertical-align: middle;\n",
       "    }\n",
       "\n",
       "    .dataframe tbody tr th {\n",
       "        vertical-align: top;\n",
       "    }\n",
       "\n",
       "    .dataframe thead th {\n",
       "        text-align: right;\n",
       "    }\n",
       "</style>\n",
       "<table border=\"1\" class=\"dataframe\">\n",
       "  <thead>\n",
       "    <tr style=\"text-align: right;\">\n",
       "      <th></th>\n",
       "      <th>Date</th>\n",
       "      <th>Open</th>\n",
       "      <th>High</th>\n",
       "      <th>Low</th>\n",
       "      <th>Close</th>\n",
       "      <th>Adj Close</th>\n",
       "      <th>Volume</th>\n",
       "      <th>CloseLong</th>\n",
       "      <th>CloseShort</th>\n",
       "      <th>OpenLong</th>\n",
       "      <th>OpenShort</th>\n",
       "      <th>HighLong</th>\n",
       "      <th>HighShort</th>\n",
       "      <th>LowLong</th>\n",
       "      <th>LowShort</th>\n",
       "    </tr>\n",
       "  </thead>\n",
       "  <tbody>\n",
       "    <tr>\n",
       "      <th>849</th>\n",
       "      <td>20/10/2022</td>\n",
       "      <td>93.834000</td>\n",
       "      <td>95.129997</td>\n",
       "      <td>93.379997</td>\n",
       "      <td>93.834000</td>\n",
       "      <td>93.834000</td>\n",
       "      <td>0.0</td>\n",
       "      <td>39</td>\n",
       "      <td>61</td>\n",
       "      <td>38</td>\n",
       "      <td>62</td>\n",
       "      <td>40</td>\n",
       "      <td>67</td>\n",
       "      <td>33</td>\n",
       "      <td>60</td>\n",
       "    </tr>\n",
       "    <tr>\n",
       "      <th>850</th>\n",
       "      <td>21/10/2022</td>\n",
       "      <td>94.223000</td>\n",
       "      <td>95.723000</td>\n",
       "      <td>93.127998</td>\n",
       "      <td>94.223000</td>\n",
       "      <td>94.223000</td>\n",
       "      <td>0.0</td>\n",
       "      <td>35</td>\n",
       "      <td>65</td>\n",
       "      <td>39</td>\n",
       "      <td>61</td>\n",
       "      <td>45</td>\n",
       "      <td>67</td>\n",
       "      <td>33</td>\n",
       "      <td>55</td>\n",
       "    </tr>\n",
       "    <tr>\n",
       "      <th>851</th>\n",
       "      <td>23/10/2022</td>\n",
       "      <td>NaN</td>\n",
       "      <td>NaN</td>\n",
       "      <td>NaN</td>\n",
       "      <td>NaN</td>\n",
       "      <td>NaN</td>\n",
       "      <td>NaN</td>\n",
       "      <td>36</td>\n",
       "      <td>64</td>\n",
       "      <td>35</td>\n",
       "      <td>65</td>\n",
       "      <td>36</td>\n",
       "      <td>65</td>\n",
       "      <td>35</td>\n",
       "      <td>64</td>\n",
       "    </tr>\n",
       "    <tr>\n",
       "      <th>852</th>\n",
       "      <td>24/10/2022</td>\n",
       "      <td>94.180000</td>\n",
       "      <td>94.797997</td>\n",
       "      <td>93.595001</td>\n",
       "      <td>94.180000</td>\n",
       "      <td>94.180000</td>\n",
       "      <td>0.0</td>\n",
       "      <td>36</td>\n",
       "      <td>64</td>\n",
       "      <td>34</td>\n",
       "      <td>66</td>\n",
       "      <td>37</td>\n",
       "      <td>67</td>\n",
       "      <td>33</td>\n",
       "      <td>63</td>\n",
       "    </tr>\n",
       "    <tr>\n",
       "      <th>853</th>\n",
       "      <td>25/10/2022</td>\n",
       "      <td>94.234001</td>\n",
       "      <td>94.652000</td>\n",
       "      <td>93.876999</td>\n",
       "      <td>94.234001</td>\n",
       "      <td>94.234001</td>\n",
       "      <td>0.0</td>\n",
       "      <td>34</td>\n",
       "      <td>66</td>\n",
       "      <td>37</td>\n",
       "      <td>63</td>\n",
       "      <td>38</td>\n",
       "      <td>67</td>\n",
       "      <td>33</td>\n",
       "      <td>62</td>\n",
       "    </tr>\n",
       "  </tbody>\n",
       "</table>\n",
       "</div>"
      ],
      "text/plain": [
       "           Date       Open       High        Low      Close  Adj Close  \\\n",
       "849  20/10/2022  93.834000  95.129997  93.379997  93.834000  93.834000   \n",
       "850  21/10/2022  94.223000  95.723000  93.127998  94.223000  94.223000   \n",
       "851  23/10/2022        NaN        NaN        NaN        NaN        NaN   \n",
       "852  24/10/2022  94.180000  94.797997  93.595001  94.180000  94.180000   \n",
       "853  25/10/2022  94.234001  94.652000  93.876999  94.234001  94.234001   \n",
       "\n",
       "     Volume  CloseLong  CloseShort  OpenLong  OpenShort  HighLong  HighShort  \\\n",
       "849     0.0         39          61        38         62        40         67   \n",
       "850     0.0         35          65        39         61        45         67   \n",
       "851     NaN         36          64        35         65        36         65   \n",
       "852     0.0         36          64        34         66        37         67   \n",
       "853     0.0         34          66        37         63        38         67   \n",
       "\n",
       "     LowLong  LowShort  \n",
       "849       33        60  \n",
       "850       33        55  \n",
       "851       35        64  \n",
       "852       33        63  \n",
       "853       33        62  "
      ]
     },
     "execution_count": 3,
     "metadata": {},
     "output_type": "execute_result"
    }
   ],
   "source": [
    "df=pd.read_csv('AUDJPY.csv', encoding='latin1')\n",
    "df.tail()"
   ]
  },
  {
   "cell_type": "code",
   "execution_count": 4,
   "id": "08199506",
   "metadata": {},
   "outputs": [
    {
     "name": "stdout",
     "output_type": "stream",
     "text": [
      "<class 'pandas.core.frame.DataFrame'>\n",
      "RangeIndex: 854 entries, 0 to 853\n",
      "Data columns (total 15 columns):\n",
      " #   Column      Non-Null Count  Dtype  \n",
      "---  ------      --------------  -----  \n",
      " 0   Date        854 non-null    object \n",
      " 1   Open        712 non-null    float64\n",
      " 2   High        712 non-null    float64\n",
      " 3   Low         712 non-null    float64\n",
      " 4   Close       712 non-null    float64\n",
      " 5   Adj Close   712 non-null    float64\n",
      " 6   Volume      712 non-null    float64\n",
      " 7   CloseLong   854 non-null    int64  \n",
      " 8   CloseShort  854 non-null    int64  \n",
      " 9   OpenLong    854 non-null    int64  \n",
      " 10  OpenShort   854 non-null    int64  \n",
      " 11  HighLong    854 non-null    int64  \n",
      " 12  HighShort   854 non-null    int64  \n",
      " 13  LowLong     854 non-null    int64  \n",
      " 14  LowShort    854 non-null    int64  \n",
      "dtypes: float64(6), int64(8), object(1)\n",
      "memory usage: 100.2+ KB\n"
     ]
    }
   ],
   "source": [
    "df.info()"
   ]
  },
  {
   "cell_type": "markdown",
   "id": "b8a16e47",
   "metadata": {},
   "source": [
    "## 2.2. Data Cleaning \n",
    "\n",
    "Alot of the cleaning was done in Excel beforehand but a few things still remain. We need to remove unneeded columns as well as remove rows which coincide with either a sunday or a bank holiday (which can be detected via the NaN values in price data). "
   ]
  },
  {
   "cell_type": "code",
   "execution_count": 5,
   "id": "e928532f",
   "metadata": {},
   "outputs": [
    {
     "data": {
      "text/html": [
       "<div>\n",
       "<style scoped>\n",
       "    .dataframe tbody tr th:only-of-type {\n",
       "        vertical-align: middle;\n",
       "    }\n",
       "\n",
       "    .dataframe tbody tr th {\n",
       "        vertical-align: top;\n",
       "    }\n",
       "\n",
       "    .dataframe thead th {\n",
       "        text-align: right;\n",
       "    }\n",
       "</style>\n",
       "<table border=\"1\" class=\"dataframe\">\n",
       "  <thead>\n",
       "    <tr style=\"text-align: right;\">\n",
       "      <th></th>\n",
       "      <th>Date</th>\n",
       "      <th>Open</th>\n",
       "      <th>High</th>\n",
       "      <th>Low</th>\n",
       "      <th>Close</th>\n",
       "      <th>Sentiment_Buys</th>\n",
       "    </tr>\n",
       "  </thead>\n",
       "  <tbody>\n",
       "    <tr>\n",
       "      <th>707</th>\n",
       "      <td>19/10/2022</td>\n",
       "      <td>94.247002</td>\n",
       "      <td>94.385002</td>\n",
       "      <td>93.900002</td>\n",
       "      <td>94.247002</td>\n",
       "      <td>38</td>\n",
       "    </tr>\n",
       "    <tr>\n",
       "      <th>708</th>\n",
       "      <td>20/10/2022</td>\n",
       "      <td>93.834000</td>\n",
       "      <td>95.129997</td>\n",
       "      <td>93.379997</td>\n",
       "      <td>93.834000</td>\n",
       "      <td>38</td>\n",
       "    </tr>\n",
       "    <tr>\n",
       "      <th>709</th>\n",
       "      <td>21/10/2022</td>\n",
       "      <td>94.223000</td>\n",
       "      <td>95.723000</td>\n",
       "      <td>93.127998</td>\n",
       "      <td>94.223000</td>\n",
       "      <td>39</td>\n",
       "    </tr>\n",
       "    <tr>\n",
       "      <th>710</th>\n",
       "      <td>24/10/2022</td>\n",
       "      <td>94.180000</td>\n",
       "      <td>94.797997</td>\n",
       "      <td>93.595001</td>\n",
       "      <td>94.180000</td>\n",
       "      <td>34</td>\n",
       "    </tr>\n",
       "    <tr>\n",
       "      <th>711</th>\n",
       "      <td>25/10/2022</td>\n",
       "      <td>94.234001</td>\n",
       "      <td>94.652000</td>\n",
       "      <td>93.876999</td>\n",
       "      <td>94.234001</td>\n",
       "      <td>37</td>\n",
       "    </tr>\n",
       "  </tbody>\n",
       "</table>\n",
       "</div>"
      ],
      "text/plain": [
       "           Date       Open       High        Low      Close  Sentiment_Buys\n",
       "707  19/10/2022  94.247002  94.385002  93.900002  94.247002              38\n",
       "708  20/10/2022  93.834000  95.129997  93.379997  93.834000              38\n",
       "709  21/10/2022  94.223000  95.723000  93.127998  94.223000              39\n",
       "710  24/10/2022  94.180000  94.797997  93.595001  94.180000              34\n",
       "711  25/10/2022  94.234001  94.652000  93.876999  94.234001              37"
      ]
     },
     "execution_count": 5,
     "metadata": {},
     "output_type": "execute_result"
    }
   ],
   "source": [
    "df=df.drop(['CloseLong', 'CloseShort', 'OpenShort', 'HighLong', 'HighShort', 'LowLong', 'LowShort', 'Volume', 'Adj Close'], axis=1)\n",
    "df.rename({'OpenLong':'Sentiment_Buys'}, axis=1, inplace=True)\n",
    "df = df.dropna().reset_index(drop=True)\n",
    "df.tail()"
   ]
  },
  {
   "cell_type": "markdown",
   "id": "0824d1c0",
   "metadata": {},
   "source": [
    "Our data is cleaned up! "
   ]
  },
  {
   "cell_type": "markdown",
   "id": "f0e1efc8",
   "metadata": {},
   "source": [
    "# 3. Normalizing and Categorizing Data"
   ]
  },
  {
   "cell_type": "markdown",
   "id": "c25580f3",
   "metadata": {},
   "source": [
    "## 3.1. Average Daily Range"
   ]
  },
  {
   "cell_type": "markdown",
   "id": "5608df3c",
   "metadata": {},
   "source": [
    "<img src=\"adr.PNG\" />"
   ]
  },
  {
   "cell_type": "markdown",
   "id": "4c570cfe",
   "metadata": {},
   "source": [
    "Firstly we evaluate how much the market has moved on a given day. The standard procedure for this is the average daily range (formula shown above).\n",
    "\n",
    "Problems arise when calculating this figure over too broad a range (looking too far back) since factors which influence market dynamics cause recency and situational bias' and these bias' need to be compensated for. For the sake of simplicity, we use a shorter time-frame to compensate. However, considerations such as seasonality, month, day, economic calender events etc. all serve as opportunities for deeper exploration. \n",
    "\n",
    "Moreover, a linear or exponential weighted average can be incorporated into the formula above to provide a heavier weighting toward more recent data points. "
   ]
  },
  {
   "cell_type": "code",
   "execution_count": 6,
   "id": "8846ee5b",
   "metadata": {},
   "outputs": [
    {
     "data": {
      "text/plain": [
       "0      0.554452\n",
       "1      1.576147\n",
       "2      1.059214\n",
       "3      0.520382\n",
       "4      1.317086\n",
       "         ...   \n",
       "707    0.516507\n",
       "708    1.874063\n",
       "709    2.786490\n",
       "710    1.285321\n",
       "711    0.825549\n",
       "Length: 712, dtype: float64"
      ]
     },
     "execution_count": 6,
     "metadata": {},
     "output_type": "execute_result"
    }
   ],
   "source": [
    "#Rolling daily average over the last 20 days to evaluate daily price. \n",
    "DailyRangePercent = df.apply(lambda x: 100 * (x[\"High\"] / x[\"Low\"] - 1), axis=1)\n",
    "df[\"AverageDailyRange\"] = DailyRangePercent.rolling(window=20).mean()\n",
    "df.drop(df.head(19).index,inplace=True)\n",
    "df=df.reset_index(drop=True)\n",
    "DailyRangePercent"
   ]
  },
  {
   "cell_type": "markdown",
   "id": "b6279aa5",
   "metadata": {},
   "source": [
    "## 3.2. Average Daily Range Distributions"
   ]
  },
  {
   "cell_type": "code",
   "execution_count": 7,
   "id": "d37123f0",
   "metadata": {},
   "outputs": [
    {
     "data": {
      "text/plain": [
       "<AxesSubplot:xlabel='AverageDailyRange', ylabel='Count'>"
      ]
     },
     "execution_count": 7,
     "metadata": {},
     "output_type": "execute_result"
    },
    {
     "data": {
      "image/png": "[encoded data removed]",
      "text/plain": [
       "<Figure size 432x288 with 1 Axes>"
      ]
     },
     "metadata": {
      "needs_background": "light"
     },
     "output_type": "display_data"
    }
   ],
   "source": [
    "#Plot our data to explore the distribution of daily ranges. \n",
    "sns.histplot(data=df, \n",
    "             x='AverageDailyRange',\n",
    "             kde=True\n",
    "             )"
   ]
  },
  {
   "cell_type": "markdown",
   "id": "ee80c406",
   "metadata": {},
   "source": [
    "Importantly, we observe a common phenomonen observed in the financial markets here - right skewed data. "
   ]
  },
  {
   "cell_type": "markdown",
   "id": "7038734e",
   "metadata": {},
   "source": [
    "## 3.3. Normalizing Distribrution\n",
    "\n",
    "### Outlier Removal\n",
    "Incorporating, focusing or removing/clipping outliers are all viable approaches dependant on your strategy/objective. We will opt to remove our outliers since we desire a more 'normal', normal distribrution. This will be useful when we visually interpret our histograms for category boundaries later on. "
   ]
  },
  {
   "cell_type": "code",
   "execution_count": 8,
   "id": "44c5926a",
   "metadata": {},
   "outputs": [
    {
     "data": {
      "text/plain": [
       "<AxesSubplot:xlabel='AverageDailyRange', ylabel='Count'>"
      ]
     },
     "execution_count": 8,
     "metadata": {},
     "output_type": "execute_result"
    },
    {
     "data": {
      "image/png": "[encoded data removed]",
      "text/plain": [
       "<Figure size 432x288 with 1 Axes>"
      ]
     },
     "metadata": {
      "needs_background": "light"
     },
     "output_type": "display_data"
    }
   ],
   "source": [
    "#Remove outliers.\n",
    "dfnorm=df.loc[df['AverageDailyRange'] <= 1.7].reset_index(drop=True)\n",
    "#Graph after positive outlier removal. \n",
    "sns.histplot(data=dfnorm, \n",
    "             x='AverageDailyRange',\n",
    "             kde=True\n",
    "             )"
   ]
  },
  {
   "cell_type": "markdown",
   "id": "044cf67b",
   "metadata": {},
   "source": [
    "### Log Transformations \n",
    "\n",
    "A wide array of different transformations are available when normalizing data (square-root, natural log, inverse function etc.). Which is chosen is dependent on the direction and magnitude of the skew. <br> \n",
    "\n",
    "Our data contains a moderate/heavy right skew and a log transformation is the normal recommendation in such a scenario (West, 2021). "
   ]
  },
  {
   "cell_type": "code",
   "execution_count": 9,
   "id": "691fc8cd",
   "metadata": {},
   "outputs": [
    {
     "data": {
      "image/png": "[encoded data removed]",
      "text/plain": [
       "<Figure size 432x288 with 1 Axes>"
      ]
     },
     "metadata": {
      "needs_background": "light"
     },
     "output_type": "display_data"
    }
   ],
   "source": [
    "#log scaling to further normalize. \n",
    "df[\"AverageDailyRangeLog\"] = np.log(df['AverageDailyRange'])\n",
    "dfnorm[\"AverageDailyRangeLog\"] = np.log(dfnorm['AverageDailyRange'])\n",
    "sns.histplot(data=dfnorm, \n",
    "             x='AverageDailyRangeLog',\n",
    "             kde=True\n",
    "             )\n",
    "df=df.drop(['AverageDailyRange'], axis=1)"
   ]
  },
  {
   "cell_type": "markdown",
   "id": "b5655279",
   "metadata": {},
   "source": [
    "Visually our distribrution is clearly much more normalized."
   ]
  },
  {
   "cell_type": "markdown",
   "id": "d08ebfe7",
   "metadata": {},
   "source": [
    "## 3.4. Category Boundaries: Z-score vs Visual Interperatation Discussion\n",
    "\n",
    "Throughout this notebook we interchange between using z-score's (the statistically normalized procedure) vs. visual interperatation to define our category boundaries. Why?\n",
    "\n",
    "In an academic since, interchanging is far from convention - but this is not an academic endeavour. This notebook is designed to explore whether edges within the financial market exist and in order to find such edges, we believe relying on human subjectivity (visual interperatation) is not only viable - but imperative. \n",
    "\n",
    "Looking at the graph above, we can readily identify a sharp falloff in frequency at -0.4 and ~0.25. Having noted this, it makes sense to use these values as cut-offs for our categories.\n",
    "\n",
    "Later in this notebook, we define categories using z-score in instances where our dataset presents a graph with an extremely uniform normal distribrution and thus don't require (nor permit) visual interpretation."
   ]
  },
  {
   "cell_type": "markdown",
   "id": "da9c9cde",
   "metadata": {},
   "source": [
    "## 3.5. Average Daily Range: Category Boundaries "
   ]
  },
  {
   "cell_type": "markdown",
   "id": "0ef9d859",
   "metadata": {},
   "source": [
    "Define categories for the daily range; Tight, Average and Wide Range. The boundaries for these categories are based on\n",
    "visual interpretation of the graph presented above. "
   ]
  },
  {
   "cell_type": "code",
   "execution_count": 10,
   "id": "0b66cdd3",
   "metadata": {},
   "outputs": [
    {
     "data": {
      "text/html": [
       "<div>\n",
       "<style scoped>\n",
       "    .dataframe tbody tr th:only-of-type {\n",
       "        vertical-align: middle;\n",
       "    }\n",
       "\n",
       "    .dataframe tbody tr th {\n",
       "        vertical-align: top;\n",
       "    }\n",
       "\n",
       "    .dataframe thead th {\n",
       "        text-align: right;\n",
       "    }\n",
       "</style>\n",
       "<table border=\"1\" class=\"dataframe\">\n",
       "  <thead>\n",
       "    <tr style=\"text-align: right;\">\n",
       "      <th></th>\n",
       "      <th>Date</th>\n",
       "      <th>Open</th>\n",
       "      <th>High</th>\n",
       "      <th>Low</th>\n",
       "      <th>Close</th>\n",
       "      <th>Sentiment_Buys</th>\n",
       "      <th>AverageDailyRangeLog</th>\n",
       "      <th>TightRange</th>\n",
       "      <th>AverageRange</th>\n",
       "      <th>WideRange</th>\n",
       "    </tr>\n",
       "  </thead>\n",
       "  <tbody>\n",
       "    <tr>\n",
       "      <th>0</th>\n",
       "      <td>28/02/2020</td>\n",
       "      <td>72.153999</td>\n",
       "      <td>72.164001</td>\n",
       "      <td>69.426003</td>\n",
       "      <td>72.153000</td>\n",
       "      <td>69</td>\n",
       "      <td>0.015484</td>\n",
       "      <td>No</td>\n",
       "      <td>Yes</td>\n",
       "      <td>No</td>\n",
       "    </tr>\n",
       "    <tr>\n",
       "      <th>1</th>\n",
       "      <td>02/03/2020</td>\n",
       "      <td>70.197998</td>\n",
       "      <td>71.190002</td>\n",
       "      <td>69.853996</td>\n",
       "      <td>70.168999</td>\n",
       "      <td>78</td>\n",
       "      <td>0.080206</td>\n",
       "      <td>No</td>\n",
       "      <td>Yes</td>\n",
       "      <td>No</td>\n",
       "    </tr>\n",
       "    <tr>\n",
       "      <th>2</th>\n",
       "      <td>03/03/2020</td>\n",
       "      <td>70.975998</td>\n",
       "      <td>71.456001</td>\n",
       "      <td>70.309998</td>\n",
       "      <td>71.019997</td>\n",
       "      <td>77</td>\n",
       "      <td>0.082685</td>\n",
       "      <td>No</td>\n",
       "      <td>Yes</td>\n",
       "      <td>No</td>\n",
       "    </tr>\n",
       "    <tr>\n",
       "      <th>3</th>\n",
       "      <td>04/03/2020</td>\n",
       "      <td>70.501999</td>\n",
       "      <td>71.290001</td>\n",
       "      <td>70.501999</td>\n",
       "      <td>70.461998</td>\n",
       "      <td>72</td>\n",
       "      <td>0.085373</td>\n",
       "      <td>No</td>\n",
       "      <td>Yes</td>\n",
       "      <td>No</td>\n",
       "    </tr>\n",
       "    <tr>\n",
       "      <th>4</th>\n",
       "      <td>05/03/2020</td>\n",
       "      <td>71.320000</td>\n",
       "      <td>71.321999</td>\n",
       "      <td>70.278999</td>\n",
       "      <td>71.350998</td>\n",
       "      <td>72</td>\n",
       "      <td>0.128665</td>\n",
       "      <td>No</td>\n",
       "      <td>Yes</td>\n",
       "      <td>No</td>\n",
       "    </tr>\n",
       "  </tbody>\n",
       "</table>\n",
       "</div>"
      ],
      "text/plain": [
       "         Date       Open       High        Low      Close  Sentiment_Buys  \\\n",
       "0  28/02/2020  72.153999  72.164001  69.426003  72.153000              69   \n",
       "1  02/03/2020  70.197998  71.190002  69.853996  70.168999              78   \n",
       "2  03/03/2020  70.975998  71.456001  70.309998  71.019997              77   \n",
       "3  04/03/2020  70.501999  71.290001  70.501999  70.461998              72   \n",
       "4  05/03/2020  71.320000  71.321999  70.278999  71.350998              72   \n",
       "\n",
       "   AverageDailyRangeLog TightRange AverageRange WideRange  \n",
       "0              0.015484         No          Yes        No  \n",
       "1              0.080206         No          Yes        No  \n",
       "2              0.082685         No          Yes        No  \n",
       "3              0.085373         No          Yes        No  \n",
       "4              0.128665         No          Yes        No  "
      ]
     },
     "execution_count": 10,
     "metadata": {},
     "output_type": "execute_result"
    }
   ],
   "source": [
    "#Defining functions for daily range category boundaries. \n",
    "def TR(row):\n",
    "    if row['AverageDailyRangeLog'] <= -0.4:\n",
    "        return 'Yes'\n",
    "    else:\n",
    "        return 'No'\n",
    "def AR(row):\n",
    "    if -0.4 <= row['AverageDailyRangeLog'] <= .25:\n",
    "        return 'Yes'\n",
    "    else:\n",
    "        return 'No'\n",
    "def WR(row):\n",
    "    if row['AverageDailyRangeLog'] > .25:\n",
    "        return 'Yes'\n",
    "    else:\n",
    "        return 'No'\n",
    "\n",
    "df['TightRange']=df.apply(TR, axis=1)\n",
    "df['AverageRange']=df.apply(AR, axis=1)\n",
    "df['WideRange']=df.apply(WR, axis=1)\n",
    "df.head()"
   ]
  },
  {
   "cell_type": "markdown",
   "id": "51dac697",
   "metadata": {},
   "source": [
    "## 3.6. Price Change and Sentiment Change "
   ]
  },
  {
   "cell_type": "markdown",
   "id": "adb55c8e",
   "metadata": {},
   "source": [
    "Create columns which calculate price and sentiment change. "
   ]
  },
  {
   "cell_type": "code",
   "execution_count": 11,
   "id": "33f885a8",
   "metadata": {},
   "outputs": [
    {
     "data": {
      "text/html": [
       "<div>\n",
       "<style scoped>\n",
       "    .dataframe tbody tr th:only-of-type {\n",
       "        vertical-align: middle;\n",
       "    }\n",
       "\n",
       "    .dataframe tbody tr th {\n",
       "        vertical-align: top;\n",
       "    }\n",
       "\n",
       "    .dataframe thead th {\n",
       "        text-align: right;\n",
       "    }\n",
       "</style>\n",
       "<table border=\"1\" class=\"dataframe\">\n",
       "  <thead>\n",
       "    <tr style=\"text-align: right;\">\n",
       "      <th></th>\n",
       "      <th>Date</th>\n",
       "      <th>Open</th>\n",
       "      <th>High</th>\n",
       "      <th>Low</th>\n",
       "      <th>Close</th>\n",
       "      <th>Sentiment_Buys</th>\n",
       "      <th>AverageDailyRangeLog</th>\n",
       "      <th>TightRange</th>\n",
       "      <th>AverageRange</th>\n",
       "      <th>WideRange</th>\n",
       "      <th>Open_pct_Change</th>\n",
       "      <th>Sentiment_Buys_pct_Change</th>\n",
       "    </tr>\n",
       "  </thead>\n",
       "  <tbody>\n",
       "    <tr>\n",
       "      <th>0</th>\n",
       "      <td>28/02/2020</td>\n",
       "      <td>72.153999</td>\n",
       "      <td>72.164001</td>\n",
       "      <td>69.426003</td>\n",
       "      <td>72.153000</td>\n",
       "      <td>69</td>\n",
       "      <td>0.015484</td>\n",
       "      <td>No</td>\n",
       "      <td>Yes</td>\n",
       "      <td>No</td>\n",
       "      <td>-2.710870</td>\n",
       "      <td>13.043478</td>\n",
       "    </tr>\n",
       "    <tr>\n",
       "      <th>1</th>\n",
       "      <td>02/03/2020</td>\n",
       "      <td>70.197998</td>\n",
       "      <td>71.190002</td>\n",
       "      <td>69.853996</td>\n",
       "      <td>70.168999</td>\n",
       "      <td>78</td>\n",
       "      <td>0.080206</td>\n",
       "      <td>No</td>\n",
       "      <td>Yes</td>\n",
       "      <td>No</td>\n",
       "      <td>1.108294</td>\n",
       "      <td>-1.282051</td>\n",
       "    </tr>\n",
       "    <tr>\n",
       "      <th>2</th>\n",
       "      <td>03/03/2020</td>\n",
       "      <td>70.975998</td>\n",
       "      <td>71.456001</td>\n",
       "      <td>70.309998</td>\n",
       "      <td>71.019997</td>\n",
       "      <td>77</td>\n",
       "      <td>0.082685</td>\n",
       "      <td>No</td>\n",
       "      <td>Yes</td>\n",
       "      <td>No</td>\n",
       "      <td>-0.667830</td>\n",
       "      <td>-6.493506</td>\n",
       "    </tr>\n",
       "    <tr>\n",
       "      <th>3</th>\n",
       "      <td>04/03/2020</td>\n",
       "      <td>70.501999</td>\n",
       "      <td>71.290001</td>\n",
       "      <td>70.501999</td>\n",
       "      <td>70.461998</td>\n",
       "      <td>72</td>\n",
       "      <td>0.085373</td>\n",
       "      <td>No</td>\n",
       "      <td>Yes</td>\n",
       "      <td>No</td>\n",
       "      <td>1.160252</td>\n",
       "      <td>0.000000</td>\n",
       "    </tr>\n",
       "    <tr>\n",
       "      <th>4</th>\n",
       "      <td>05/03/2020</td>\n",
       "      <td>71.320000</td>\n",
       "      <td>71.321999</td>\n",
       "      <td>70.278999</td>\n",
       "      <td>71.350998</td>\n",
       "      <td>72</td>\n",
       "      <td>0.128665</td>\n",
       "      <td>No</td>\n",
       "      <td>Yes</td>\n",
       "      <td>No</td>\n",
       "      <td>-1.397928</td>\n",
       "      <td>-1.388889</td>\n",
       "    </tr>\n",
       "  </tbody>\n",
       "</table>\n",
       "</div>"
      ],
      "text/plain": [
       "         Date       Open       High        Low      Close  Sentiment_Buys  \\\n",
       "0  28/02/2020  72.153999  72.164001  69.426003  72.153000              69   \n",
       "1  02/03/2020  70.197998  71.190002  69.853996  70.168999              78   \n",
       "2  03/03/2020  70.975998  71.456001  70.309998  71.019997              77   \n",
       "3  04/03/2020  70.501999  71.290001  70.501999  70.461998              72   \n",
       "4  05/03/2020  71.320000  71.321999  70.278999  71.350998              72   \n",
       "\n",
       "   AverageDailyRangeLog TightRange AverageRange WideRange  Open_pct_Change  \\\n",
       "0              0.015484         No          Yes        No        -2.710870   \n",
       "1              0.080206         No          Yes        No         1.108294   \n",
       "2              0.082685         No          Yes        No        -0.667830   \n",
       "3              0.085373         No          Yes        No         1.160252   \n",
       "4              0.128665         No          Yes        No        -1.397928   \n",
       "\n",
       "   Sentiment_Buys_pct_Change  \n",
       "0                  13.043478  \n",
       "1                  -1.282051  \n",
       "2                  -6.493506  \n",
       "3                   0.000000  \n",
       "4                  -1.388889  "
      ]
     },
     "execution_count": 11,
     "metadata": {},
     "output_type": "execute_result"
    }
   ],
   "source": [
    "df['Open_pct_Change']=df['Open'].pct_change()*100\n",
    "df['Sentiment_Buys_pct_Change']=df['Sentiment_Buys'].pct_change()*100\n",
    "df['Open_pct_Change'] = df['Open_pct_Change'].shift(-1)\n",
    "df['Sentiment_Buys_pct_Change'] = df['Sentiment_Buys_pct_Change'].shift(-1)\n",
    "df = df.dropna().reset_index(drop=True)\n",
    "normalize=df[['Sentiment_Buys_pct_Change','Open_pct_Change']].copy()\n",
    "df.head()"
   ]
  },
  {
   "cell_type": "markdown",
   "id": "992025ee",
   "metadata": {},
   "source": [
    "## 3.7. Price and Sentiment Change Distributions"
   ]
  },
  {
   "cell_type": "code",
   "execution_count": 12,
   "id": "1d59f434",
   "metadata": {},
   "outputs": [
    {
     "name": "stdout",
     "output_type": "stream",
     "text": [
      "count    692.000000\n",
      "mean       0.581151\n",
      "std       11.833260\n",
      "min      -37.500000\n",
      "25%       -6.808884\n",
      "50%        0.000000\n",
      "75%        7.142857\n",
      "max       51.724138\n",
      "Name: Sentiment_Buys_pct_Change, dtype: float64\n"
     ]
    },
    {
     "data": {
      "image/png": "[encoded data removed]",
      "text/plain": [
       "<Figure size 432x288 with 1 Axes>"
      ]
     },
     "metadata": {
      "needs_background": "light"
     },
     "output_type": "display_data"
    },
    {
     "data": {
      "image/png": "[encoded data removed]",
      "text/plain": [
       "<Figure size 432x288 with 1 Axes>"
      ]
     },
     "metadata": {
      "needs_background": "light"
     },
     "output_type": "display_data"
    },
    {
     "name": "stdout",
     "output_type": "stream",
     "text": [
      "count    692.000000\n",
      "mean       0.042260\n",
      "std        0.858365\n",
      "min       -7.588596\n",
      "25%       -0.376981\n",
      "50%        0.044494\n",
      "75%        0.448240\n",
      "max        8.638917\n",
      "Name: Open_pct_Change, dtype: float64\n"
     ]
    },
    {
     "data": {
      "image/png": "[encoded data removed]",
      "text/plain": [
       "<Figure size 432x288 with 1 Axes>"
      ]
     },
     "metadata": {
      "needs_background": "light"
     },
     "output_type": "display_data"
    },
    {
     "data": {
      "image/png": "[encoded data removed]",
      "text/plain": [
       "<Figure size 432x288 with 1 Axes>"
      ]
     },
     "metadata": {
      "needs_background": "light"
     },
     "output_type": "display_data"
    }
   ],
   "source": [
    "def report(a):\n",
    "    plt.suptitle(a, fontsize=16)\n",
    "    sns.histplot(data=normalize, \n",
    "             x=a,\n",
    "             kde=True\n",
    "             )\n",
    "    sm.qqplot(normalize[a], line='s', fit=True)\n",
    "    print(normalize[a].describe())\n",
    "    plt.show()\n",
    "\n",
    "for feature in normalize.columns:\n",
    "    report(feature)"
   ]
  },
  {
   "cell_type": "markdown",
   "id": "1fe7f5ee",
   "metadata": {},
   "source": [
    "Our sentiment data shows a relatively normal distribrution with some fat tails with a clear right skew. As mentioned before, the skew is a common phemononen in financial markets. To normalize, we will apply a log transformation. \n",
    "\n",
    "Comparatively our price data is highly leptokurtic (alot of our values are centered towards the mean and within the tails). A reason for this are the clear outliers easily visible in the Q-Q plot. To produce a more mesokurtic shape, we will remove \n",
    "outliers. We will also be applying a log transformation again in order to reduce the right-skew. "
   ]
  },
  {
   "cell_type": "code",
   "execution_count": 13,
   "id": "e085697b",
   "metadata": {},
   "outputs": [],
   "source": [
    "#Log transforming our open and sentiment columns. Also some dataframe cleanup. \n",
    "df['Log_Sentiment_Buys_pct_change']= np.log(1+df['Sentiment_Buys'].pct_change())*100\n",
    "df['Log_Open_pct_change']= np.log(1+df['Open'].pct_change())*100\n",
    "df = df.dropna().reset_index(drop=True)\n",
    "normalize=df[['Log_Sentiment_Buys_pct_change', 'Log_Open_pct_change']].copy()\n",
    "df=df.drop(['Sentiment_Buys_pct_Change','Open_pct_Change', 'Open', 'High', 'Low', 'Close', 'Sentiment_Buys', 'AverageDailyRangeLog'], axis=1)"
   ]
  },
  {
   "cell_type": "markdown",
   "id": "55d4355c",
   "metadata": {},
   "source": [
    "We will be removing outliers in our price change data using z-score. Normal convention is to define outliers as data with\n",
    "a z-score of +-3 (Rousseeuw & Hubert, 2011). However, much like before, we will utilize visual interperatation over statistical\n",
    "convention. Looking at the Q-Q plot above for price change, outliers are notably visible at ~2.7 and will thus serve as our cutoff point. "
   ]
  },
  {
   "cell_type": "code",
   "execution_count": 14,
   "id": "cbdb6897",
   "metadata": {},
   "outputs": [],
   "source": [
    "#Function for calculating z-score for outlier removal.\n",
    "def zscore(s):\n",
    "    return (s - np.mean(s)) / np.std(s)"
   ]
  },
  {
   "cell_type": "code",
   "execution_count": 15,
   "id": "8da6942f",
   "metadata": {},
   "outputs": [],
   "source": [
    "#Outlier removal using z-score a cut-off of 2.7.\n",
    "outliers=df[['Log_Open_pct_change']].copy()\n",
    "outlierList=outliers[zscore(outliers['Log_Open_pct_change']).abs().gt(2.7)].index.tolist() \n",
    "df=df.drop(outlierList).reset_index(drop=True)\n",
    "normalize=df[['Log_Sentiment_Buys_pct_change', 'Log_Open_pct_change']].copy()"
   ]
  },
  {
   "cell_type": "code",
   "execution_count": 16,
   "id": "f6193769",
   "metadata": {},
   "outputs": [
    {
     "name": "stdout",
     "output_type": "stream",
     "text": [
      "count    682.000000\n",
      "mean      -0.167628\n",
      "std       11.545032\n",
      "min      -47.000363\n",
      "25%       -7.145896\n",
      "50%        0.000000\n",
      "75%        6.669137\n",
      "max       41.689380\n",
      "Name: Log_Sentiment_Buys_pct_change, dtype: float64\n"
     ]
    },
    {
     "data": {
      "image/png": "[encoded data removed]",
      "text/plain": [
       "<Figure size 432x288 with 1 Axes>"
      ]
     },
     "metadata": {
      "needs_background": "light"
     },
     "output_type": "display_data"
    },
    {
     "data": {
      "image/png": "[encoded data removed]",
      "text/plain": [
       "<Figure size 432x288 with 1 Axes>"
      ]
     },
     "metadata": {
      "needs_background": "light"
     },
     "output_type": "display_data"
    },
    {
     "name": "stdout",
     "output_type": "stream",
     "text": [
      "count    682.000000\n",
      "mean       0.042204\n",
      "std        0.693508\n",
      "min       -2.252028\n",
      "25%       -0.374452\n",
      "50%        0.044484\n",
      "75%        0.445424\n",
      "max        2.321665\n",
      "Name: Log_Open_pct_change, dtype: float64\n"
     ]
    },
    {
     "data": {
      "image/png": "[encoded data removed]",
      "text/plain": [
       "<Figure size 432x288 with 1 Axes>"
      ]
     },
     "metadata": {
      "needs_background": "light"
     },
     "output_type": "display_data"
    },
    {
     "data": {
      "image/png": "[encoded data removed]",
      "text/plain": [
       "<Figure size 432x288 with 1 Axes>"
      ]
     },
     "metadata": {
      "needs_background": "light"
     },
     "output_type": "display_data"
    }
   ],
   "source": [
    "#Explore the distribution of sentiment and price change after log transformations and outlier removal. \n",
    "def report(a):\n",
    "    plt.suptitle(a, fontsize=16)\n",
    "    sns.histplot(data=normalize, \n",
    "             x=a,\n",
    "             kde=True\n",
    "             )\n",
    "    sm.qqplot(normalize[a], line='s', fit=True)\n",
    "    print(normalize[a].describe())\n",
    "    plt.show()\n",
    "\n",
    "for feature in normalize.columns:\n",
    "    report(feature)"
   ]
  },
  {
   "cell_type": "markdown",
   "id": "60040520",
   "metadata": {},
   "source": [
    "After log transformation, our sentiment data has less right skew with thinner tails.\n",
    "\n",
    "After log transformation and outlier removal, our price change data has shifted to a significantly more mesokurtic distribrution."
   ]
  },
  {
   "cell_type": "code",
   "execution_count": 17,
   "id": "f4958498",
   "metadata": {},
   "outputs": [],
   "source": [
    "#Removing outliers.\n",
    "df=df.drop(outlierList).reset_index(drop=True)"
   ]
  },
  {
   "cell_type": "markdown",
   "id": "a7586a62",
   "metadata": {},
   "source": [
    "## 3.8. Confirming Normality via Z-score Percentiles \n",
    "\n",
    "\n",
    "These data sets are seemingly normalized but we will confirm by examining the z-score distributions. "
   ]
  },
  {
   "cell_type": "markdown",
   "id": "9362ff6e",
   "metadata": {},
   "source": [
    "First we will categorize our price and sentiment change based on z-score. A z-score of 1 represents a standard deviation of 1 above the mean, 2 represents a standard deviation of 2 and so forth.  \n",
    "\n",
    "Assuming normality we would expect a percentile distribution of 34.5, 13.5 and 2% for z-scores of 1 2, 3 respectively (Glen, n.d.). "
   ]
  },
  {
   "cell_type": "code",
   "execution_count": 18,
   "id": "954d26a6",
   "metadata": {},
   "outputs": [],
   "source": [
    "#New columns which give z-scores for sentiment and price change. \n",
    "df['zscoresentiment'] = zscore(df['Log_Sentiment_Buys_pct_change'])\n",
    "df['zscoreopen'] = zscore(df['Log_Open_pct_change'])\n",
    "\n",
    "#Defining functions which categorize sentiment and price change based on z-score. \n",
    "def zscoresentiment(row):\n",
    "    if row['zscoresentiment'] <= -2:\n",
    "        return 'Major Sell (S)'\n",
    "    if row['zscoresentiment'] <= -1:\n",
    "        return 'Moderate Sell (S)'\n",
    "    if row['zscoresentiment'] <= -0:\n",
    "        return 'Minor Sell (S)'\n",
    "    if row['zscoresentiment'] <= 1:\n",
    "        return 'Minor Buy (S)'\n",
    "    if row['zscoresentiment'] <= 2:\n",
    "        return 'Moderate Buy (S)'\n",
    "    else:\n",
    "        return 'Major Buy (S)'\n",
    "    \n",
    "def zscoreprice(row):\n",
    "    if row['zscoreopen'] <= -2:\n",
    "        return 'Major Sell (P)'\n",
    "    if row['zscoreopen'] <= -1:\n",
    "        return 'Moderate Sell (P)'\n",
    "    if row['zscoreopen'] <= -0:\n",
    "        return 'Minor Sell (P)'\n",
    "    if row['zscoreopen'] <= 1:\n",
    "        return 'Minor Buy (P)'\n",
    "    if row['zscoreopen'] <= 2:\n",
    "        return 'Moderate Buy (P)'\n",
    "    else:\n",
    "        return 'Major Buy (P)'"
   ]
  },
  {
   "cell_type": "code",
   "execution_count": 19,
   "id": "4adaffab",
   "metadata": {},
   "outputs": [
    {
     "data": {
      "text/plain": [
       "Minor Buy (S)        41.456166\n",
       "Minor Sell (S)       31.500743\n",
       "Moderate Sell (S)    12.184250\n",
       "Moderate Buy (S)     10.104012\n",
       "Major Buy (S)         2.674591\n",
       "Major Sell (S)        2.080238\n",
       "Name: Sentiment, dtype: float64"
      ]
     },
     "execution_count": 19,
     "metadata": {},
     "output_type": "execute_result"
    },
    {
     "data": {
      "image/png": "[encoded data removed]",
      "text/plain": [
       "<Figure size 432x288 with 1 Axes>"
      ]
     },
     "metadata": {
      "needs_background": "light"
     },
     "output_type": "display_data"
    }
   ],
   "source": [
    "df['Sentiment']=df.apply(zscoresentiment, axis=1)\n",
    "order = [\"Major Sell (S)\", \"Moderate Sell (S)\", \"Minor Sell (S)\", \"Minor Buy (S)\", \"Moderate Buy (S)\", \"Major Buy (S)\"]\n",
    "plt.xticks(rotation=90)\n",
    "sns.countplot(x = \"Sentiment\", \n",
    "              data = df, \n",
    "              order = order,\n",
    "              palette='flare')\n",
    "df['Sentiment'].value_counts(normalize=True) * 100 "
   ]
  },
  {
   "cell_type": "code",
   "execution_count": 20,
   "id": "8828d12d",
   "metadata": {},
   "outputs": [
    {
     "data": {
      "text/plain": [
       "Minor Buy (P)        35.958395\n",
       "Minor Sell (P)       34.175334\n",
       "Moderate Sell (P)    13.224368\n",
       "Moderate Buy (P)     11.441308\n",
       "Major Buy (P)         2.674591\n",
       "Major Sell (P)        2.526003\n",
       "Name: Price_Change, dtype: float64"
      ]
     },
     "execution_count": 20,
     "metadata": {},
     "output_type": "execute_result"
    },
    {
     "data": {
      "image/png": "[encoded data removed]",
      "text/plain": [
       "<Figure size 432x288 with 1 Axes>"
      ]
     },
     "metadata": {
      "needs_background": "light"
     },
     "output_type": "display_data"
    }
   ],
   "source": [
    "df['Price_Change']=df.apply(zscoreprice, axis=1)\n",
    "plt.xticks(rotation=90)\n",
    "order1 = [\"Major Sell (P)\", \"Moderate Sell (P)\", \"Minor Sell (P)\", \"Minor Buy (P)\", \"Moderate Buy (P)\", \"Major Buy (P)\"]\n",
    "sns.countplot(x = \"Price_Change\", \n",
    "              data = df, \n",
    "              order = order1,\n",
    "              palette='flare')\n",
    "df['Price_Change'].value_counts(normalize=True) * 100 "
   ]
  },
  {
   "cell_type": "markdown",
   "id": "11c42484",
   "metadata": {},
   "source": [
    "Visual inspection and percentile breakdowns for each category indicate our data is sufficiently normalized!"
   ]
  },
  {
   "cell_type": "markdown",
   "id": "cc304276",
   "metadata": {},
   "source": [
    "# 4. Parametric vs Non-Parametric Correlation (Pearson, Spearman, Kendall-Tau)"
   ]
  },
  {
   "cell_type": "markdown",
   "id": "302f984e",
   "metadata": {},
   "source": [
    "We must choose a test for checking the correlation between price and sentiment change. The typical choices are between Pearson's, Spearman's and Kendall-Tau's. \n",
    "\n",
    "The first choice to be made when picking between these is choosing between parametric (Pearson's) vs non-parametric (Spearman's/Kendall-Tau's). If opting for non-parametric, our second choice becomes picking between Spearman's vs Kendall-Tau's. \n",
    "\n",
    "Pearson's is our first recommendation. Parametric tests are more powerful than their non-parametric counterparts. Whilst Pearson's considers the mean and deviation from the mean, their non-parametric counterparts only use ordinal information (Mircioiu & Atkinson, 2017). However, Pearson's requires certain assumptions to be met before it can be used (listed below).\n",
    "\n",
    "\n",
    "## 4.1. Pearson's Assumptions (Schober et al, 2018):\n",
    "1. Each observation should have a pair of values (True).\n",
    "2. Each variable should be continuous (True).\n",
    "3. Absence of outliers (True).\n",
    "4. Both variables follow normal distributions (True).\n",
    "5. Linearity and homoscedasticity (Unproven).\n",
    "\n",
    "\n",
    "We will test for linearity via a simple scatter graph. \n",
    "\n",
    "If our data fails to meet these requirements, we then opt to use Kendall-Tau over Spearman's as our preference in non-parametric correlation testing. Whilst both are similar in function, and whilst Spearman typically serves as the default choice in non-parametric correlation testing, we will instead opt for Kendall-Tau since it will provide more reliable P-values considering the smaller sample sizes we will be working with (Bonett & Wright, 2000). <br> \n"
   ]
  },
  {
   "cell_type": "code",
   "execution_count": 21,
   "id": "2ed8e907",
   "metadata": {},
   "outputs": [
    {
     "data": {
      "text/plain": [
       "<AxesSubplot:xlabel='Log_Sentiment_Buys_pct_change', ylabel='Log_Open_pct_change'>"
      ]
     },
     "execution_count": 21,
     "metadata": {},
     "output_type": "execute_result"
    },
    {
     "data": {
      "image/png": "[encoded data removed]",
      "text/plain": [
       "<Figure size 432x288 with 1 Axes>"
      ]
     },
     "metadata": {
      "needs_background": "light"
     },
     "output_type": "display_data"
    }
   ],
   "source": [
    "sns.scatterplot(data=df, \n",
    "             x=\"Log_Sentiment_Buys_pct_change\",\n",
    "             y='Log_Open_pct_change'\n",
    "             )"
   ]
  },
  {
   "cell_type": "markdown",
   "id": "8cc7ac31",
   "metadata": {},
   "source": [
    "Our scatter graph is giving no clear indication of linearity meaning we'll be using our non-parametric choice of test - Kendall-Tau (non-parametric correlations check for a monotonic relationship i.e. variables moving in the same relative direction but not necessarily at a constant rate). "
   ]
  },
  {
   "cell_type": "markdown",
   "id": "5459df66",
   "metadata": {},
   "source": [
    "# 5. Statistical Testing "
   ]
  },
  {
   "cell_type": "markdown",
   "id": "2e709581",
   "metadata": {},
   "source": [
    "## 5.1. Correlation: Sentiment and Price Change"
   ]
  },
  {
   "cell_type": "code",
   "execution_count": 22,
   "id": "e94fa1db",
   "metadata": {},
   "outputs": [
    {
     "name": "stdout",
     "output_type": "stream",
     "text": [
      "Spearman Correlation S Value: 0.07815985242365714\n",
      "Spearman Correlation P Value: 0.0025789402511430114\n"
     ]
    }
   ],
   "source": [
    "s,pp=scipy.stats.kendalltau(df.Log_Sentiment_Buys_pct_change, df.Log_Open_pct_change)\n",
    "print('Spearman Correlation S Value: ' + str(s))\n",
    "print('Spearman Correlation P Value: ' + str(pp))"
   ]
  },
  {
   "cell_type": "markdown",
   "id": "f7dba8f9",
   "metadata": {},
   "source": [
    "We have an extremely weak/negligible correlation between sentiment and price change. Next we investigate the correlation within different sentiment groups. "
   ]
  },
  {
   "cell_type": "markdown",
   "id": "96e2cd1b",
   "metadata": {},
   "source": [
    "### Correlation: Different Sentiment Groups and Price Change "
   ]
  },
  {
   "cell_type": "code",
   "execution_count": 23,
   "id": "7188c2d6",
   "metadata": {},
   "outputs": [
    {
     "name": "stdout",
     "output_type": "stream",
     "text": [
      "Minor: Kendall-Tau Correlation S Value: 0.028728602943124616\n",
      "Minor: Kendall-Tau Correlation P Value: 0.34684900267128393\n",
      "Minor: Sample Size: 491\n",
      "------------------------------------------------------------\n",
      "Moderate: Kendall-Tau Correlation S Value: 0.0952263721398204\n",
      "Moderate: Kendall-Tau Correlation P Value: 0.08521416994881825\n",
      "Moderate: Sample Size: 150\n",
      "------------------------------------------------------------\n",
      "Major: Kendall-Tau Correlation S Value: 0.21010143883614574\n",
      "Major: Kendall-Tau Correlation P Value: 0.09161204208606656\n",
      "Major: Sample Size: 32\n"
     ]
    }
   ],
   "source": [
    "df1=df.loc[(df['Sentiment'] == 'Minor Buy (S)') | (df['Sentiment'] == 'Minor Sell (S)')]\n",
    "df2=df.loc[(df['Sentiment'] == 'Moderate Buy (S)') | (df['Sentiment'] == 'Moderate Sell (S)')]\n",
    "df3=df.loc[(df['Sentiment'] == 'Major Buy (S)') | (df['Sentiment'] == 'Major Sell (S)')]\n",
    "\n",
    "s,pp=scipy.stats.kendalltau(df1.Log_Sentiment_Buys_pct_change, df1.Log_Open_pct_change)\n",
    "print('Minor: Kendall-Tau Correlation S Value: ' + str(s))\n",
    "print('Minor: Kendall-Tau Correlation P Value: ' + str(pp))\n",
    "print('Minor: Sample Size: ' + str(df1.shape[0]))\n",
    "print('------------------------------------------------------------')\n",
    "s1,pp1=scipy.stats.kendalltau(df2.Log_Sentiment_Buys_pct_change, df2.Log_Open_pct_change)\n",
    "print('Moderate: Kendall-Tau Correlation S Value: ' + str(s1))\n",
    "print('Moderate: Kendall-Tau Correlation P Value: ' + str(pp1))\n",
    "print('Moderate: Sample Size: ' + str(df2.shape[0]))\n",
    "print('------------------------------------------------------------')\n",
    "s2,pp2=scipy.stats.kendalltau(df3.Log_Sentiment_Buys_pct_change, df3.Log_Open_pct_change)\n",
    "print('Major: Kendall-Tau Correlation S Value: ' + str(s2))\n",
    "print('Major: Kendall-Tau Correlation P Value: ' + str(pp2))\n",
    "print('Major: Sample Size: ' + str(df3.shape[0]))"
   ]
  },
  {
   "cell_type": "markdown",
   "id": "9f0234c4",
   "metadata": {},
   "source": [
    "Our results show when sentiment has shifted a minor amount, the correlation between sentiment and price change breaks down.\n",
    "However, the further sentiment shifts from the mean, the stronger the correlation gets (increased S Value). \n",
    "\n",
    "It should be noted that P > .05, indicating we should accept the null hypothesis, however we challenge this based on various \n",
    "reasons discussed extensively in the limitations section found at the end of this notebook. Within this notebook we work under\n",
    "the assumption of a lower P-value threshhold (0.1).\n",
    "\n",
    "Next we test if sentiment works as a leading indicator by running correlation tests between daily sentiment change and the subsequent day's price change. "
   ]
  },
  {
   "cell_type": "markdown",
   "id": "e1fa6cf6",
   "metadata": {},
   "source": [
    "## 5.2. Correlation: Sentiment and Next Day Price Change\n",
    "\n",
    "First we need to make a new column consisting of the subsequent day's price change. "
   ]
  },
  {
   "cell_type": "code",
   "execution_count": 24,
   "id": "53b51aea",
   "metadata": {},
   "outputs": [],
   "source": [
    "df['Next_Days_Log_Open_pct_change'] = df['Log_Open_pct_change'].shift(-1)\n",
    "df['Next_Days_Price_Change'] = df['Price_Change'].shift(-1)\n",
    "df = df.dropna().reset_index(drop=True)"
   ]
  },
  {
   "cell_type": "code",
   "execution_count": 25,
   "id": "3bc20743",
   "metadata": {},
   "outputs": [
    {
     "name": "stdout",
     "output_type": "stream",
     "text": [
      "Kendall-Tau Correlation S Value: 0.03554727942115246\n",
      "Kendall-Tau Correlation P Value: 0.17078298104332001\n"
     ]
    }
   ],
   "source": [
    "s,pp=scipy.stats.kendalltau(df.Log_Sentiment_Buys_pct_change, df.Next_Days_Log_Open_pct_change)\n",
    "print('Kendall-Tau Correlation S Value: ' + str(s))\n",
    "print('Kendall-Tau Correlation P Value: ' + str(pp))"
   ]
  },
  {
   "cell_type": "markdown",
   "id": "27b05f4d",
   "metadata": {},
   "source": [
    "No statistically significant correlation found. Next we investigate our sentiment sub-groups. "
   ]
  },
  {
   "cell_type": "markdown",
   "id": "ab985b6d",
   "metadata": {},
   "source": [
    "### Correlation: Different Sentiment Groups and Price Change "
   ]
  },
  {
   "cell_type": "code",
   "execution_count": 26,
   "id": "362c19e6",
   "metadata": {},
   "outputs": [
    {
     "name": "stdout",
     "output_type": "stream",
     "text": [
      "Minor Sentiment Change: Kendall-Tau Correlation S Value: 0.008818190349296826\n",
      "Minor Sentiment Change: Kendall-Tau Correlation P Value: 0.77277128551866\n",
      "Minor Sentiment Change: Sample Size: 491\n",
      "------------------------------------------------------------\n",
      "Moderate Sentiment Change: Kendall-Tau Correlation S Value: 0.027797095060434134\n",
      "Moderate Sentiment Change: Kendall-Tau Correlation P Value: 0.616580070042944\n",
      "Moderate Sentiment Change: Sample Size: 149\n",
      "------------------------------------------------------------\n",
      "Major Sentiment Change: Kendall-Tau Correlation S Value: 0.15757607912710928\n",
      "Major Sentiment Change: Kendall-Tau Correlation P Value: 0.2057938705052046\n",
      "Major Sentiment Change: Sample Size: 32\n"
     ]
    }
   ],
   "source": [
    "df1_Next_Day=df.loc[(df['Sentiment'] == 'Minor Buy (S)') | (df['Sentiment'] == 'Minor Sell (S)')]\n",
    "df2_Next_Day=df.loc[(df['Sentiment'] == 'Moderate Buy (S)') | (df['Sentiment'] == 'Moderate Sell (S)')]\n",
    "df3_Next_Day=df.loc[(df['Sentiment'] == 'Major Buy (S)') | (df['Sentiment'] == 'Major Sell (S)')]\n",
    "\n",
    "s,pp=scipy.stats.kendalltau(df1_Next_Day.Log_Sentiment_Buys_pct_change, df1_Next_Day.Next_Days_Log_Open_pct_change)\n",
    "print('Minor Sentiment Change: Kendall-Tau Correlation S Value: ' + str(s))\n",
    "print('Minor Sentiment Change: Kendall-Tau Correlation P Value: ' + str(pp))\n",
    "print('Minor Sentiment Change: Sample Size: ' + str(df1_Next_Day.shape[0]))\n",
    "print('------------------------------------------------------------')\n",
    "s1,pp1=scipy.stats.kendalltau(df2_Next_Day.Log_Sentiment_Buys_pct_change, df2_Next_Day.Next_Days_Log_Open_pct_change)\n",
    "print('Moderate Sentiment Change: Kendall-Tau Correlation S Value: ' + str(s1))\n",
    "print('Moderate Sentiment Change: Kendall-Tau Correlation P Value: ' + str(pp1))\n",
    "print('Moderate Sentiment Change: Sample Size: ' + str(df2_Next_Day.shape[0]))\n",
    "print('------------------------------------------------------------')\n",
    "s2,pp2=scipy.stats.kendalltau(df3_Next_Day.Log_Sentiment_Buys_pct_change, df3_Next_Day.Next_Days_Log_Open_pct_change)\n",
    "print('Major Sentiment Change: Kendall-Tau Correlation S Value: ' + str(s2))\n",
    "print('Major Sentiment Change: Kendall-Tau Correlation P Value: ' + str(pp2))\n",
    "print('Major Sentiment Change: Sample Size: ' + str(df3_Next_Day.shape[0]))"
   ]
  },
  {
   "cell_type": "markdown",
   "id": "6b718bd6",
   "metadata": {},
   "source": [
    "No statistically significant correlations found. Next we investigate our price-change sub-groups. "
   ]
  },
  {
   "cell_type": "markdown",
   "id": "f11584e3",
   "metadata": {},
   "source": [
    "### Correlation: Different Sentiment Groups and Price Change: Tight Ranges"
   ]
  },
  {
   "cell_type": "code",
   "execution_count": 27,
   "id": "3cb460eb",
   "metadata": {},
   "outputs": [
    {
     "name": "stdout",
     "output_type": "stream",
     "text": [
      "Minor Sentiment Change: Kendall-Tau Correlation S Value: 0.25781624382626805\n",
      "Minor Sentiment Change: Kendall-Tau Correlation P Value: 0.028051404833946303\n",
      "Minor Sentiment Change: Sample Size: 36\n",
      "------------------------------------------------------------\n",
      "Moderate Sentiment Change: Kendall-Tau Correlation S Value: 0.19138975058773822\n",
      "Moderate Sentiment Change: Kendall-Tau Correlation P Value: 0.3217063432062476\n",
      "Moderate Sentiment Change: Sample Size: 15\n",
      "------------------------------------------------------------\n",
      "Major Sentiment Change: Kendall-Tau Correlation S Value: 1.0\n",
      "Major Sentiment Change: Kendall-Tau Correlation P Value: 1.0\n",
      "Major Sentiment Change: Sample Size: 2\n"
     ]
    }
   ],
   "source": [
    "dfRange=df.loc[(df['TightRange'] == 'Yes')]\n",
    "\n",
    "df1TR=dfRange.loc[(dfRange['Sentiment'] == 'Minor Buy (S)') | (dfRange['Sentiment'] == 'Minor Sell (S)')]\n",
    "df2TR=dfRange.loc[(dfRange['Sentiment'] == 'Moderate Buy (S)') | (dfRange['Sentiment'] == 'Moderate Sell (S)')]\n",
    "df3TR=dfRange.loc[(dfRange['Sentiment'] == 'Major Buy (S)') | (dfRange['Sentiment'] == 'Major Sell (S)')]\n",
    "\n",
    "s,pp=scipy.stats.kendalltau(df1TR.Log_Sentiment_Buys_pct_change, df1TR.Next_Days_Log_Open_pct_change)\n",
    "print('Minor Sentiment Change: Kendall-Tau Correlation S Value: ' + str(s))\n",
    "print('Minor Sentiment Change: Kendall-Tau Correlation P Value: ' + str(pp))\n",
    "print('Minor Sentiment Change: Sample Size: ' + str(df1TR.shape[0]))\n",
    "print('------------------------------------------------------------')\n",
    "s1,pp1=scipy.stats.kendalltau(df2TR.Log_Sentiment_Buys_pct_change, df2TR.Next_Days_Log_Open_pct_change)\n",
    "print('Moderate Sentiment Change: Kendall-Tau Correlation S Value: ' + str(s1))\n",
    "print('Moderate Sentiment Change: Kendall-Tau Correlation P Value: ' + str(pp1))\n",
    "print('Moderate Sentiment Change: Sample Size: ' + str(df2TR.shape[0]))\n",
    "print('------------------------------------------------------------')\n",
    "s2,pp2=scipy.stats.kendalltau(df3TR.Log_Sentiment_Buys_pct_change, df3TR.Next_Days_Log_Open_pct_change)\n",
    "print('Major Sentiment Change: Kendall-Tau Correlation S Value: ' + str(s2))\n",
    "print('Major Sentiment Change: Kendall-Tau Correlation P Value: ' + str(pp2))\n",
    "print('Major Sentiment Change: Sample Size: ' + str(df3TR.shape[0]))"
   ]
  },
  {
   "cell_type": "markdown",
   "id": "bec0e066",
   "metadata": {},
   "source": [
    "With Tight Daily Range, we don't have enough N for moderate and major sentiment changes for any meaningful testing. However with minor sentiment change, we find a meaningful correlation to the next day's price change (S=0.25, P=0.028, N=36)."
   ]
  },
  {
   "cell_type": "markdown",
   "id": "a9803c80",
   "metadata": {},
   "source": [
    "### Correlation: Different Sentiment Groups and Price Change: Average Ranges"
   ]
  },
  {
   "cell_type": "code",
   "execution_count": 28,
   "id": "6152ef92",
   "metadata": {},
   "outputs": [
    {
     "name": "stdout",
     "output_type": "stream",
     "text": [
      "Minor Sentiment Change: Kendall-Tau Correlation S Value: 0.006184276228293509\n",
      "Minor Sentiment Change: Kendall-Tau Correlation P Value: 0.8574336958134906\n",
      "Minor Sentiment Change: Sample Size: 387\n",
      "------------------------------------------------------------\n",
      "Moderate Sentiment Change: Kendall-Tau Correlation S Value: 0.04050452660282143\n",
      "Moderate Sentiment Change: Kendall-Tau Correlation P Value: 0.5361059414663265\n",
      "Moderate Sentiment Change: Sample Size: 108\n",
      "------------------------------------------------------------\n",
      "Major Sentiment Change: Kendall-Tau Correlation S Value: 0.3122529644268775\n",
      "Major Sentiment Change: Kendall-Tau Correlation P Value: 0.038351323943696045\n",
      "Major Sentiment Change: Sample Size: 23\n"
     ]
    }
   ],
   "source": [
    "dfRange=df.loc[(df['AverageRange'] == 'Yes')]\n",
    "\n",
    "df1AR=dfRange.loc[(dfRange['Sentiment'] == 'Minor Buy (S)') | (dfRange['Sentiment'] == 'Minor Sell (S)')]\n",
    "df2AR=dfRange.loc[(dfRange['Sentiment'] == 'Moderate Buy (S)') | (dfRange['Sentiment'] == 'Moderate Sell (S)')]\n",
    "df3AR=dfRange.loc[(dfRange['Sentiment'] == 'Major Buy (S)') | (dfRange['Sentiment'] == 'Major Sell (S)')]\n",
    "\n",
    "s,pp=scipy.stats.kendalltau(df1AR.Log_Sentiment_Buys_pct_change, df1AR.Next_Days_Log_Open_pct_change)\n",
    "print('Minor Sentiment Change: Kendall-Tau Correlation S Value: ' + str(s))\n",
    "print('Minor Sentiment Change: Kendall-Tau Correlation P Value: ' + str(pp))\n",
    "print('Minor Sentiment Change: Sample Size: ' + str(df1AR.shape[0]))\n",
    "print('------------------------------------------------------------')\n",
    "s1,pp1=scipy.stats.kendalltau(df2AR.Log_Sentiment_Buys_pct_change, df2AR.Next_Days_Log_Open_pct_change)\n",
    "print('Moderate Sentiment Change: Kendall-Tau Correlation S Value: ' + str(s1))\n",
    "print('Moderate Sentiment Change: Kendall-Tau Correlation P Value: ' + str(pp1))\n",
    "print('Moderate Sentiment Change: Sample Size: ' + str(df2AR.shape[0]))\n",
    "print('------------------------------------------------------------')\n",
    "s2,pp2=scipy.stats.kendalltau(df3AR.Log_Sentiment_Buys_pct_change, df3AR.Next_Days_Log_Open_pct_change)\n",
    "print('Major Sentiment Change: Kendall-Tau Correlation S Value: ' + str(s2))\n",
    "print('Major Sentiment Change: Kendall-Tau Correlation P Value: ' + str(pp2))\n",
    "print('Major Sentiment Change: Sample Size: ' + str(df3AR.shape[0]))"
   ]
  },
  {
   "cell_type": "markdown",
   "id": "cf636d62",
   "metadata": {},
   "source": [
    "With Average Daily Range, mild and moderate sentiment change is not correlative with next day price change (P=0.82 and 0.54 \n",
    "respectively). However there is a moderate correlation with major sentiment change (S=0.31, P=0.38, N=23)."
   ]
  },
  {
   "cell_type": "markdown",
   "id": "2c2337a9",
   "metadata": {},
   "source": [
    "### Correlation: Different Sentiment Groups and Price Change: Wide Ranges"
   ]
  },
  {
   "cell_type": "code",
   "execution_count": 29,
   "id": "036da4b9",
   "metadata": {},
   "outputs": [
    {
     "name": "stdout",
     "output_type": "stream",
     "text": [
      "Minor Sentiment Change: Kendall-Tau Correlation S Value: -0.047221137454355744\n",
      "Minor Sentiment Change: Kendall-Tau Correlation P Value: 0.5737791331833589\n",
      "Minor Sentiment Change: Sample Size: 68\n",
      "------------------------------------------------------------\n",
      "Moderate Sentiment Change: Kendall-Tau Correlation S Value: -0.04012364789925056\n",
      "Moderate Sentiment Change: Kendall-Tau Correlation P Value: 0.7743577578004968\n",
      "Moderate Sentiment Change: Sample Size: 26\n",
      "------------------------------------------------------------\n",
      "Major Sentiment Change: Kendall-Tau Correlation S Value: -0.23809523809523814\n",
      "Major Sentiment Change: Kendall-Tau Correlation P Value: 0.5619047619047619\n",
      "Major Sentiment Change: Sample Size: 7\n"
     ]
    }
   ],
   "source": [
    "dfRange=df.loc[(df['WideRange'] == 'Yes')]\n",
    "\n",
    "df1WR=dfRange.loc[(dfRange['Sentiment'] == 'Minor Buy (S)') | (dfRange['Sentiment'] == 'Minor Sell (S)')]\n",
    "df2WR=dfRange.loc[(dfRange['Sentiment'] == 'Moderate Buy (S)') | (dfRange['Sentiment'] == 'Moderate Sell (S)')]\n",
    "df3WR=dfRange.loc[(dfRange['Sentiment'] == 'Major Buy (S)') | (dfRange['Sentiment'] == 'Major Sell (S)')]\n",
    "\n",
    "s,pp=scipy.stats.kendalltau(df1WR.Log_Sentiment_Buys_pct_change, df1WR.Next_Days_Log_Open_pct_change)\n",
    "print('Minor Sentiment Change: Kendall-Tau Correlation S Value: ' + str(s))\n",
    "print('Minor Sentiment Change: Kendall-Tau Correlation P Value: ' + str(pp))\n",
    "print('Minor Sentiment Change: Sample Size: ' + str(df1WR.shape[0]))\n",
    "print('------------------------------------------------------------')\n",
    "s1,pp1=scipy.stats.kendalltau(df2WR.Log_Sentiment_Buys_pct_change, df2WR.Next_Days_Log_Open_pct_change)\n",
    "print('Moderate Sentiment Change: Kendall-Tau Correlation S Value: ' + str(s1))\n",
    "print('Moderate Sentiment Change: Kendall-Tau Correlation P Value: ' + str(pp1))\n",
    "print('Moderate Sentiment Change: Sample Size: ' + str(df2WR.shape[0]))\n",
    "print('------------------------------------------------------------')\n",
    "s2,pp2=scipy.stats.kendalltau(df3WR.Log_Sentiment_Buys_pct_change, df3WR.Next_Days_Log_Open_pct_change)\n",
    "print('Major Sentiment Change: Kendall-Tau Correlation S Value: ' + str(s2))\n",
    "print('Major Sentiment Change: Kendall-Tau Correlation P Value: ' + str(pp2))\n",
    "print('Major Sentiment Change: Sample Size: ' + str(df3WR.shape[0]))"
   ]
  },
  {
   "cell_type": "markdown",
   "id": "7c40d9d9",
   "metadata": {},
   "source": [
    "With Wide Daily Range, no statistically significant correlations are found. "
   ]
  },
  {
   "cell_type": "markdown",
   "id": "4080139b",
   "metadata": {},
   "source": [
    "# 6. Conclusion\n",
    "\n",
    "We found sentiment can serve as a weak lagging indicator of price change with it's correlative power increasing as sentiment change increases. We also found sentiment could potentially serve as a weak-moderate leading indicator for next day's price change in instances of a Tight Daily Range + Minor Sentiment Change and Average Daily Range + Major Sentiment Change however more evidence is required.\n"
   ]
  },
  {
   "cell_type": "markdown",
   "id": "37245abe",
   "metadata": {},
   "source": [
    "## 6.1. Limitations\n",
    "### Small Sample Sizes: \n",
    "\n",
    "The correlations we found with Tight Daily Range + Minor Sentiment Change and Average Daily Range + Major Sentiment Change with\n",
    "next day price change have N's of 36 and 23 respectively. The minimum sample size required in Kendall-Tau tests (for 90% confidence interval) is ~70 (Bonett & Wright, 2000). Thus further results are needed before conclusively accepting these correlations. Investigating if other currency pairs return similar results would also offer further confidence.\n",
    "\n",
    "\n",
    "Due to retail sentiment data being a recent phenomenon, there simply aren't enough data points yet. \n",
    "\n",
    "### Lower P Threshhold for Sentiment and Price Change Correlation Test:\n",
    "\n",
    "Generally speaking, a P-value of 0.05 is considered the cut-off between statistical significance/insignificance. However this threshhold is somewhat \"arbitrary\" and can be adjusted dependent on objective (Betensky, 2018). We believe our work qualifies for lowering the threshhold for the following reasons:\n",
    "\n",
    "- This work isn't an academic endeavour. In an attempt to find edges in the financial markets, we believe lowering the P threshold is a neccessity since the domain is notoriously 'efficient' by nature (Boyle, 2022). \n",
    "\n",
    "-  As N decreases, P accuracy lessens (Bonett & Wright, 2000). When running our tests on all of our data (larger N), \n",
    "our P-value was <.05. It's only when lessening our sample sizes did we fail to hit this threshold. This means our higher P-value could potentially be attributed to small sample size contribruting to P-value inaccuracy.\n",
    "\n",
    "- Our P-value for minor sentiment change is .34 however, our P-value for moderate and major sentiment change is <.1.\n",
    "Meaning in relative terms, our P-values are clearly converging toward <0.05 as sentiment moves away from the mean. "
   ]
  },
  {
   "cell_type": "markdown",
   "id": "71615afe",
   "metadata": {},
   "source": [
    "## 6.2. Further Investigation\n",
    "\n",
    "Collecting more data (N) to satisfy minimum sample size requirement for Kendall-Tau correlation test. <br>\n",
    "Investigating other markets for similar results. <br>\n",
    "Adding further co-variables (momentum, seasonality, economic events etc.).<br>"
   ]
  },
  {
   "cell_type": "markdown",
   "id": "5b77aea1",
   "metadata": {},
   "source": [
    "## 7. Sources\n",
    "\n",
    "Betensky, R (2018). The p-Value Requires Context, Not a Threshold. The American Statistician, (73), 115-117. <br>\n",
    "Boyle, M (2022). Market Efficiency Explained: Differing Opinions and Examples. https://www.investopedia.com/terms/m/marketefficiency.asp <br>\n",
    "Bonett, D. G., & Wright, T. A. (2000). Sample size requirements for estimating Pearson, Kendall and Spearman correlations. Psychometrika, 65(1), 23-28. <br>\n",
    "Ghasemi, A., & Zahediasl, S. (2012). Normality Tests for Statistical Analysis: A Guide for Non-Statisticians. Int J Endocrinol Metab, 10(2), 486–489. <br>\n",
    "Glen, S. (n.d). Z score to Percentile / Percentile to Z Score (Calculator). https://www.statisticshowto.com/probability-and-statistics/find-critical-values/percentile-z-score/. <br>\n",
    "Mircioiu, C., Atkinson, J. (2017). A Comparison of Parametric and Non-Parametric Methods Applied to a Likert Scale, Pharmacy (Basel), 5(2), 26. <br>\n",
    "Rousseeuw, P., Hubert, M. (2011). Robust statistics for outlier detection, Wiley Interdisciplinary Reviews, 1(1), 73-79. <br>\n",
    "Schober, P.,  Boer, C.,  Schwarte, Lothar A. (2018). Correlation Coefficients: Appropriate Use and Interpretation, Anesthesia & Analgesia, 126(5), 1763-1768. <br>\n",
    "West, R. (2021). Best practice in statistics: The use of log transformation, Annual Clinical Biochemistry, 59(3), 162–165. <br>"
   ]
  }
 ],
 "metadata": {
  "kernelspec": {
   "display_name": "Python 3 (ipykernel)",
   "language": "python",
   "name": "python3"
  },
  "language_info": {
   "codemirror_mode": {
    "name": "ipython",
    "version": 3
   },
   "file_extension": ".py",
   "mimetype": "text/x-python",
   "name": "python",
   "nbconvert_exporter": "python",
   "pygments_lexer": "ipython3",
   "version": "3.9.12"
  }
 },
 "nbformat": 4,
 "nbformat_minor": 5
}
